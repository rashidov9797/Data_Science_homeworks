{
  "nbformat": 4,
  "nbformat_minor": 0,
  "metadata": {
    "colab": {
      "name": "DF-pandas-3-amaliyot.ipynb",
      "provenance": []
    },
    "kernelspec": {
      "name": "python3",
      "display_name": "Python 3"
    },
    "language_info": {
      "name": "python"
    }
  },
  "cells": [
    {
      "cell_type": "markdown",
      "metadata": {
        "id": "poH5phdmhSLa"
      },
      "source": [
        "# ![Imgur](https://i.imgur.com/5pXzCIu.png)\n",
        "\n",
        "# **DATA SCIENCE VA SUN'IY INTELLEKT PRAKTIKUM**\n",
        "\n",
        "## Ma'lumotlar tahlili. Pandas kutubxonasi.\n",
        "\n",
        "# **AMALIYOT**\n",
        "## DataFrame ustida amallar"
      ]
    },
    {
      "cell_type": "markdown",
      "metadata": {
        "id": "FNLOb9yhxI0b"
      },
      "source": [
        "### **1-mashq**. `Pandas` kutubxonasini `pd`, `numpy` kutubxonasini `np` deb chaqirib oling"
      ]
    },
    {
      "cell_type": "code",
      "metadata": {
        "id": "GrbBfqRpxIFr"
      },
      "source": [
        "# Javobni shuyerga yozing\n",
        "import pandas as pd\n",
        "import numpy as np"
      ],
      "execution_count": 1,
      "outputs": []
    },
    {
      "cell_type": "code",
      "metadata": {
        "code_folding": [
          0
        ],
        "id": "24df0gBjIppl",
        "cellView": "form"
      },
      "source": [
        "#@title **To'g'ri javob**\n",
        "import pandas as pd\n",
        "import numpy as np"
      ],
      "execution_count": null,
      "outputs": []
    },
    {
      "cell_type": "markdown",
      "metadata": {
        "id": "c4SPeoLHh4tv"
      },
      "source": [
        "### Mashg'ulot uchun DF yuklab olamiz.\n",
        "Quyidagi kodni bajaring"
      ]
    },
    {
      "cell_type": "code",
      "metadata": {
        "id": "9HqD3ImWhmL5"
      },
      "source": [
        "df = pd.read_csv(\"https://raw.githubusercontent.com/anvarnarz/praktikum_datasets/main/usa_cars.csv\", index_col=0)"
      ],
      "execution_count": 2,
      "outputs": []
    },
    {
      "cell_type": "markdown",
      "metadata": {
        "id": "6QXG45J6jAa7"
      },
      "source": [
        "### **2-mashq.** DF hajmini chiqaring"
      ]
    },
    {
      "cell_type": "code",
      "metadata": {
        "id": "7OlZRDM8jFbF",
        "outputId": "5828e972-c46d-4cd3-ccb0-7cacf425684e",
        "colab": {
          "base_uri": "https://localhost:8080/"
        }
      },
      "source": [
        "# Javobni shuyerga yozing\n",
        "df.shape"
      ],
      "execution_count": 3,
      "outputs": [
        {
          "output_type": "execute_result",
          "data": {
            "text/plain": [
              "(2499, 12)"
            ]
          },
          "metadata": {},
          "execution_count": 3
        }
      ]
    },
    {
      "cell_type": "code",
      "metadata": {
        "colab": {
          "base_uri": "https://localhost:8080/"
        },
        "cellView": "form",
        "id": "hyTa78FKjH9U",
        "outputId": "35aa612c-dbfe-419e-ab3b-26b4825b1154"
      },
      "source": [
        "#@title To'g'ri javob\n",
        "df.shape"
      ],
      "execution_count": null,
      "outputs": [
        {
          "output_type": "execute_result",
          "data": {
            "text/plain": [
              "(2499, 12)"
            ]
          },
          "metadata": {},
          "execution_count": 65
        }
      ]
    },
    {
      "cell_type": "markdown",
      "metadata": {
        "id": "yzPsYM6qiE8D"
      },
      "source": [
        "### **3-mashq**. DF boshidan 6 ta qator chiqaring"
      ]
    },
    {
      "cell_type": "code",
      "metadata": {
        "id": "-dz8VMR3h0uv"
      },
      "source": [
        "# Javobni shuyerga yozing\n"
      ],
      "execution_count": null,
      "outputs": []
    },
    {
      "cell_type": "code",
      "metadata": {
        "colab": {
          "base_uri": "https://localhost:8080/",
          "height": 235
        },
        "cellView": "form",
        "id": "6nL9BlcUiN66",
        "outputId": "2656b938-4eed-457e-a1c9-da51a8109456"
      },
      "source": [
        "#@title To'g'ri javob\n",
        "df.head(6)"
      ],
      "execution_count": null,
      "outputs": [
        {
          "output_type": "execute_result",
          "data": {
            "text/html": [
              "<div>\n",
              "<style scoped>\n",
              "    .dataframe tbody tr th:only-of-type {\n",
              "        vertical-align: middle;\n",
              "    }\n",
              "\n",
              "    .dataframe tbody tr th {\n",
              "        vertical-align: top;\n",
              "    }\n",
              "\n",
              "    .dataframe thead th {\n",
              "        text-align: right;\n",
              "    }\n",
              "</style>\n",
              "<table border=\"1\" class=\"dataframe\">\n",
              "  <thead>\n",
              "    <tr style=\"text-align: right;\">\n",
              "      <th></th>\n",
              "      <th>price</th>\n",
              "      <th>brand</th>\n",
              "      <th>model</th>\n",
              "      <th>year</th>\n",
              "      <th>title_status</th>\n",
              "      <th>mileage</th>\n",
              "      <th>color</th>\n",
              "      <th>vin</th>\n",
              "      <th>lot</th>\n",
              "      <th>state</th>\n",
              "      <th>country</th>\n",
              "      <th>condition</th>\n",
              "    </tr>\n",
              "  </thead>\n",
              "  <tbody>\n",
              "    <tr>\n",
              "      <th>0</th>\n",
              "      <td>6300</td>\n",
              "      <td>toyota</td>\n",
              "      <td>cruiser</td>\n",
              "      <td>2008</td>\n",
              "      <td>clean vehicle</td>\n",
              "      <td>274117</td>\n",
              "      <td>black</td>\n",
              "      <td>jtezu11f88k007763</td>\n",
              "      <td>159348797</td>\n",
              "      <td>new jersey</td>\n",
              "      <td>usa</td>\n",
              "      <td>10 days left</td>\n",
              "    </tr>\n",
              "    <tr>\n",
              "      <th>1</th>\n",
              "      <td>2899</td>\n",
              "      <td>ford</td>\n",
              "      <td>se</td>\n",
              "      <td>2011</td>\n",
              "      <td>clean vehicle</td>\n",
              "      <td>190552</td>\n",
              "      <td>silver</td>\n",
              "      <td>2fmdk3gc4bbb02217</td>\n",
              "      <td>166951262</td>\n",
              "      <td>tennessee</td>\n",
              "      <td>usa</td>\n",
              "      <td>6 days left</td>\n",
              "    </tr>\n",
              "    <tr>\n",
              "      <th>2</th>\n",
              "      <td>5350</td>\n",
              "      <td>dodge</td>\n",
              "      <td>mpv</td>\n",
              "      <td>2018</td>\n",
              "      <td>clean vehicle</td>\n",
              "      <td>39590</td>\n",
              "      <td>silver</td>\n",
              "      <td>3c4pdcgg5jt346413</td>\n",
              "      <td>167655728</td>\n",
              "      <td>georgia</td>\n",
              "      <td>usa</td>\n",
              "      <td>2 days left</td>\n",
              "    </tr>\n",
              "    <tr>\n",
              "      <th>3</th>\n",
              "      <td>25000</td>\n",
              "      <td>ford</td>\n",
              "      <td>door</td>\n",
              "      <td>2014</td>\n",
              "      <td>clean vehicle</td>\n",
              "      <td>64146</td>\n",
              "      <td>blue</td>\n",
              "      <td>1ftfw1et4efc23745</td>\n",
              "      <td>167753855</td>\n",
              "      <td>virginia</td>\n",
              "      <td>usa</td>\n",
              "      <td>22 hours left</td>\n",
              "    </tr>\n",
              "    <tr>\n",
              "      <th>4</th>\n",
              "      <td>27700</td>\n",
              "      <td>chevrolet</td>\n",
              "      <td>1500</td>\n",
              "      <td>2018</td>\n",
              "      <td>clean vehicle</td>\n",
              "      <td>6654</td>\n",
              "      <td>red</td>\n",
              "      <td>3gcpcrec2jg473991</td>\n",
              "      <td>167763266</td>\n",
              "      <td>florida</td>\n",
              "      <td>usa</td>\n",
              "      <td>22 hours left</td>\n",
              "    </tr>\n",
              "    <tr>\n",
              "      <th>5</th>\n",
              "      <td>5700</td>\n",
              "      <td>dodge</td>\n",
              "      <td>mpv</td>\n",
              "      <td>2018</td>\n",
              "      <td>clean vehicle</td>\n",
              "      <td>45561</td>\n",
              "      <td>white</td>\n",
              "      <td>2c4rdgeg9jr237989</td>\n",
              "      <td>167655771</td>\n",
              "      <td>texas</td>\n",
              "      <td>usa</td>\n",
              "      <td>2 days left</td>\n",
              "    </tr>\n",
              "  </tbody>\n",
              "</table>\n",
              "</div>"
            ],
            "text/plain": [
              "   price      brand    model  ...       state country      condition\n",
              "0   6300     toyota  cruiser  ...  new jersey     usa   10 days left\n",
              "1   2899       ford       se  ...   tennessee     usa    6 days left\n",
              "2   5350      dodge      mpv  ...     georgia     usa    2 days left\n",
              "3  25000       ford     door  ...    virginia     usa  22 hours left\n",
              "4  27700  chevrolet     1500  ...     florida     usa  22 hours left\n",
              "5   5700      dodge      mpv  ...       texas     usa    2 days left\n",
              "\n",
              "[6 rows x 12 columns]"
            ]
          },
          "metadata": {},
          "execution_count": 67
        }
      ]
    },
    {
      "cell_type": "markdown",
      "metadata": {
        "id": "L6SCYPfqisQI"
      },
      "source": [
        "### **4-mashq.** DF oxiridan 5 ta qator chiqaring"
      ]
    },
    {
      "cell_type": "code",
      "metadata": {
        "id": "GbY-WoLriSU-"
      },
      "source": [
        "# Javobni shuyerga yozing\n"
      ],
      "execution_count": null,
      "outputs": []
    },
    {
      "cell_type": "code",
      "metadata": {
        "colab": {
          "base_uri": "https://localhost:8080/",
          "height": 204
        },
        "cellView": "form",
        "id": "QzP3PeuYiz3w",
        "outputId": "8fac2b10-33cd-4f53-98b7-f9efe5b14cfc"
      },
      "source": [
        "#@title To'g'ri javob\n",
        "df.tail()"
      ],
      "execution_count": null,
      "outputs": [
        {
          "output_type": "execute_result",
          "data": {
            "text/html": [
              "<div>\n",
              "<style scoped>\n",
              "    .dataframe tbody tr th:only-of-type {\n",
              "        vertical-align: middle;\n",
              "    }\n",
              "\n",
              "    .dataframe tbody tr th {\n",
              "        vertical-align: top;\n",
              "    }\n",
              "\n",
              "    .dataframe thead th {\n",
              "        text-align: right;\n",
              "    }\n",
              "</style>\n",
              "<table border=\"1\" class=\"dataframe\">\n",
              "  <thead>\n",
              "    <tr style=\"text-align: right;\">\n",
              "      <th></th>\n",
              "      <th>price</th>\n",
              "      <th>brand</th>\n",
              "      <th>model</th>\n",
              "      <th>year</th>\n",
              "      <th>title_status</th>\n",
              "      <th>mileage</th>\n",
              "      <th>color</th>\n",
              "      <th>vin</th>\n",
              "      <th>lot</th>\n",
              "      <th>state</th>\n",
              "      <th>country</th>\n",
              "      <th>condition</th>\n",
              "    </tr>\n",
              "  </thead>\n",
              "  <tbody>\n",
              "    <tr>\n",
              "      <th>2494</th>\n",
              "      <td>7800</td>\n",
              "      <td>nissan</td>\n",
              "      <td>versa</td>\n",
              "      <td>2019</td>\n",
              "      <td>clean vehicle</td>\n",
              "      <td>23609</td>\n",
              "      <td>red</td>\n",
              "      <td>3n1cn7ap9kl880319</td>\n",
              "      <td>167722715</td>\n",
              "      <td>california</td>\n",
              "      <td>usa</td>\n",
              "      <td>1 days left</td>\n",
              "    </tr>\n",
              "    <tr>\n",
              "      <th>2495</th>\n",
              "      <td>9200</td>\n",
              "      <td>nissan</td>\n",
              "      <td>versa</td>\n",
              "      <td>2018</td>\n",
              "      <td>clean vehicle</td>\n",
              "      <td>34553</td>\n",
              "      <td>silver</td>\n",
              "      <td>3n1cn7ap5jl884088</td>\n",
              "      <td>167762225</td>\n",
              "      <td>florida</td>\n",
              "      <td>usa</td>\n",
              "      <td>21 hours left</td>\n",
              "    </tr>\n",
              "    <tr>\n",
              "      <th>2496</th>\n",
              "      <td>9200</td>\n",
              "      <td>nissan</td>\n",
              "      <td>versa</td>\n",
              "      <td>2018</td>\n",
              "      <td>clean vehicle</td>\n",
              "      <td>31594</td>\n",
              "      <td>silver</td>\n",
              "      <td>3n1cn7ap9jl884191</td>\n",
              "      <td>167762226</td>\n",
              "      <td>florida</td>\n",
              "      <td>usa</td>\n",
              "      <td>21 hours left</td>\n",
              "    </tr>\n",
              "    <tr>\n",
              "      <th>2497</th>\n",
              "      <td>9200</td>\n",
              "      <td>nissan</td>\n",
              "      <td>versa</td>\n",
              "      <td>2018</td>\n",
              "      <td>clean vehicle</td>\n",
              "      <td>32557</td>\n",
              "      <td>black</td>\n",
              "      <td>3n1cn7ap3jl883263</td>\n",
              "      <td>167762227</td>\n",
              "      <td>florida</td>\n",
              "      <td>usa</td>\n",
              "      <td>2 days left</td>\n",
              "    </tr>\n",
              "    <tr>\n",
              "      <th>2498</th>\n",
              "      <td>9200</td>\n",
              "      <td>nissan</td>\n",
              "      <td>versa</td>\n",
              "      <td>2018</td>\n",
              "      <td>clean vehicle</td>\n",
              "      <td>31371</td>\n",
              "      <td>silver</td>\n",
              "      <td>3n1cn7ap4jl884311</td>\n",
              "      <td>167762228</td>\n",
              "      <td>florida</td>\n",
              "      <td>usa</td>\n",
              "      <td>21 hours left</td>\n",
              "    </tr>\n",
              "  </tbody>\n",
              "</table>\n",
              "</div>"
            ],
            "text/plain": [
              "      price   brand  model  year  ...        lot       state country      condition\n",
              "2494   7800  nissan  versa  2019  ...  167722715  california     usa    1 days left\n",
              "2495   9200  nissan  versa  2018  ...  167762225     florida     usa  21 hours left\n",
              "2496   9200  nissan  versa  2018  ...  167762226     florida     usa  21 hours left\n",
              "2497   9200  nissan  versa  2018  ...  167762227     florida     usa    2 days left\n",
              "2498   9200  nissan  versa  2018  ...  167762228     florida     usa  21 hours left\n",
              "\n",
              "[5 rows x 12 columns]"
            ]
          },
          "metadata": {},
          "execution_count": 69
        }
      ]
    },
    {
      "cell_type": "markdown",
      "metadata": {
        "id": "OZdvX0JlkXPs"
      },
      "source": [
        "### **5-mashq**. DF ni yili `year` bo'yicha tartiblab chiqaring"
      ]
    },
    {
      "cell_type": "code",
      "metadata": {
        "id": "7iirb0FVldRe",
        "outputId": "e83181c9-2b3a-4783-9379-3f7ae0df08a5",
        "colab": {
          "base_uri": "https://localhost:8080/",
          "height": 423
        }
      },
      "source": [
        "# Javobni shuyerga yozing\n",
        "df.sort_values(by='year')"
      ],
      "execution_count": 4,
      "outputs": [
        {
          "output_type": "execute_result",
          "data": {
            "text/html": [
              "<div>\n",
              "<style scoped>\n",
              "    .dataframe tbody tr th:only-of-type {\n",
              "        vertical-align: middle;\n",
              "    }\n",
              "\n",
              "    .dataframe tbody tr th {\n",
              "        vertical-align: top;\n",
              "    }\n",
              "\n",
              "    .dataframe thead th {\n",
              "        text-align: right;\n",
              "    }\n",
              "</style>\n",
              "<table border=\"1\" class=\"dataframe\">\n",
              "  <thead>\n",
              "    <tr style=\"text-align: right;\">\n",
              "      <th></th>\n",
              "      <th>price</th>\n",
              "      <th>brand</th>\n",
              "      <th>model</th>\n",
              "      <th>year</th>\n",
              "      <th>title_status</th>\n",
              "      <th>mileage</th>\n",
              "      <th>color</th>\n",
              "      <th>vin</th>\n",
              "      <th>lot</th>\n",
              "      <th>state</th>\n",
              "      <th>country</th>\n",
              "      <th>condition</th>\n",
              "    </tr>\n",
              "  </thead>\n",
              "  <tbody>\n",
              "    <tr>\n",
              "      <th>32</th>\n",
              "      <td>29800</td>\n",
              "      <td>chevrolet</td>\n",
              "      <td>camaro</td>\n",
              "      <td>1973</td>\n",
              "      <td>clean vehicle</td>\n",
              "      <td>46226</td>\n",
              "      <td>red</td>\n",
              "      <td>1q87t3n166389</td>\n",
              "      <td>167763370</td>\n",
              "      <td>pennsylvania</td>\n",
              "      <td>usa</td>\n",
              "      <td>22 hours left</td>\n",
              "    </tr>\n",
              "    <tr>\n",
              "      <th>405</th>\n",
              "      <td>25</td>\n",
              "      <td>ford</td>\n",
              "      <td>door</td>\n",
              "      <td>1984</td>\n",
              "      <td>salvage insurance</td>\n",
              "      <td>41577</td>\n",
              "      <td>white</td>\n",
              "      <td>2ftcf15y9eca14589</td>\n",
              "      <td>167611661</td>\n",
              "      <td>arkansas</td>\n",
              "      <td>usa</td>\n",
              "      <td>17 hours left</td>\n",
              "    </tr>\n",
              "    <tr>\n",
              "      <th>545</th>\n",
              "      <td>0</td>\n",
              "      <td>gmc</td>\n",
              "      <td>door</td>\n",
              "      <td>1993</td>\n",
              "      <td>salvage insurance</td>\n",
              "      <td>0</td>\n",
              "      <td>light blue</td>\n",
              "      <td>1gkfk16k5pj701631</td>\n",
              "      <td>167358601</td>\n",
              "      <td>colorado</td>\n",
              "      <td>usa</td>\n",
              "      <td>18 hours left</td>\n",
              "    </tr>\n",
              "    <tr>\n",
              "      <th>362</th>\n",
              "      <td>25</td>\n",
              "      <td>ford</td>\n",
              "      <td>pickup</td>\n",
              "      <td>1994</td>\n",
              "      <td>salvage insurance</td>\n",
              "      <td>206162</td>\n",
              "      <td>white</td>\n",
              "      <td>1ftdf15y2rnb12612</td>\n",
              "      <td>167361489</td>\n",
              "      <td>georgia</td>\n",
              "      <td>usa</td>\n",
              "      <td>2 days left</td>\n",
              "    </tr>\n",
              "    <tr>\n",
              "      <th>322</th>\n",
              "      <td>0</td>\n",
              "      <td>ford</td>\n",
              "      <td>chassis</td>\n",
              "      <td>1994</td>\n",
              "      <td>salvage insurance</td>\n",
              "      <td>0</td>\n",
              "      <td>green</td>\n",
              "      <td>1fdee14n7rha47894</td>\n",
              "      <td>167359174</td>\n",
              "      <td>california</td>\n",
              "      <td>usa</td>\n",
              "      <td>19 hours left</td>\n",
              "    </tr>\n",
              "    <tr>\n",
              "      <th>...</th>\n",
              "      <td>...</td>\n",
              "      <td>...</td>\n",
              "      <td>...</td>\n",
              "      <td>...</td>\n",
              "      <td>...</td>\n",
              "      <td>...</td>\n",
              "      <td>...</td>\n",
              "      <td>...</td>\n",
              "      <td>...</td>\n",
              "      <td>...</td>\n",
              "      <td>...</td>\n",
              "      <td>...</td>\n",
              "    </tr>\n",
              "    <tr>\n",
              "      <th>426</th>\n",
              "      <td>55600</td>\n",
              "      <td>lexus</td>\n",
              "      <td>gx</td>\n",
              "      <td>2020</td>\n",
              "      <td>clean vehicle</td>\n",
              "      <td>8186</td>\n",
              "      <td>silver</td>\n",
              "      <td>jtjam7bx4l5251250</td>\n",
              "      <td>167605747</td>\n",
              "      <td>florida</td>\n",
              "      <td>usa</td>\n",
              "      <td>2 days left</td>\n",
              "    </tr>\n",
              "    <tr>\n",
              "      <th>806</th>\n",
              "      <td>28300</td>\n",
              "      <td>chevrolet</td>\n",
              "      <td>colorado</td>\n",
              "      <td>2020</td>\n",
              "      <td>clean vehicle</td>\n",
              "      <td>13886</td>\n",
              "      <td>silver</td>\n",
              "      <td>1gcgtcen7l1101496</td>\n",
              "      <td>167805497</td>\n",
              "      <td>indiana</td>\n",
              "      <td>usa</td>\n",
              "      <td>2 days left</td>\n",
              "    </tr>\n",
              "    <tr>\n",
              "      <th>2322</th>\n",
              "      <td>15000</td>\n",
              "      <td>nissan</td>\n",
              "      <td>altima</td>\n",
              "      <td>2020</td>\n",
              "      <td>clean vehicle</td>\n",
              "      <td>14320</td>\n",
              "      <td>blue</td>\n",
              "      <td>1n4bl4cv4lc134145</td>\n",
              "      <td>167656212</td>\n",
              "      <td>ohio</td>\n",
              "      <td>usa</td>\n",
              "      <td>2 days left</td>\n",
              "    </tr>\n",
              "    <tr>\n",
              "      <th>2344</th>\n",
              "      <td>20100</td>\n",
              "      <td>nissan</td>\n",
              "      <td>rogue</td>\n",
              "      <td>2020</td>\n",
              "      <td>clean vehicle</td>\n",
              "      <td>10875</td>\n",
              "      <td>blue</td>\n",
              "      <td>jn8at2mvxlw103235</td>\n",
              "      <td>167614842</td>\n",
              "      <td>minnesota</td>\n",
              "      <td>usa</td>\n",
              "      <td>14 hours left</td>\n",
              "    </tr>\n",
              "    <tr>\n",
              "      <th>1388</th>\n",
              "      <td>17000</td>\n",
              "      <td>ford</td>\n",
              "      <td>fusion</td>\n",
              "      <td>2020</td>\n",
              "      <td>clean vehicle</td>\n",
              "      <td>1117</td>\n",
              "      <td>gray</td>\n",
              "      <td>3fa6p0d98lr194138</td>\n",
              "      <td>167742945</td>\n",
              "      <td>pennsylvania</td>\n",
              "      <td>usa</td>\n",
              "      <td>2 days left</td>\n",
              "    </tr>\n",
              "  </tbody>\n",
              "</table>\n",
              "<p>2499 rows × 12 columns</p>\n",
              "</div>"
            ],
            "text/plain": [
              "      price      brand     model  ...         state country      condition\n",
              "32    29800  chevrolet    camaro  ...  pennsylvania     usa  22 hours left\n",
              "405      25       ford      door  ...      arkansas     usa  17 hours left\n",
              "545       0        gmc      door  ...      colorado     usa  18 hours left\n",
              "362      25       ford    pickup  ...       georgia     usa    2 days left\n",
              "322       0       ford   chassis  ...    california     usa  19 hours left\n",
              "...     ...        ...       ...  ...           ...     ...            ...\n",
              "426   55600      lexus        gx  ...       florida     usa    2 days left\n",
              "806   28300  chevrolet  colorado  ...       indiana     usa    2 days left\n",
              "2322  15000     nissan    altima  ...          ohio     usa    2 days left\n",
              "2344  20100     nissan     rogue  ...     minnesota     usa  14 hours left\n",
              "1388  17000       ford    fusion  ...  pennsylvania     usa    2 days left\n",
              "\n",
              "[2499 rows x 12 columns]"
            ]
          },
          "metadata": {},
          "execution_count": 4
        }
      ]
    },
    {
      "cell_type": "code",
      "metadata": {
        "colab": {
          "base_uri": "https://localhost:8080/",
          "height": 419
        },
        "id": "0hMKCJ4Yi2gY",
        "outputId": "d4969ddd-2587-4164-baf6-8207dd1add88"
      },
      "source": [
        "#@title To'g'ri javob\n",
        "df.sort_values(by=\"year\")"
      ],
      "execution_count": null,
      "outputs": [
        {
          "output_type": "execute_result",
          "data": {
            "text/html": [
              "<div>\n",
              "<style scoped>\n",
              "    .dataframe tbody tr th:only-of-type {\n",
              "        vertical-align: middle;\n",
              "    }\n",
              "\n",
              "    .dataframe tbody tr th {\n",
              "        vertical-align: top;\n",
              "    }\n",
              "\n",
              "    .dataframe thead th {\n",
              "        text-align: right;\n",
              "    }\n",
              "</style>\n",
              "<table border=\"1\" class=\"dataframe\">\n",
              "  <thead>\n",
              "    <tr style=\"text-align: right;\">\n",
              "      <th></th>\n",
              "      <th>price</th>\n",
              "      <th>brand</th>\n",
              "      <th>model</th>\n",
              "      <th>year</th>\n",
              "      <th>title_status</th>\n",
              "      <th>mileage</th>\n",
              "      <th>color</th>\n",
              "      <th>vin</th>\n",
              "      <th>lot</th>\n",
              "      <th>state</th>\n",
              "      <th>country</th>\n",
              "      <th>condition</th>\n",
              "    </tr>\n",
              "  </thead>\n",
              "  <tbody>\n",
              "    <tr>\n",
              "      <th>32</th>\n",
              "      <td>29800</td>\n",
              "      <td>chevrolet</td>\n",
              "      <td>camaro</td>\n",
              "      <td>1973</td>\n",
              "      <td>clean vehicle</td>\n",
              "      <td>46226</td>\n",
              "      <td>red</td>\n",
              "      <td>1q87t3n166389</td>\n",
              "      <td>167763370</td>\n",
              "      <td>pennsylvania</td>\n",
              "      <td>usa</td>\n",
              "      <td>22 hours left</td>\n",
              "    </tr>\n",
              "    <tr>\n",
              "      <th>405</th>\n",
              "      <td>25</td>\n",
              "      <td>ford</td>\n",
              "      <td>door</td>\n",
              "      <td>1984</td>\n",
              "      <td>salvage insurance</td>\n",
              "      <td>41577</td>\n",
              "      <td>white</td>\n",
              "      <td>2ftcf15y9eca14589</td>\n",
              "      <td>167611661</td>\n",
              "      <td>arkansas</td>\n",
              "      <td>usa</td>\n",
              "      <td>17 hours left</td>\n",
              "    </tr>\n",
              "    <tr>\n",
              "      <th>545</th>\n",
              "      <td>0</td>\n",
              "      <td>gmc</td>\n",
              "      <td>door</td>\n",
              "      <td>1993</td>\n",
              "      <td>salvage insurance</td>\n",
              "      <td>0</td>\n",
              "      <td>light blue</td>\n",
              "      <td>1gkfk16k5pj701631</td>\n",
              "      <td>167358601</td>\n",
              "      <td>colorado</td>\n",
              "      <td>usa</td>\n",
              "      <td>18 hours left</td>\n",
              "    </tr>\n",
              "    <tr>\n",
              "      <th>362</th>\n",
              "      <td>25</td>\n",
              "      <td>ford</td>\n",
              "      <td>pickup</td>\n",
              "      <td>1994</td>\n",
              "      <td>salvage insurance</td>\n",
              "      <td>206162</td>\n",
              "      <td>white</td>\n",
              "      <td>1ftdf15y2rnb12612</td>\n",
              "      <td>167361489</td>\n",
              "      <td>georgia</td>\n",
              "      <td>usa</td>\n",
              "      <td>2 days left</td>\n",
              "    </tr>\n",
              "    <tr>\n",
              "      <th>322</th>\n",
              "      <td>0</td>\n",
              "      <td>ford</td>\n",
              "      <td>chassis</td>\n",
              "      <td>1994</td>\n",
              "      <td>salvage insurance</td>\n",
              "      <td>0</td>\n",
              "      <td>green</td>\n",
              "      <td>1fdee14n7rha47894</td>\n",
              "      <td>167359174</td>\n",
              "      <td>california</td>\n",
              "      <td>usa</td>\n",
              "      <td>19 hours left</td>\n",
              "    </tr>\n",
              "    <tr>\n",
              "      <th>...</th>\n",
              "      <td>...</td>\n",
              "      <td>...</td>\n",
              "      <td>...</td>\n",
              "      <td>...</td>\n",
              "      <td>...</td>\n",
              "      <td>...</td>\n",
              "      <td>...</td>\n",
              "      <td>...</td>\n",
              "      <td>...</td>\n",
              "      <td>...</td>\n",
              "      <td>...</td>\n",
              "      <td>...</td>\n",
              "    </tr>\n",
              "    <tr>\n",
              "      <th>426</th>\n",
              "      <td>55600</td>\n",
              "      <td>lexus</td>\n",
              "      <td>gx</td>\n",
              "      <td>2020</td>\n",
              "      <td>clean vehicle</td>\n",
              "      <td>8186</td>\n",
              "      <td>silver</td>\n",
              "      <td>jtjam7bx4l5251250</td>\n",
              "      <td>167605747</td>\n",
              "      <td>florida</td>\n",
              "      <td>usa</td>\n",
              "      <td>2 days left</td>\n",
              "    </tr>\n",
              "    <tr>\n",
              "      <th>806</th>\n",
              "      <td>28300</td>\n",
              "      <td>chevrolet</td>\n",
              "      <td>colorado</td>\n",
              "      <td>2020</td>\n",
              "      <td>clean vehicle</td>\n",
              "      <td>13886</td>\n",
              "      <td>silver</td>\n",
              "      <td>1gcgtcen7l1101496</td>\n",
              "      <td>167805497</td>\n",
              "      <td>indiana</td>\n",
              "      <td>usa</td>\n",
              "      <td>2 days left</td>\n",
              "    </tr>\n",
              "    <tr>\n",
              "      <th>2322</th>\n",
              "      <td>15000</td>\n",
              "      <td>nissan</td>\n",
              "      <td>altima</td>\n",
              "      <td>2020</td>\n",
              "      <td>clean vehicle</td>\n",
              "      <td>14320</td>\n",
              "      <td>blue</td>\n",
              "      <td>1n4bl4cv4lc134145</td>\n",
              "      <td>167656212</td>\n",
              "      <td>ohio</td>\n",
              "      <td>usa</td>\n",
              "      <td>2 days left</td>\n",
              "    </tr>\n",
              "    <tr>\n",
              "      <th>2344</th>\n",
              "      <td>20100</td>\n",
              "      <td>nissan</td>\n",
              "      <td>rogue</td>\n",
              "      <td>2020</td>\n",
              "      <td>clean vehicle</td>\n",
              "      <td>10875</td>\n",
              "      <td>blue</td>\n",
              "      <td>jn8at2mvxlw103235</td>\n",
              "      <td>167614842</td>\n",
              "      <td>minnesota</td>\n",
              "      <td>usa</td>\n",
              "      <td>14 hours left</td>\n",
              "    </tr>\n",
              "    <tr>\n",
              "      <th>1388</th>\n",
              "      <td>17000</td>\n",
              "      <td>ford</td>\n",
              "      <td>fusion</td>\n",
              "      <td>2020</td>\n",
              "      <td>clean vehicle</td>\n",
              "      <td>1117</td>\n",
              "      <td>gray</td>\n",
              "      <td>3fa6p0d98lr194138</td>\n",
              "      <td>167742945</td>\n",
              "      <td>pennsylvania</td>\n",
              "      <td>usa</td>\n",
              "      <td>2 days left</td>\n",
              "    </tr>\n",
              "  </tbody>\n",
              "</table>\n",
              "<p>2499 rows × 12 columns</p>\n",
              "</div>"
            ],
            "text/plain": [
              "      price      brand     model  ...         state country      condition\n",
              "32    29800  chevrolet    camaro  ...  pennsylvania     usa  22 hours left\n",
              "405      25       ford      door  ...      arkansas     usa  17 hours left\n",
              "545       0        gmc      door  ...      colorado     usa  18 hours left\n",
              "362      25       ford    pickup  ...       georgia     usa    2 days left\n",
              "322       0       ford   chassis  ...    california     usa  19 hours left\n",
              "...     ...        ...       ...  ...           ...     ...            ...\n",
              "426   55600      lexus        gx  ...       florida     usa    2 days left\n",
              "806   28300  chevrolet  colorado  ...       indiana     usa    2 days left\n",
              "2322  15000     nissan    altima  ...          ohio     usa    2 days left\n",
              "2344  20100     nissan     rogue  ...     minnesota     usa  14 hours left\n",
              "1388  17000       ford    fusion  ...  pennsylvania     usa    2 days left\n",
              "\n",
              "[2499 rows x 12 columns]"
            ]
          },
          "metadata": {},
          "execution_count": 71
        }
      ]
    },
    {
      "cell_type": "markdown",
      "metadata": {
        "id": "QdApCJ1zlhEg"
      },
      "source": [
        "### **6-mashq**. DF qatorlarini narxi bo'yicha reytinglang va konsolga narxi bo'yicha tartiblangan holatda chiqaring."
      ]
    },
    {
      "cell_type": "code",
      "metadata": {
        "id": "UEZkgxoclhEh",
        "outputId": "2b6805be-47df-4197-8493-6c0e18f00ec6",
        "colab": {
          "base_uri": "https://localhost:8080/",
          "height": 582
        }
      },
      "source": [
        "# Javobni shuyerga yozing\n",
        "df['rank']=df['price'].rank()\n",
        "df.sort_values('price')"
      ],
      "execution_count": 7,
      "outputs": [
        {
          "output_type": "execute_result",
          "data": {
            "text/html": [
              "<div>\n",
              "<style scoped>\n",
              "    .dataframe tbody tr th:only-of-type {\n",
              "        vertical-align: middle;\n",
              "    }\n",
              "\n",
              "    .dataframe tbody tr th {\n",
              "        vertical-align: top;\n",
              "    }\n",
              "\n",
              "    .dataframe thead th {\n",
              "        text-align: right;\n",
              "    }\n",
              "</style>\n",
              "<table border=\"1\" class=\"dataframe\">\n",
              "  <thead>\n",
              "    <tr style=\"text-align: right;\">\n",
              "      <th></th>\n",
              "      <th>price</th>\n",
              "      <th>brand</th>\n",
              "      <th>model</th>\n",
              "      <th>year</th>\n",
              "      <th>title_status</th>\n",
              "      <th>mileage</th>\n",
              "      <th>color</th>\n",
              "      <th>vin</th>\n",
              "      <th>lot</th>\n",
              "      <th>state</th>\n",
              "      <th>country</th>\n",
              "      <th>condition</th>\n",
              "      <th>rank</th>\n",
              "    </tr>\n",
              "  </thead>\n",
              "  <tbody>\n",
              "    <tr>\n",
              "      <th>410</th>\n",
              "      <td>0</td>\n",
              "      <td>chevrolet</td>\n",
              "      <td>door</td>\n",
              "      <td>1995</td>\n",
              "      <td>salvage insurance</td>\n",
              "      <td>274706</td>\n",
              "      <td>green</td>\n",
              "      <td>2gcec19h8s1195266</td>\n",
              "      <td>167425634</td>\n",
              "      <td>arizona</td>\n",
              "      <td>usa</td>\n",
              "      <td>2 days left</td>\n",
              "      <td>22.0</td>\n",
              "    </tr>\n",
              "    <tr>\n",
              "      <th>330</th>\n",
              "      <td>0</td>\n",
              "      <td>ford</td>\n",
              "      <td>door</td>\n",
              "      <td>1996</td>\n",
              "      <td>salvage insurance</td>\n",
              "      <td>296860</td>\n",
              "      <td>green</td>\n",
              "      <td>1falp62w5th144314</td>\n",
              "      <td>167359712</td>\n",
              "      <td>california</td>\n",
              "      <td>usa</td>\n",
              "      <td>19 hours left</td>\n",
              "      <td>22.0</td>\n",
              "    </tr>\n",
              "    <tr>\n",
              "      <th>331</th>\n",
              "      <td>0</td>\n",
              "      <td>ford</td>\n",
              "      <td>door</td>\n",
              "      <td>2006</td>\n",
              "      <td>salvage insurance</td>\n",
              "      <td>203158</td>\n",
              "      <td>red</td>\n",
              "      <td>1fmzk04136ga07119</td>\n",
              "      <td>167610991</td>\n",
              "      <td>illinois</td>\n",
              "      <td>usa</td>\n",
              "      <td>17 hours left</td>\n",
              "      <td>22.0</td>\n",
              "    </tr>\n",
              "    <tr>\n",
              "      <th>339</th>\n",
              "      <td>0</td>\n",
              "      <td>ford</td>\n",
              "      <td>door</td>\n",
              "      <td>2002</td>\n",
              "      <td>salvage insurance</td>\n",
              "      <td>214800</td>\n",
              "      <td>black</td>\n",
              "      <td>3fafp37372r151014</td>\n",
              "      <td>167360232</td>\n",
              "      <td>south carolina</td>\n",
              "      <td>usa</td>\n",
              "      <td>2 days left</td>\n",
              "      <td>22.0</td>\n",
              "    </tr>\n",
              "    <tr>\n",
              "      <th>496</th>\n",
              "      <td>0</td>\n",
              "      <td>ford</td>\n",
              "      <td>pickup</td>\n",
              "      <td>1996</td>\n",
              "      <td>salvage insurance</td>\n",
              "      <td>252588</td>\n",
              "      <td>red</td>\n",
              "      <td>1ftef15n0tlc14455</td>\n",
              "      <td>167357804</td>\n",
              "      <td>oklahoma</td>\n",
              "      <td>usa</td>\n",
              "      <td>17 hours left</td>\n",
              "      <td>22.0</td>\n",
              "    </tr>\n",
              "    <tr>\n",
              "      <th>...</th>\n",
              "      <td>...</td>\n",
              "      <td>...</td>\n",
              "      <td>...</td>\n",
              "      <td>...</td>\n",
              "      <td>...</td>\n",
              "      <td>...</td>\n",
              "      <td>...</td>\n",
              "      <td>...</td>\n",
              "      <td>...</td>\n",
              "      <td>...</td>\n",
              "      <td>...</td>\n",
              "      <td>...</td>\n",
              "      <td>...</td>\n",
              "    </tr>\n",
              "    <tr>\n",
              "      <th>1215</th>\n",
              "      <td>65500</td>\n",
              "      <td>ford</td>\n",
              "      <td>srw</td>\n",
              "      <td>2019</td>\n",
              "      <td>clean vehicle</td>\n",
              "      <td>6500</td>\n",
              "      <td>black</td>\n",
              "      <td>1ft7w2bt0kec44818</td>\n",
              "      <td>167718954</td>\n",
              "      <td>indiana</td>\n",
              "      <td>usa</td>\n",
              "      <td>21 hours left</td>\n",
              "      <td>2495.0</td>\n",
              "    </tr>\n",
              "    <tr>\n",
              "      <th>277</th>\n",
              "      <td>67000</td>\n",
              "      <td>dodge</td>\n",
              "      <td>challenger</td>\n",
              "      <td>2019</td>\n",
              "      <td>clean vehicle</td>\n",
              "      <td>10944</td>\n",
              "      <td>blue</td>\n",
              "      <td>2c3cdzl97kh518237</td>\n",
              "      <td>167759490</td>\n",
              "      <td>ohio</td>\n",
              "      <td>usa</td>\n",
              "      <td>21 hours left</td>\n",
              "      <td>2496.0</td>\n",
              "    </tr>\n",
              "    <tr>\n",
              "      <th>1336</th>\n",
              "      <td>70000</td>\n",
              "      <td>ford</td>\n",
              "      <td>drw</td>\n",
              "      <td>2019</td>\n",
              "      <td>clean vehicle</td>\n",
              "      <td>9643</td>\n",
              "      <td>no_color</td>\n",
              "      <td>1ft8w3dt3kee48276</td>\n",
              "      <td>167780680</td>\n",
              "      <td>illinois</td>\n",
              "      <td>usa</td>\n",
              "      <td>2 days left</td>\n",
              "      <td>2497.0</td>\n",
              "    </tr>\n",
              "    <tr>\n",
              "      <th>1340</th>\n",
              "      <td>74000</td>\n",
              "      <td>ford</td>\n",
              "      <td>drw</td>\n",
              "      <td>2019</td>\n",
              "      <td>clean vehicle</td>\n",
              "      <td>10536</td>\n",
              "      <td>no_color</td>\n",
              "      <td>1ft8w4dt6ked32656</td>\n",
              "      <td>167780682</td>\n",
              "      <td>illinois</td>\n",
              "      <td>usa</td>\n",
              "      <td>2 days left</td>\n",
              "      <td>2498.0</td>\n",
              "    </tr>\n",
              "    <tr>\n",
              "      <th>502</th>\n",
              "      <td>84900</td>\n",
              "      <td>mercedes-benz</td>\n",
              "      <td>sl-class</td>\n",
              "      <td>2017</td>\n",
              "      <td>clean vehicle</td>\n",
              "      <td>25302</td>\n",
              "      <td>silver</td>\n",
              "      <td>wddjk7ea3hf044968</td>\n",
              "      <td>167607883</td>\n",
              "      <td>florida</td>\n",
              "      <td>usa</td>\n",
              "      <td>2 days left</td>\n",
              "      <td>2499.0</td>\n",
              "    </tr>\n",
              "  </tbody>\n",
              "</table>\n",
              "<p>2499 rows × 13 columns</p>\n",
              "</div>"
            ],
            "text/plain": [
              "      price          brand       model  ...  country      condition    rank\n",
              "410       0      chevrolet        door  ...      usa    2 days left    22.0\n",
              "330       0           ford        door  ...      usa  19 hours left    22.0\n",
              "331       0           ford        door  ...      usa  17 hours left    22.0\n",
              "339       0           ford        door  ...      usa    2 days left    22.0\n",
              "496       0           ford      pickup  ...      usa  17 hours left    22.0\n",
              "...     ...            ...         ...  ...      ...            ...     ...\n",
              "1215  65500           ford         srw  ...      usa  21 hours left  2495.0\n",
              "277   67000          dodge  challenger  ...      usa  21 hours left  2496.0\n",
              "1336  70000           ford         drw  ...      usa    2 days left  2497.0\n",
              "1340  74000           ford         drw  ...      usa    2 days left  2498.0\n",
              "502   84900  mercedes-benz    sl-class  ...      usa    2 days left  2499.0\n",
              "\n",
              "[2499 rows x 13 columns]"
            ]
          },
          "metadata": {},
          "execution_count": 7
        }
      ]
    },
    {
      "cell_type": "code",
      "metadata": {
        "colab": {
          "base_uri": "https://localhost:8080/",
          "height": 419
        },
        "id": "4RXEHe1mlhEh",
        "outputId": "a1844772-c2de-4383-bd90-a40dda476256"
      },
      "source": [
        "#@title To'g'ri javob\n",
        "df['rank'] = df['price'].rank()\n",
        "df.sort_values('price')"
      ],
      "execution_count": null,
      "outputs": [
        {
          "output_type": "execute_result",
          "data": {
            "text/html": [
              "<div>\n",
              "<style scoped>\n",
              "    .dataframe tbody tr th:only-of-type {\n",
              "        vertical-align: middle;\n",
              "    }\n",
              "\n",
              "    .dataframe tbody tr th {\n",
              "        vertical-align: top;\n",
              "    }\n",
              "\n",
              "    .dataframe thead th {\n",
              "        text-align: right;\n",
              "    }\n",
              "</style>\n",
              "<table border=\"1\" class=\"dataframe\">\n",
              "  <thead>\n",
              "    <tr style=\"text-align: right;\">\n",
              "      <th></th>\n",
              "      <th>price</th>\n",
              "      <th>brand</th>\n",
              "      <th>model</th>\n",
              "      <th>year</th>\n",
              "      <th>title_status</th>\n",
              "      <th>mileage</th>\n",
              "      <th>color</th>\n",
              "      <th>vin</th>\n",
              "      <th>lot</th>\n",
              "      <th>state</th>\n",
              "      <th>country</th>\n",
              "      <th>condition</th>\n",
              "      <th>rank</th>\n",
              "    </tr>\n",
              "  </thead>\n",
              "  <tbody>\n",
              "    <tr>\n",
              "      <th>410</th>\n",
              "      <td>0</td>\n",
              "      <td>chevrolet</td>\n",
              "      <td>door</td>\n",
              "      <td>1995</td>\n",
              "      <td>salvage insurance</td>\n",
              "      <td>274706</td>\n",
              "      <td>green</td>\n",
              "      <td>2gcec19h8s1195266</td>\n",
              "      <td>167425634</td>\n",
              "      <td>arizona</td>\n",
              "      <td>usa</td>\n",
              "      <td>2 days left</td>\n",
              "      <td>22.0</td>\n",
              "    </tr>\n",
              "    <tr>\n",
              "      <th>330</th>\n",
              "      <td>0</td>\n",
              "      <td>ford</td>\n",
              "      <td>door</td>\n",
              "      <td>1996</td>\n",
              "      <td>salvage insurance</td>\n",
              "      <td>296860</td>\n",
              "      <td>green</td>\n",
              "      <td>1falp62w5th144314</td>\n",
              "      <td>167359712</td>\n",
              "      <td>california</td>\n",
              "      <td>usa</td>\n",
              "      <td>19 hours left</td>\n",
              "      <td>22.0</td>\n",
              "    </tr>\n",
              "    <tr>\n",
              "      <th>331</th>\n",
              "      <td>0</td>\n",
              "      <td>ford</td>\n",
              "      <td>door</td>\n",
              "      <td>2006</td>\n",
              "      <td>salvage insurance</td>\n",
              "      <td>203158</td>\n",
              "      <td>red</td>\n",
              "      <td>1fmzk04136ga07119</td>\n",
              "      <td>167610991</td>\n",
              "      <td>illinois</td>\n",
              "      <td>usa</td>\n",
              "      <td>17 hours left</td>\n",
              "      <td>22.0</td>\n",
              "    </tr>\n",
              "    <tr>\n",
              "      <th>339</th>\n",
              "      <td>0</td>\n",
              "      <td>ford</td>\n",
              "      <td>door</td>\n",
              "      <td>2002</td>\n",
              "      <td>salvage insurance</td>\n",
              "      <td>214800</td>\n",
              "      <td>black</td>\n",
              "      <td>3fafp37372r151014</td>\n",
              "      <td>167360232</td>\n",
              "      <td>south carolina</td>\n",
              "      <td>usa</td>\n",
              "      <td>2 days left</td>\n",
              "      <td>22.0</td>\n",
              "    </tr>\n",
              "    <tr>\n",
              "      <th>496</th>\n",
              "      <td>0</td>\n",
              "      <td>ford</td>\n",
              "      <td>pickup</td>\n",
              "      <td>1996</td>\n",
              "      <td>salvage insurance</td>\n",
              "      <td>252588</td>\n",
              "      <td>red</td>\n",
              "      <td>1ftef15n0tlc14455</td>\n",
              "      <td>167357804</td>\n",
              "      <td>oklahoma</td>\n",
              "      <td>usa</td>\n",
              "      <td>17 hours left</td>\n",
              "      <td>22.0</td>\n",
              "    </tr>\n",
              "    <tr>\n",
              "      <th>...</th>\n",
              "      <td>...</td>\n",
              "      <td>...</td>\n",
              "      <td>...</td>\n",
              "      <td>...</td>\n",
              "      <td>...</td>\n",
              "      <td>...</td>\n",
              "      <td>...</td>\n",
              "      <td>...</td>\n",
              "      <td>...</td>\n",
              "      <td>...</td>\n",
              "      <td>...</td>\n",
              "      <td>...</td>\n",
              "      <td>...</td>\n",
              "    </tr>\n",
              "    <tr>\n",
              "      <th>1215</th>\n",
              "      <td>65500</td>\n",
              "      <td>ford</td>\n",
              "      <td>srw</td>\n",
              "      <td>2019</td>\n",
              "      <td>clean vehicle</td>\n",
              "      <td>6500</td>\n",
              "      <td>black</td>\n",
              "      <td>1ft7w2bt0kec44818</td>\n",
              "      <td>167718954</td>\n",
              "      <td>indiana</td>\n",
              "      <td>usa</td>\n",
              "      <td>21 hours left</td>\n",
              "      <td>2495.0</td>\n",
              "    </tr>\n",
              "    <tr>\n",
              "      <th>277</th>\n",
              "      <td>67000</td>\n",
              "      <td>dodge</td>\n",
              "      <td>challenger</td>\n",
              "      <td>2019</td>\n",
              "      <td>clean vehicle</td>\n",
              "      <td>10944</td>\n",
              "      <td>blue</td>\n",
              "      <td>2c3cdzl97kh518237</td>\n",
              "      <td>167759490</td>\n",
              "      <td>ohio</td>\n",
              "      <td>usa</td>\n",
              "      <td>21 hours left</td>\n",
              "      <td>2496.0</td>\n",
              "    </tr>\n",
              "    <tr>\n",
              "      <th>1336</th>\n",
              "      <td>70000</td>\n",
              "      <td>ford</td>\n",
              "      <td>drw</td>\n",
              "      <td>2019</td>\n",
              "      <td>clean vehicle</td>\n",
              "      <td>9643</td>\n",
              "      <td>no_color</td>\n",
              "      <td>1ft8w3dt3kee48276</td>\n",
              "      <td>167780680</td>\n",
              "      <td>illinois</td>\n",
              "      <td>usa</td>\n",
              "      <td>2 days left</td>\n",
              "      <td>2497.0</td>\n",
              "    </tr>\n",
              "    <tr>\n",
              "      <th>1340</th>\n",
              "      <td>74000</td>\n",
              "      <td>ford</td>\n",
              "      <td>drw</td>\n",
              "      <td>2019</td>\n",
              "      <td>clean vehicle</td>\n",
              "      <td>10536</td>\n",
              "      <td>no_color</td>\n",
              "      <td>1ft8w4dt6ked32656</td>\n",
              "      <td>167780682</td>\n",
              "      <td>illinois</td>\n",
              "      <td>usa</td>\n",
              "      <td>2 days left</td>\n",
              "      <td>2498.0</td>\n",
              "    </tr>\n",
              "    <tr>\n",
              "      <th>502</th>\n",
              "      <td>84900</td>\n",
              "      <td>mercedes-benz</td>\n",
              "      <td>sl-class</td>\n",
              "      <td>2017</td>\n",
              "      <td>clean vehicle</td>\n",
              "      <td>25302</td>\n",
              "      <td>silver</td>\n",
              "      <td>wddjk7ea3hf044968</td>\n",
              "      <td>167607883</td>\n",
              "      <td>florida</td>\n",
              "      <td>usa</td>\n",
              "      <td>2 days left</td>\n",
              "      <td>2499.0</td>\n",
              "    </tr>\n",
              "  </tbody>\n",
              "</table>\n",
              "<p>2499 rows × 13 columns</p>\n",
              "</div>"
            ],
            "text/plain": [
              "      price          brand       model  ...  country      condition    rank\n",
              "410       0      chevrolet        door  ...      usa    2 days left    22.0\n",
              "330       0           ford        door  ...      usa  19 hours left    22.0\n",
              "331       0           ford        door  ...      usa  17 hours left    22.0\n",
              "339       0           ford        door  ...      usa    2 days left    22.0\n",
              "496       0           ford      pickup  ...      usa  17 hours left    22.0\n",
              "...     ...            ...         ...  ...      ...            ...     ...\n",
              "1215  65500           ford         srw  ...      usa  21 hours left  2495.0\n",
              "277   67000          dodge  challenger  ...      usa  21 hours left  2496.0\n",
              "1336  70000           ford         drw  ...      usa    2 days left  2497.0\n",
              "1340  74000           ford         drw  ...      usa    2 days left  2498.0\n",
              "502   84900  mercedes-benz    sl-class  ...      usa    2 days left  2499.0\n",
              "\n",
              "[2499 rows x 13 columns]"
            ]
          },
          "metadata": {},
          "execution_count": 74
        }
      ]
    },
    {
      "cell_type": "markdown",
      "metadata": {
        "id": "aquyXjI0mlbQ"
      },
      "source": [
        "### **7-mashq**. DFdan eng qimmat mashina haqidagi ma'lumotni chiqaring"
      ]
    },
    {
      "cell_type": "code",
      "metadata": {
        "id": "L-uYzZ7KmlbR",
        "outputId": "47498f68-291e-491c-a58e-55eb93a1a972",
        "colab": {
          "base_uri": "https://localhost:8080/",
          "height": 80
        }
      },
      "source": [
        "# Javobni shuyerga yozing\n",
        "s=df['price'].idxmax()\n",
        "df.iloc[[s]]"
      ],
      "execution_count": 10,
      "outputs": [
        {
          "output_type": "execute_result",
          "data": {
            "text/html": [
              "<div>\n",
              "<style scoped>\n",
              "    .dataframe tbody tr th:only-of-type {\n",
              "        vertical-align: middle;\n",
              "    }\n",
              "\n",
              "    .dataframe tbody tr th {\n",
              "        vertical-align: top;\n",
              "    }\n",
              "\n",
              "    .dataframe thead th {\n",
              "        text-align: right;\n",
              "    }\n",
              "</style>\n",
              "<table border=\"1\" class=\"dataframe\">\n",
              "  <thead>\n",
              "    <tr style=\"text-align: right;\">\n",
              "      <th></th>\n",
              "      <th>price</th>\n",
              "      <th>brand</th>\n",
              "      <th>model</th>\n",
              "      <th>year</th>\n",
              "      <th>title_status</th>\n",
              "      <th>mileage</th>\n",
              "      <th>color</th>\n",
              "      <th>vin</th>\n",
              "      <th>lot</th>\n",
              "      <th>state</th>\n",
              "      <th>country</th>\n",
              "      <th>condition</th>\n",
              "      <th>rank</th>\n",
              "    </tr>\n",
              "  </thead>\n",
              "  <tbody>\n",
              "    <tr>\n",
              "      <th>502</th>\n",
              "      <td>84900</td>\n",
              "      <td>mercedes-benz</td>\n",
              "      <td>sl-class</td>\n",
              "      <td>2017</td>\n",
              "      <td>clean vehicle</td>\n",
              "      <td>25302</td>\n",
              "      <td>silver</td>\n",
              "      <td>wddjk7ea3hf044968</td>\n",
              "      <td>167607883</td>\n",
              "      <td>florida</td>\n",
              "      <td>usa</td>\n",
              "      <td>2 days left</td>\n",
              "      <td>2499.0</td>\n",
              "    </tr>\n",
              "  </tbody>\n",
              "</table>\n",
              "</div>"
            ],
            "text/plain": [
              "     price          brand     model  year  ...    state  country    condition    rank\n",
              "502  84900  mercedes-benz  sl-class  2017  ...  florida      usa  2 days left  2499.0\n",
              "\n",
              "[1 rows x 13 columns]"
            ]
          },
          "metadata": {},
          "execution_count": 10
        }
      ]
    },
    {
      "cell_type": "code",
      "metadata": {
        "id": "slxrpII4mlbS"
      },
      "source": [
        "#@title To'g'ri javob\n",
        "idx = df['price'].idxmax()\n",
        "df.iloc[idx]"
      ],
      "execution_count": null,
      "outputs": []
    },
    {
      "cell_type": "markdown",
      "metadata": {
        "id": "UErA92e9oFBZ"
      },
      "source": [
        "### **8-mashq**. DFdan eng ko'p yurgan (`km_driven`) mashina haqidagi ma'lumotni chiqaring"
      ]
    },
    {
      "cell_type": "code",
      "metadata": {
        "id": "Jm1ObfbyoFBa",
        "outputId": "08d9a7e5-8e49-45e2-b83b-c7d17609e2e8",
        "colab": {
          "base_uri": "https://localhost:8080/",
          "height": 80
        }
      },
      "source": [
        "# Javobni shuyerga yozing\n",
        "s=df['mileage'].idxmax()\n",
        "df.iloc[[s]]"
      ],
      "execution_count": 11,
      "outputs": [
        {
          "output_type": "execute_result",
          "data": {
            "text/html": [
              "<div>\n",
              "<style scoped>\n",
              "    .dataframe tbody tr th:only-of-type {\n",
              "        vertical-align: middle;\n",
              "    }\n",
              "\n",
              "    .dataframe tbody tr th {\n",
              "        vertical-align: top;\n",
              "    }\n",
              "\n",
              "    .dataframe thead th {\n",
              "        text-align: right;\n",
              "    }\n",
              "</style>\n",
              "<table border=\"1\" class=\"dataframe\">\n",
              "  <thead>\n",
              "    <tr style=\"text-align: right;\">\n",
              "      <th></th>\n",
              "      <th>price</th>\n",
              "      <th>brand</th>\n",
              "      <th>model</th>\n",
              "      <th>year</th>\n",
              "      <th>title_status</th>\n",
              "      <th>mileage</th>\n",
              "      <th>color</th>\n",
              "      <th>vin</th>\n",
              "      <th>lot</th>\n",
              "      <th>state</th>\n",
              "      <th>country</th>\n",
              "      <th>condition</th>\n",
              "      <th>rank</th>\n",
              "    </tr>\n",
              "  </thead>\n",
              "  <tbody>\n",
              "    <tr>\n",
              "      <th>528</th>\n",
              "      <td>1025</td>\n",
              "      <td>peterbilt</td>\n",
              "      <td>truck</td>\n",
              "      <td>2010</td>\n",
              "      <td>salvage insurance</td>\n",
              "      <td>1017936</td>\n",
              "      <td>color:</td>\n",
              "      <td>1xp7d49x0ad793710</td>\n",
              "      <td>167529842</td>\n",
              "      <td>georgia</td>\n",
              "      <td>usa</td>\n",
              "      <td>17 hours left</td>\n",
              "      <td>94.5</td>\n",
              "    </tr>\n",
              "  </tbody>\n",
              "</table>\n",
              "</div>"
            ],
            "text/plain": [
              "     price      brand  model  year  ...    state  country      condition  rank\n",
              "528   1025  peterbilt  truck  2010  ...  georgia      usa  17 hours left  94.5\n",
              "\n",
              "[1 rows x 13 columns]"
            ]
          },
          "metadata": {},
          "execution_count": 11
        }
      ]
    },
    {
      "cell_type": "code",
      "metadata": {
        "id": "Q19ChlVmoFBb"
      },
      "source": [
        "#@title To'g'ri javob\n",
        "idx = df['mileage'].idxmax()\n",
        "df.iloc[idx]"
      ],
      "execution_count": null,
      "outputs": []
    },
    {
      "cell_type": "markdown",
      "metadata": {
        "id": "ubHqPsXCvQB4"
      },
      "source": [
        "### **9-mashq**. DF dagi barcha brandlar va ularning sonini chiqaring"
      ]
    },
    {
      "cell_type": "code",
      "metadata": {
        "id": "Ur-STMLIvQCG",
        "outputId": "ad34d5b5-2d9b-476d-ec98-37d17932cf70",
        "colab": {
          "base_uri": "https://localhost:8080/"
        }
      },
      "source": [
        "# Javobni shuyerga yozing\n",
        "df['brand'].value_counts()"
      ],
      "execution_count": 14,
      "outputs": [
        {
          "output_type": "execute_result",
          "data": {
            "text/plain": [
              "ford               1235\n",
              "dodge               432\n",
              "nissan              312\n",
              "chevrolet           297\n",
              "gmc                  42\n",
              "jeep                 30\n",
              "chrysler             18\n",
              "bmw                  17\n",
              "hyundai              15\n",
              "kia                  13\n",
              "buick                13\n",
              "honda                12\n",
              "infiniti             12\n",
              "cadillac             10\n",
              "mercedes-benz        10\n",
              "heartland             5\n",
              "peterbilt             4\n",
              "audi                  4\n",
              "land                  4\n",
              "acura                 3\n",
              "lexus                 2\n",
              "lincoln               2\n",
              "mazda                 2\n",
              "harley-davidson       1\n",
              "ram                   1\n",
              "jaguar                1\n",
              "toyota                1\n",
              "maserati              1\n",
              "Name: brand, dtype: int64"
            ]
          },
          "metadata": {},
          "execution_count": 14
        }
      ]
    },
    {
      "cell_type": "code",
      "metadata": {
        "code_folding": [
          0
        ],
        "id": "s72tAvMYvQCG"
      },
      "source": [
        "#@title **To'g'ri javob**\n",
        "df['brand'].value_counts()"
      ],
      "execution_count": null,
      "outputs": []
    },
    {
      "cell_type": "markdown",
      "metadata": {
        "id": "rN5aLizNvQlP"
      },
      "source": [
        "### **10-mashq**. DF dagi raqamli ustunlar haqida umulashtiruvchi statistikani chiqaring (min, max, mean, std va hokazo)"
      ]
    },
    {
      "cell_type": "code",
      "metadata": {
        "id": "oz880iBDvQlQ",
        "outputId": "51cf926a-8e6d-4361-fb40-24e8387b1294",
        "colab": {
          "base_uri": "https://localhost:8080/",
          "height": 300
        }
      },
      "source": [
        "# Javobni shuyerga yozing\n",
        "df.describe()"
      ],
      "execution_count": 15,
      "outputs": [
        {
          "output_type": "execute_result",
          "data": {
            "text/html": [
              "<div>\n",
              "<style scoped>\n",
              "    .dataframe tbody tr th:only-of-type {\n",
              "        vertical-align: middle;\n",
              "    }\n",
              "\n",
              "    .dataframe tbody tr th {\n",
              "        vertical-align: top;\n",
              "    }\n",
              "\n",
              "    .dataframe thead th {\n",
              "        text-align: right;\n",
              "    }\n",
              "</style>\n",
              "<table border=\"1\" class=\"dataframe\">\n",
              "  <thead>\n",
              "    <tr style=\"text-align: right;\">\n",
              "      <th></th>\n",
              "      <th>price</th>\n",
              "      <th>year</th>\n",
              "      <th>mileage</th>\n",
              "      <th>lot</th>\n",
              "      <th>rank</th>\n",
              "    </tr>\n",
              "  </thead>\n",
              "  <tbody>\n",
              "    <tr>\n",
              "      <th>count</th>\n",
              "      <td>2499.000000</td>\n",
              "      <td>2499.000000</td>\n",
              "      <td>2.499000e+03</td>\n",
              "      <td>2.499000e+03</td>\n",
              "      <td>2499.000000</td>\n",
              "    </tr>\n",
              "    <tr>\n",
              "      <th>mean</th>\n",
              "      <td>18767.671469</td>\n",
              "      <td>2016.714286</td>\n",
              "      <td>5.229869e+04</td>\n",
              "      <td>1.676914e+08</td>\n",
              "      <td>1250.000000</td>\n",
              "    </tr>\n",
              "    <tr>\n",
              "      <th>std</th>\n",
              "      <td>12116.094936</td>\n",
              "      <td>3.442656</td>\n",
              "      <td>5.970552e+04</td>\n",
              "      <td>2.038772e+05</td>\n",
              "      <td>721.537031</td>\n",
              "    </tr>\n",
              "    <tr>\n",
              "      <th>min</th>\n",
              "      <td>0.000000</td>\n",
              "      <td>1973.000000</td>\n",
              "      <td>0.000000e+00</td>\n",
              "      <td>1.593488e+08</td>\n",
              "      <td>22.000000</td>\n",
              "    </tr>\n",
              "    <tr>\n",
              "      <th>25%</th>\n",
              "      <td>10200.000000</td>\n",
              "      <td>2016.000000</td>\n",
              "      <td>2.146650e+04</td>\n",
              "      <td>1.676253e+08</td>\n",
              "      <td>623.500000</td>\n",
              "    </tr>\n",
              "    <tr>\n",
              "      <th>50%</th>\n",
              "      <td>16900.000000</td>\n",
              "      <td>2018.000000</td>\n",
              "      <td>3.536500e+04</td>\n",
              "      <td>1.677451e+08</td>\n",
              "      <td>1251.500000</td>\n",
              "    </tr>\n",
              "    <tr>\n",
              "      <th>75%</th>\n",
              "      <td>25555.500000</td>\n",
              "      <td>2019.000000</td>\n",
              "      <td>6.347250e+04</td>\n",
              "      <td>1.677798e+08</td>\n",
              "      <td>1874.500000</td>\n",
              "    </tr>\n",
              "    <tr>\n",
              "      <th>max</th>\n",
              "      <td>84900.000000</td>\n",
              "      <td>2020.000000</td>\n",
              "      <td>1.017936e+06</td>\n",
              "      <td>1.678055e+08</td>\n",
              "      <td>2499.000000</td>\n",
              "    </tr>\n",
              "  </tbody>\n",
              "</table>\n",
              "</div>"
            ],
            "text/plain": [
              "              price         year       mileage           lot         rank\n",
              "count   2499.000000  2499.000000  2.499000e+03  2.499000e+03  2499.000000\n",
              "mean   18767.671469  2016.714286  5.229869e+04  1.676914e+08  1250.000000\n",
              "std    12116.094936     3.442656  5.970552e+04  2.038772e+05   721.537031\n",
              "min        0.000000  1973.000000  0.000000e+00  1.593488e+08    22.000000\n",
              "25%    10200.000000  2016.000000  2.146650e+04  1.676253e+08   623.500000\n",
              "50%    16900.000000  2018.000000  3.536500e+04  1.677451e+08  1251.500000\n",
              "75%    25555.500000  2019.000000  6.347250e+04  1.677798e+08  1874.500000\n",
              "max    84900.000000  2020.000000  1.017936e+06  1.678055e+08  2499.000000"
            ]
          },
          "metadata": {},
          "execution_count": 15
        }
      ]
    },
    {
      "cell_type": "code",
      "metadata": {
        "code_folding": [
          0
        ],
        "colab": {
          "base_uri": "https://localhost:8080/",
          "height": 297
        },
        "cellView": "form",
        "id": "f4BS7cftvQlR",
        "outputId": "009309e2-be06-42ce-9a31-86f1fb3dea37"
      },
      "source": [
        "#@title **To'g'ri javob**\n",
        "df.describe()"
      ],
      "execution_count": null,
      "outputs": [
        {
          "output_type": "execute_result",
          "data": {
            "text/html": [
              "<div>\n",
              "<style scoped>\n",
              "    .dataframe tbody tr th:only-of-type {\n",
              "        vertical-align: middle;\n",
              "    }\n",
              "\n",
              "    .dataframe tbody tr th {\n",
              "        vertical-align: top;\n",
              "    }\n",
              "\n",
              "    .dataframe thead th {\n",
              "        text-align: right;\n",
              "    }\n",
              "</style>\n",
              "<table border=\"1\" class=\"dataframe\">\n",
              "  <thead>\n",
              "    <tr style=\"text-align: right;\">\n",
              "      <th></th>\n",
              "      <th>price</th>\n",
              "      <th>year</th>\n",
              "      <th>mileage</th>\n",
              "      <th>lot</th>\n",
              "      <th>rank</th>\n",
              "    </tr>\n",
              "  </thead>\n",
              "  <tbody>\n",
              "    <tr>\n",
              "      <th>count</th>\n",
              "      <td>2499.000000</td>\n",
              "      <td>2499.000000</td>\n",
              "      <td>2.499000e+03</td>\n",
              "      <td>2.499000e+03</td>\n",
              "      <td>2499.000000</td>\n",
              "    </tr>\n",
              "    <tr>\n",
              "      <th>mean</th>\n",
              "      <td>18767.671469</td>\n",
              "      <td>2016.714286</td>\n",
              "      <td>5.229869e+04</td>\n",
              "      <td>1.676914e+08</td>\n",
              "      <td>1250.000000</td>\n",
              "    </tr>\n",
              "    <tr>\n",
              "      <th>std</th>\n",
              "      <td>12116.094936</td>\n",
              "      <td>3.442656</td>\n",
              "      <td>5.970552e+04</td>\n",
              "      <td>2.038772e+05</td>\n",
              "      <td>721.537031</td>\n",
              "    </tr>\n",
              "    <tr>\n",
              "      <th>min</th>\n",
              "      <td>0.000000</td>\n",
              "      <td>1973.000000</td>\n",
              "      <td>0.000000e+00</td>\n",
              "      <td>1.593488e+08</td>\n",
              "      <td>22.000000</td>\n",
              "    </tr>\n",
              "    <tr>\n",
              "      <th>25%</th>\n",
              "      <td>10200.000000</td>\n",
              "      <td>2016.000000</td>\n",
              "      <td>2.146650e+04</td>\n",
              "      <td>1.676253e+08</td>\n",
              "      <td>623.500000</td>\n",
              "    </tr>\n",
              "    <tr>\n",
              "      <th>50%</th>\n",
              "      <td>16900.000000</td>\n",
              "      <td>2018.000000</td>\n",
              "      <td>3.536500e+04</td>\n",
              "      <td>1.677451e+08</td>\n",
              "      <td>1251.500000</td>\n",
              "    </tr>\n",
              "    <tr>\n",
              "      <th>75%</th>\n",
              "      <td>25555.500000</td>\n",
              "      <td>2019.000000</td>\n",
              "      <td>6.347250e+04</td>\n",
              "      <td>1.677798e+08</td>\n",
              "      <td>1874.500000</td>\n",
              "    </tr>\n",
              "    <tr>\n",
              "      <th>max</th>\n",
              "      <td>84900.000000</td>\n",
              "      <td>2020.000000</td>\n",
              "      <td>1.017936e+06</td>\n",
              "      <td>1.678055e+08</td>\n",
              "      <td>2499.000000</td>\n",
              "    </tr>\n",
              "  </tbody>\n",
              "</table>\n",
              "</div>"
            ],
            "text/plain": [
              "              price         year       mileage           lot         rank\n",
              "count   2499.000000  2499.000000  2.499000e+03  2.499000e+03  2499.000000\n",
              "mean   18767.671469  2016.714286  5.229869e+04  1.676914e+08  1250.000000\n",
              "std    12116.094936     3.442656  5.970552e+04  2.038772e+05   721.537031\n",
              "min        0.000000  1973.000000  0.000000e+00  1.593488e+08    22.000000\n",
              "25%    10200.000000  2016.000000  2.146650e+04  1.676253e+08   623.500000\n",
              "50%    16900.000000  2018.000000  3.536500e+04  1.677451e+08  1251.500000\n",
              "75%    25555.500000  2019.000000  6.347250e+04  1.677798e+08  1874.500000\n",
              "max    84900.000000  2020.000000  1.017936e+06  1.678055e+08  2499.000000"
            ]
          },
          "metadata": {},
          "execution_count": 83
        }
      ]
    },
    {
      "cell_type": "markdown",
      "metadata": {
        "id": "fQ0UG6y6vSZt"
      },
      "source": [
        "### **11-mashq**. DF dan ford kompaniyasining barcha mashinalarnini ajratib chiqaring"
      ]
    },
    {
      "cell_type": "code",
      "metadata": {
        "id": "b6OcdG2JvSZv",
        "outputId": "b3bfb83a-91aa-4c8f-df3b-3920b5bfea3c",
        "colab": {
          "base_uri": "https://localhost:8080/",
          "height": 423
        }
      },
      "source": [
        "# Javobni shuyerga yozing\n",
        "df[df.brand=='ford'].sort_index()"
      ],
      "execution_count": 18,
      "outputs": [
        {
          "output_type": "execute_result",
          "data": {
            "text/html": [
              "<div>\n",
              "<style scoped>\n",
              "    .dataframe tbody tr th:only-of-type {\n",
              "        vertical-align: middle;\n",
              "    }\n",
              "\n",
              "    .dataframe tbody tr th {\n",
              "        vertical-align: top;\n",
              "    }\n",
              "\n",
              "    .dataframe thead th {\n",
              "        text-align: right;\n",
              "    }\n",
              "</style>\n",
              "<table border=\"1\" class=\"dataframe\">\n",
              "  <thead>\n",
              "    <tr style=\"text-align: right;\">\n",
              "      <th></th>\n",
              "      <th>price</th>\n",
              "      <th>brand</th>\n",
              "      <th>model</th>\n",
              "      <th>year</th>\n",
              "      <th>title_status</th>\n",
              "      <th>mileage</th>\n",
              "      <th>color</th>\n",
              "      <th>vin</th>\n",
              "      <th>lot</th>\n",
              "      <th>state</th>\n",
              "      <th>country</th>\n",
              "      <th>condition</th>\n",
              "      <th>rank</th>\n",
              "    </tr>\n",
              "  </thead>\n",
              "  <tbody>\n",
              "    <tr>\n",
              "      <th>1</th>\n",
              "      <td>2899</td>\n",
              "      <td>ford</td>\n",
              "      <td>se</td>\n",
              "      <td>2011</td>\n",
              "      <td>clean vehicle</td>\n",
              "      <td>190552</td>\n",
              "      <td>silver</td>\n",
              "      <td>2fmdk3gc4bbb02217</td>\n",
              "      <td>166951262</td>\n",
              "      <td>tennessee</td>\n",
              "      <td>usa</td>\n",
              "      <td>6 days left</td>\n",
              "      <td>156.0</td>\n",
              "    </tr>\n",
              "    <tr>\n",
              "      <th>3</th>\n",
              "      <td>25000</td>\n",
              "      <td>ford</td>\n",
              "      <td>door</td>\n",
              "      <td>2014</td>\n",
              "      <td>clean vehicle</td>\n",
              "      <td>64146</td>\n",
              "      <td>blue</td>\n",
              "      <td>1ftfw1et4efc23745</td>\n",
              "      <td>167753855</td>\n",
              "      <td>virginia</td>\n",
              "      <td>usa</td>\n",
              "      <td>22 hours left</td>\n",
              "      <td>1832.5</td>\n",
              "    </tr>\n",
              "    <tr>\n",
              "      <th>9</th>\n",
              "      <td>5250</td>\n",
              "      <td>ford</td>\n",
              "      <td>mpv</td>\n",
              "      <td>2017</td>\n",
              "      <td>clean vehicle</td>\n",
              "      <td>63418</td>\n",
              "      <td>black</td>\n",
              "      <td>2fmpk3j92hbc12542</td>\n",
              "      <td>167656121</td>\n",
              "      <td>texas</td>\n",
              "      <td>usa</td>\n",
              "      <td>2 days left</td>\n",
              "      <td>323.0</td>\n",
              "    </tr>\n",
              "    <tr>\n",
              "      <th>14</th>\n",
              "      <td>20700</td>\n",
              "      <td>ford</td>\n",
              "      <td>door</td>\n",
              "      <td>2013</td>\n",
              "      <td>clean vehicle</td>\n",
              "      <td>100757</td>\n",
              "      <td>black</td>\n",
              "      <td>1ftfw1et7dfa47790</td>\n",
              "      <td>167753916</td>\n",
              "      <td>virginia</td>\n",
              "      <td>usa</td>\n",
              "      <td>22 hours left</td>\n",
              "      <td>1525.0</td>\n",
              "    </tr>\n",
              "    <tr>\n",
              "      <th>18</th>\n",
              "      <td>5210</td>\n",
              "      <td>ford</td>\n",
              "      <td>mpv</td>\n",
              "      <td>2017</td>\n",
              "      <td>clean vehicle</td>\n",
              "      <td>35714</td>\n",
              "      <td>white</td>\n",
              "      <td>2fmpk3j95hbb73607</td>\n",
              "      <td>167656124</td>\n",
              "      <td>texas</td>\n",
              "      <td>usa</td>\n",
              "      <td>2 days left</td>\n",
              "      <td>322.0</td>\n",
              "    </tr>\n",
              "    <tr>\n",
              "      <th>...</th>\n",
              "      <td>...</td>\n",
              "      <td>...</td>\n",
              "      <td>...</td>\n",
              "      <td>...</td>\n",
              "      <td>...</td>\n",
              "      <td>...</td>\n",
              "      <td>...</td>\n",
              "      <td>...</td>\n",
              "      <td>...</td>\n",
              "      <td>...</td>\n",
              "      <td>...</td>\n",
              "      <td>...</td>\n",
              "      <td>...</td>\n",
              "    </tr>\n",
              "    <tr>\n",
              "      <th>2199</th>\n",
              "      <td>13800</td>\n",
              "      <td>ford</td>\n",
              "      <td>fusion</td>\n",
              "      <td>2019</td>\n",
              "      <td>clean vehicle</td>\n",
              "      <td>29345</td>\n",
              "      <td>white</td>\n",
              "      <td>3fa6p0lu1kr222799</td>\n",
              "      <td>167802379</td>\n",
              "      <td>north carolina</td>\n",
              "      <td>usa</td>\n",
              "      <td>2 days left</td>\n",
              "      <td>911.5</td>\n",
              "    </tr>\n",
              "    <tr>\n",
              "      <th>2200</th>\n",
              "      <td>56000</td>\n",
              "      <td>ford</td>\n",
              "      <td>srw</td>\n",
              "      <td>2018</td>\n",
              "      <td>clean vehicle</td>\n",
              "      <td>25371</td>\n",
              "      <td>black</td>\n",
              "      <td>1ft7w2bt4jec50359</td>\n",
              "      <td>167749689</td>\n",
              "      <td>pennsylvania</td>\n",
              "      <td>usa</td>\n",
              "      <td>3 days left</td>\n",
              "      <td>2476.0</td>\n",
              "    </tr>\n",
              "    <tr>\n",
              "      <th>2201</th>\n",
              "      <td>13800</td>\n",
              "      <td>ford</td>\n",
              "      <td>fusion</td>\n",
              "      <td>2019</td>\n",
              "      <td>clean vehicle</td>\n",
              "      <td>30054</td>\n",
              "      <td>silver</td>\n",
              "      <td>3fa6p0lu3kr210749</td>\n",
              "      <td>167802380</td>\n",
              "      <td>north carolina</td>\n",
              "      <td>usa</td>\n",
              "      <td>2 days left</td>\n",
              "      <td>911.5</td>\n",
              "    </tr>\n",
              "    <tr>\n",
              "      <th>2202</th>\n",
              "      <td>45800</td>\n",
              "      <td>ford</td>\n",
              "      <td>srw</td>\n",
              "      <td>2018</td>\n",
              "      <td>clean vehicle</td>\n",
              "      <td>11173</td>\n",
              "      <td>white</td>\n",
              "      <td>1ft7w2bt3jeb02932</td>\n",
              "      <td>167749690</td>\n",
              "      <td>pennsylvania</td>\n",
              "      <td>usa</td>\n",
              "      <td>2 days left</td>\n",
              "      <td>2405.0</td>\n",
              "    </tr>\n",
              "    <tr>\n",
              "      <th>2203</th>\n",
              "      <td>13800</td>\n",
              "      <td>ford</td>\n",
              "      <td>fusion</td>\n",
              "      <td>2019</td>\n",
              "      <td>clean vehicle</td>\n",
              "      <td>30902</td>\n",
              "      <td>no_color</td>\n",
              "      <td>3fa6p0lu8kr225585</td>\n",
              "      <td>167802381</td>\n",
              "      <td>north carolina</td>\n",
              "      <td>usa</td>\n",
              "      <td>2 days left</td>\n",
              "      <td>911.5</td>\n",
              "    </tr>\n",
              "  </tbody>\n",
              "</table>\n",
              "<p>1235 rows × 13 columns</p>\n",
              "</div>"
            ],
            "text/plain": [
              "      price brand   model  year  ...           state  country      condition    rank\n",
              "1      2899  ford      se  2011  ...       tennessee      usa    6 days left   156.0\n",
              "3     25000  ford    door  2014  ...        virginia      usa  22 hours left  1832.5\n",
              "9      5250  ford     mpv  2017  ...           texas      usa    2 days left   323.0\n",
              "14    20700  ford    door  2013  ...        virginia      usa  22 hours left  1525.0\n",
              "18     5210  ford     mpv  2017  ...           texas      usa    2 days left   322.0\n",
              "...     ...   ...     ...   ...  ...             ...      ...            ...     ...\n",
              "2199  13800  ford  fusion  2019  ...  north carolina      usa    2 days left   911.5\n",
              "2200  56000  ford     srw  2018  ...    pennsylvania      usa    3 days left  2476.0\n",
              "2201  13800  ford  fusion  2019  ...  north carolina      usa    2 days left   911.5\n",
              "2202  45800  ford     srw  2018  ...    pennsylvania      usa    2 days left  2405.0\n",
              "2203  13800  ford  fusion  2019  ...  north carolina      usa    2 days left   911.5\n",
              "\n",
              "[1235 rows x 13 columns]"
            ]
          },
          "metadata": {},
          "execution_count": 18
        }
      ]
    },
    {
      "cell_type": "code",
      "metadata": {
        "code_folding": [
          0
        ],
        "id": "5IpHy8o2vSZz"
      },
      "source": [
        "#@title **To'g'ri javob**\n",
        "df[df.brand=='ford']"
      ],
      "execution_count": null,
      "outputs": []
    },
    {
      "cell_type": "markdown",
      "metadata": {
        "id": "4PToFlKxvTDx"
      },
      "source": [
        "### **12-mashq**. Nissan kompaniyasining eng qimmat va eng arzon mashinalarini chiqaring"
      ]
    },
    {
      "cell_type": "code",
      "metadata": {
        "id": "HzJsC6LcvTDy",
        "outputId": "30ee33a2-2afe-4fb7-c445-51ffa7cc1ecf",
        "colab": {
          "base_uri": "https://localhost:8080/"
        }
      },
      "source": [
        "# Javobni shuyerga yozing\n",
        "niss = df[df.brand=='nissan']\n",
        "niss.loc[niss['price'].idxmax()]"
      ],
      "execution_count": 21,
      "outputs": [
        {
          "output_type": "execute_result",
          "data": {
            "text/plain": [
              "price                         36300\n",
              "brand                        nissan\n",
              "model                            xd\n",
              "year                           2017\n",
              "title_status          clean vehicle\n",
              "mileage                       16224\n",
              "color                         white\n",
              "vin               1n6ba1f46hn535299\n",
              "lot                       167753308\n",
              "state                      virginia\n",
              "country                         usa\n",
              "condition             21 hours left\n",
              "rank                         2305.5\n",
              "Name: 2375, dtype: object"
            ]
          },
          "metadata": {},
          "execution_count": 21
        }
      ]
    },
    {
      "cell_type": "code",
      "metadata": {
        "code_folding": [
          0
        ],
        "colab": {
          "base_uri": "https://localhost:8080/"
        },
        "id": "uvTTbgeovTDy",
        "outputId": "92927bde-2b4f-4d61-cbcd-f47e569d8535"
      },
      "source": [
        "#@title **To'g'ri javob**\n",
        "df_nissan = df[df.brand=='nissan']\n",
        "df_nissan.loc[df_nissan['price'].idxmin()]"
      ],
      "execution_count": null,
      "outputs": [
        {
          "output_type": "execute_result",
          "data": {
            "text/plain": [
              "price                           375\n",
              "brand                        nissan\n",
              "model                          door\n",
              "year                           2017\n",
              "title_status      salvage insurance\n",
              "mileage                           1\n",
              "color                           red\n",
              "vin               3n1ce2cp0hl360793\n",
              "lot                       167619908\n",
              "state                north carolina\n",
              "country                         usa\n",
              "condition               2 days left\n",
              "rank                             74\n",
              "Name: 2417, dtype: object"
            ]
          },
          "metadata": {},
          "execution_count": 106
        }
      ]
    },
    {
      "cell_type": "code",
      "metadata": {
        "colab": {
          "base_uri": "https://localhost:8080/"
        },
        "cellView": "form",
        "id": "dmymqyIL366J",
        "outputId": "87c3ea08-4c0d-4a4c-e92e-f711fbb481ff"
      },
      "source": [
        "#@title\n",
        "df_nissan.loc[df_nissan['price'].idxmax()]"
      ],
      "execution_count": null,
      "outputs": [
        {
          "output_type": "execute_result",
          "data": {
            "text/plain": [
              "price                         36300\n",
              "brand                        nissan\n",
              "model                            xd\n",
              "year                           2017\n",
              "title_status          clean vehicle\n",
              "mileage                       16224\n",
              "color                         white\n",
              "vin               1n6ba1f46hn535299\n",
              "lot                       167753308\n",
              "state                      virginia\n",
              "country                         usa\n",
              "condition             21 hours left\n",
              "rank                         2305.5\n",
              "Name: 2375, dtype: object"
            ]
          },
          "metadata": {},
          "execution_count": 107
        }
      ]
    },
    {
      "cell_type": "markdown",
      "metadata": {
        "id": "RPDinYlcvXGi"
      },
      "source": [
        "### **13-mashq**. Chevrolet kompaniyasining barcha modellarini chiqaring"
      ]
    },
    {
      "cell_type": "code",
      "metadata": {
        "id": "qSwaAhWCvXGi",
        "outputId": "e9d3f55a-43e8-4516-cdbc-f2f1d9b9eb3a",
        "colab": {
          "base_uri": "https://localhost:8080/"
        }
      },
      "source": [
        "# Javobni shuyerga yozing\n",
        "chev = df[df.brand=='chevrolet']\n",
        "chev['model'].value_counts()"
      ],
      "execution_count": 24,
      "outputs": [
        {
          "output_type": "execute_result",
          "data": {
            "text/plain": [
              "door         99\n",
              "1500         38\n",
              "equinox      18\n",
              "van          17\n",
              "suburban     16\n",
              "impala       12\n",
              "colorado     12\n",
              "malibu       12\n",
              "tahoe         9\n",
              "2500          8\n",
              "trax          8\n",
              "traverse      6\n",
              "camaro        6\n",
              "pickup        6\n",
              "3500          4\n",
              "corvette      4\n",
              "coupe         3\n",
              "ld            3\n",
              "passenger     3\n",
              "volt          2\n",
              "sonic         2\n",
              "cutaway       2\n",
              "cruze         2\n",
              "vehicl        1\n",
              "spark         1\n",
              "pk            1\n",
              "utility       1\n",
              "cab           1\n",
              "Name: model, dtype: int64"
            ]
          },
          "metadata": {},
          "execution_count": 24
        }
      ]
    },
    {
      "cell_type": "code",
      "metadata": {
        "code_folding": [
          0
        ],
        "colab": {
          "base_uri": "https://localhost:8080/"
        },
        "id": "sBUwEqCgvXGj",
        "outputId": "a11ad2f1-c054-4128-a334-63674cdb4349"
      },
      "source": [
        "#@title **To'g'ri javob**\n",
        "df[df.brand==\"chevrolet\"]['model'].value_counts()"
      ],
      "execution_count": null,
      "outputs": [
        {
          "output_type": "execute_result",
          "data": {
            "text/plain": [
              "door         99\n",
              "1500         38\n",
              "equinox      18\n",
              "van          17\n",
              "suburban     16\n",
              "impala       12\n",
              "malibu       12\n",
              "colorado     12\n",
              "tahoe         9\n",
              "2500          8\n",
              "trax          8\n",
              "pickup        6\n",
              "traverse      6\n",
              "camaro        6\n",
              "3500          4\n",
              "corvette      4\n",
              "coupe         3\n",
              "passenger     3\n",
              "ld            3\n",
              "volt          2\n",
              "cutaway       2\n",
              "cruze         2\n",
              "sonic         2\n",
              "pk            1\n",
              "vehicl        1\n",
              "cab           1\n",
              "spark         1\n",
              "utility       1\n",
              "Name: model, dtype: int64"
            ]
          },
          "metadata": {},
          "execution_count": 113
        }
      ]
    },
    {
      "cell_type": "markdown",
      "metadata": {
        "id": "ijQt0c434-sZ"
      },
      "source": [
        "### **14-mashq**. Mashina narxi va yili o'rtasidagi korrelyasiya qiymatini chiqaring"
      ]
    },
    {
      "cell_type": "code",
      "metadata": {
        "id": "N8QGeweY4-sa",
        "outputId": "b778e95a-a459-4427-bfa4-d2ef09ca61d3",
        "colab": {
          "base_uri": "https://localhost:8080/"
        }
      },
      "source": [
        "# Javobni shuyerga yozing\n",
        "df['price'].corr(df['year'])"
      ],
      "execution_count": 25,
      "outputs": [
        {
          "output_type": "execute_result",
          "data": {
            "text/plain": [
              "0.4182735684917942"
            ]
          },
          "metadata": {},
          "execution_count": 25
        }
      ]
    },
    {
      "cell_type": "code",
      "metadata": {
        "code_folding": [
          0
        ],
        "colab": {
          "base_uri": "https://localhost:8080/"
        },
        "cellView": "form",
        "id": "NWpTs1AE4-sa",
        "outputId": "acdb6b75-6a58-4776-ea09-71ea2f20b117"
      },
      "source": [
        "#@title **To'g'ri javob**\n",
        "df['price'].corr(df.year)"
      ],
      "execution_count": null,
      "outputs": [
        {
          "output_type": "execute_result",
          "data": {
            "text/plain": [
              "0.4182735684917942"
            ]
          },
          "metadata": {},
          "execution_count": 114
        }
      ]
    },
    {
      "cell_type": "markdown",
      "metadata": {
        "id": "8ay59JNT5UCV"
      },
      "source": [
        "### **14-mashq**. Mashina narxi va boshqa ustunlar o'rtasidagi korrelyasiyani chiqaring"
      ]
    },
    {
      "cell_type": "code",
      "metadata": {
        "id": "bw9SECvR5UCV",
        "outputId": "d6cc615e-8caf-4e1a-f596-865179d24802",
        "colab": {
          "base_uri": "https://localhost:8080/"
        }
      },
      "source": [
        "# Javobni shuyerga yozing\n",
        "df.corrwith(df['price'])"
      ],
      "execution_count": 27,
      "outputs": [
        {
          "output_type": "execute_result",
          "data": {
            "text/plain": [
              "price      1.000000\n",
              "year       0.418274\n",
              "mileage   -0.400838\n",
              "lot        0.159369\n",
              "rank       0.950057\n",
              "dtype: float64"
            ]
          },
          "metadata": {},
          "execution_count": 27
        }
      ]
    },
    {
      "cell_type": "code",
      "metadata": {
        "code_folding": [
          0
        ],
        "id": "_Abylyyx5UCW"
      },
      "source": [
        "#@title **To'g'ri javob**\n",
        "df.corrwith(df.price)"
      ],
      "execution_count": null,
      "outputs": []
    },
    {
      "cell_type": "code",
      "metadata": {
        "id": "qRvlU1A05w7M"
      },
      "source": [
        ""
      ],
      "execution_count": null,
      "outputs": []
    },
    {
      "cell_type": "markdown",
      "metadata": {
        "id": "_iFvLxMW5xUr"
      },
      "source": [
        "### **15-mashq**. DF dan kia va hyundai mashinalarini ajratib alohida DF ga saqlang. Yangi DFni chiqaring"
      ]
    },
    {
      "cell_type": "code",
      "metadata": {
        "id": "taP9pojY5xUr",
        "outputId": "e40296ae-b3f9-4fc1-cbf5-2040e46e4ee3",
        "colab": {
          "base_uri": "https://localhost:8080/",
          "height": 423
        }
      },
      "source": [
        "# Javobni shuyerga yozing\n",
        "kia = ['kia','hyundai']\n",
        "kia_hy = df[df['brand'].isin(df.brand)]\n",
        "kia_hy"
      ],
      "execution_count": 30,
      "outputs": [
        {
          "output_type": "execute_result",
          "data": {
            "text/html": [
              "<div>\n",
              "<style scoped>\n",
              "    .dataframe tbody tr th:only-of-type {\n",
              "        vertical-align: middle;\n",
              "    }\n",
              "\n",
              "    .dataframe tbody tr th {\n",
              "        vertical-align: top;\n",
              "    }\n",
              "\n",
              "    .dataframe thead th {\n",
              "        text-align: right;\n",
              "    }\n",
              "</style>\n",
              "<table border=\"1\" class=\"dataframe\">\n",
              "  <thead>\n",
              "    <tr style=\"text-align: right;\">\n",
              "      <th></th>\n",
              "      <th>price</th>\n",
              "      <th>brand</th>\n",
              "      <th>model</th>\n",
              "      <th>year</th>\n",
              "      <th>title_status</th>\n",
              "      <th>mileage</th>\n",
              "      <th>color</th>\n",
              "      <th>vin</th>\n",
              "      <th>lot</th>\n",
              "      <th>state</th>\n",
              "      <th>country</th>\n",
              "      <th>condition</th>\n",
              "      <th>rank</th>\n",
              "    </tr>\n",
              "  </thead>\n",
              "  <tbody>\n",
              "    <tr>\n",
              "      <th>0</th>\n",
              "      <td>6300</td>\n",
              "      <td>toyota</td>\n",
              "      <td>cruiser</td>\n",
              "      <td>2008</td>\n",
              "      <td>clean vehicle</td>\n",
              "      <td>274117</td>\n",
              "      <td>black</td>\n",
              "      <td>jtezu11f88k007763</td>\n",
              "      <td>159348797</td>\n",
              "      <td>new jersey</td>\n",
              "      <td>usa</td>\n",
              "      <td>10 days left</td>\n",
              "      <td>381.0</td>\n",
              "    </tr>\n",
              "    <tr>\n",
              "      <th>1</th>\n",
              "      <td>2899</td>\n",
              "      <td>ford</td>\n",
              "      <td>se</td>\n",
              "      <td>2011</td>\n",
              "      <td>clean vehicle</td>\n",
              "      <td>190552</td>\n",
              "      <td>silver</td>\n",
              "      <td>2fmdk3gc4bbb02217</td>\n",
              "      <td>166951262</td>\n",
              "      <td>tennessee</td>\n",
              "      <td>usa</td>\n",
              "      <td>6 days left</td>\n",
              "      <td>156.0</td>\n",
              "    </tr>\n",
              "    <tr>\n",
              "      <th>2</th>\n",
              "      <td>5350</td>\n",
              "      <td>dodge</td>\n",
              "      <td>mpv</td>\n",
              "      <td>2018</td>\n",
              "      <td>clean vehicle</td>\n",
              "      <td>39590</td>\n",
              "      <td>silver</td>\n",
              "      <td>3c4pdcgg5jt346413</td>\n",
              "      <td>167655728</td>\n",
              "      <td>georgia</td>\n",
              "      <td>usa</td>\n",
              "      <td>2 days left</td>\n",
              "      <td>326.5</td>\n",
              "    </tr>\n",
              "    <tr>\n",
              "      <th>3</th>\n",
              "      <td>25000</td>\n",
              "      <td>ford</td>\n",
              "      <td>door</td>\n",
              "      <td>2014</td>\n",
              "      <td>clean vehicle</td>\n",
              "      <td>64146</td>\n",
              "      <td>blue</td>\n",
              "      <td>1ftfw1et4efc23745</td>\n",
              "      <td>167753855</td>\n",
              "      <td>virginia</td>\n",
              "      <td>usa</td>\n",
              "      <td>22 hours left</td>\n",
              "      <td>1832.5</td>\n",
              "    </tr>\n",
              "    <tr>\n",
              "      <th>4</th>\n",
              "      <td>27700</td>\n",
              "      <td>chevrolet</td>\n",
              "      <td>1500</td>\n",
              "      <td>2018</td>\n",
              "      <td>clean vehicle</td>\n",
              "      <td>6654</td>\n",
              "      <td>red</td>\n",
              "      <td>3gcpcrec2jg473991</td>\n",
              "      <td>167763266</td>\n",
              "      <td>florida</td>\n",
              "      <td>usa</td>\n",
              "      <td>22 hours left</td>\n",
              "      <td>2005.0</td>\n",
              "    </tr>\n",
              "    <tr>\n",
              "      <th>...</th>\n",
              "      <td>...</td>\n",
              "      <td>...</td>\n",
              "      <td>...</td>\n",
              "      <td>...</td>\n",
              "      <td>...</td>\n",
              "      <td>...</td>\n",
              "      <td>...</td>\n",
              "      <td>...</td>\n",
              "      <td>...</td>\n",
              "      <td>...</td>\n",
              "      <td>...</td>\n",
              "      <td>...</td>\n",
              "      <td>...</td>\n",
              "    </tr>\n",
              "    <tr>\n",
              "      <th>2494</th>\n",
              "      <td>7800</td>\n",
              "      <td>nissan</td>\n",
              "      <td>versa</td>\n",
              "      <td>2019</td>\n",
              "      <td>clean vehicle</td>\n",
              "      <td>23609</td>\n",
              "      <td>red</td>\n",
              "      <td>3n1cn7ap9kl880319</td>\n",
              "      <td>167722715</td>\n",
              "      <td>california</td>\n",
              "      <td>usa</td>\n",
              "      <td>1 days left</td>\n",
              "      <td>477.5</td>\n",
              "    </tr>\n",
              "    <tr>\n",
              "      <th>2495</th>\n",
              "      <td>9200</td>\n",
              "      <td>nissan</td>\n",
              "      <td>versa</td>\n",
              "      <td>2018</td>\n",
              "      <td>clean vehicle</td>\n",
              "      <td>34553</td>\n",
              "      <td>silver</td>\n",
              "      <td>3n1cn7ap5jl884088</td>\n",
              "      <td>167762225</td>\n",
              "      <td>florida</td>\n",
              "      <td>usa</td>\n",
              "      <td>21 hours left</td>\n",
              "      <td>574.5</td>\n",
              "    </tr>\n",
              "    <tr>\n",
              "      <th>2496</th>\n",
              "      <td>9200</td>\n",
              "      <td>nissan</td>\n",
              "      <td>versa</td>\n",
              "      <td>2018</td>\n",
              "      <td>clean vehicle</td>\n",
              "      <td>31594</td>\n",
              "      <td>silver</td>\n",
              "      <td>3n1cn7ap9jl884191</td>\n",
              "      <td>167762226</td>\n",
              "      <td>florida</td>\n",
              "      <td>usa</td>\n",
              "      <td>21 hours left</td>\n",
              "      <td>574.5</td>\n",
              "    </tr>\n",
              "    <tr>\n",
              "      <th>2497</th>\n",
              "      <td>9200</td>\n",
              "      <td>nissan</td>\n",
              "      <td>versa</td>\n",
              "      <td>2018</td>\n",
              "      <td>clean vehicle</td>\n",
              "      <td>32557</td>\n",
              "      <td>black</td>\n",
              "      <td>3n1cn7ap3jl883263</td>\n",
              "      <td>167762227</td>\n",
              "      <td>florida</td>\n",
              "      <td>usa</td>\n",
              "      <td>2 days left</td>\n",
              "      <td>574.5</td>\n",
              "    </tr>\n",
              "    <tr>\n",
              "      <th>2498</th>\n",
              "      <td>9200</td>\n",
              "      <td>nissan</td>\n",
              "      <td>versa</td>\n",
              "      <td>2018</td>\n",
              "      <td>clean vehicle</td>\n",
              "      <td>31371</td>\n",
              "      <td>silver</td>\n",
              "      <td>3n1cn7ap4jl884311</td>\n",
              "      <td>167762228</td>\n",
              "      <td>florida</td>\n",
              "      <td>usa</td>\n",
              "      <td>21 hours left</td>\n",
              "      <td>574.5</td>\n",
              "    </tr>\n",
              "  </tbody>\n",
              "</table>\n",
              "<p>2499 rows × 13 columns</p>\n",
              "</div>"
            ],
            "text/plain": [
              "      price      brand    model  ...  country      condition    rank\n",
              "0      6300     toyota  cruiser  ...      usa   10 days left   381.0\n",
              "1      2899       ford       se  ...      usa    6 days left   156.0\n",
              "2      5350      dodge      mpv  ...      usa    2 days left   326.5\n",
              "3     25000       ford     door  ...      usa  22 hours left  1832.5\n",
              "4     27700  chevrolet     1500  ...      usa  22 hours left  2005.0\n",
              "...     ...        ...      ...  ...      ...            ...     ...\n",
              "2494   7800     nissan    versa  ...      usa    1 days left   477.5\n",
              "2495   9200     nissan    versa  ...      usa  21 hours left   574.5\n",
              "2496   9200     nissan    versa  ...      usa  21 hours left   574.5\n",
              "2497   9200     nissan    versa  ...      usa    2 days left   574.5\n",
              "2498   9200     nissan    versa  ...      usa  21 hours left   574.5\n",
              "\n",
              "[2499 rows x 13 columns]"
            ]
          },
          "metadata": {},
          "execution_count": 30
        }
      ]
    },
    {
      "cell_type": "code",
      "metadata": {
        "code_folding": [
          0
        ],
        "id": "6_A9WrdL5xUr"
      },
      "source": [
        "#@title **To'g'ri javob**\n",
        "brands = ['kia','hyundai']\n",
        "df2 = df[df['brand'].isin(brands)]\n",
        "df2"
      ],
      "execution_count": null,
      "outputs": []
    },
    {
      "cell_type": "code",
      "metadata": {
        "id": "HtAFMe2r6MO8"
      },
      "source": [
        ""
      ],
      "execution_count": null,
      "outputs": []
    },
    {
      "cell_type": "markdown",
      "metadata": {
        "id": "jz0yKgdi6MuQ"
      },
      "source": [
        "### **16-mashq**. Chevrolet kompaniyasining malibu va impala mashinalarini alohida DF ko'rinishida chiqaring"
      ]
    },
    {
      "cell_type": "code",
      "metadata": {
        "id": "sj8JYqGG6MuQ"
      },
      "source": [
        "# Javobni shuyerga yozing\n"
      ],
      "execution_count": null,
      "outputs": []
    },
    {
      "cell_type": "code",
      "metadata": {
        "code_folding": [
          0
        ],
        "id": "OjrBF1S36MuR"
      },
      "source": [
        "#@title **To'g'ri javob**\n",
        "models = ['malibu','impala']\n",
        "df_ch = df[df.brand=='chevrolet']\n",
        "df_ch[df_ch['model'].isin(models)]"
      ],
      "execution_count": null,
      "outputs": []
    },
    {
      "cell_type": "code",
      "metadata": {
        "id": "oyTVSCd26xXr"
      },
      "source": [
        ""
      ],
      "execution_count": null,
      "outputs": []
    },
    {
      "cell_type": "markdown",
      "metadata": {
        "id": "9SZPTK7G65jc"
      },
      "source": [
        "### **17-mashq**. Ford kompaniyasining mustang modelini alohioda DF ga ajrating"
      ]
    },
    {
      "cell_type": "code",
      "metadata": {
        "id": "kSsO-70L65jc"
      },
      "source": [
        "# Javobni shuyerga yozing\n"
      ],
      "execution_count": null,
      "outputs": []
    },
    {
      "cell_type": "code",
      "metadata": {
        "code_folding": [
          0
        ],
        "colab": {
          "base_uri": "https://localhost:8080/",
          "height": 204
        },
        "cellView": "form",
        "id": "EQhJKNgU65jc",
        "outputId": "bd41ad27-66a6-4c09-9547-331b192898b5"
      },
      "source": [
        "#@title **To'g'ri javob**\n",
        "df_mustang = df[(df['brand']=='ford') & (df['model']=='mustang')]\n",
        "df_mustang.head()"
      ],
      "execution_count": null,
      "outputs": [
        {
          "output_type": "execute_result",
          "data": {
            "text/html": [
              "<div>\n",
              "<style scoped>\n",
              "    .dataframe tbody tr th:only-of-type {\n",
              "        vertical-align: middle;\n",
              "    }\n",
              "\n",
              "    .dataframe tbody tr th {\n",
              "        vertical-align: top;\n",
              "    }\n",
              "\n",
              "    .dataframe thead th {\n",
              "        text-align: right;\n",
              "    }\n",
              "</style>\n",
              "<table border=\"1\" class=\"dataframe\">\n",
              "  <thead>\n",
              "    <tr style=\"text-align: right;\">\n",
              "      <th></th>\n",
              "      <th>price</th>\n",
              "      <th>brand</th>\n",
              "      <th>model</th>\n",
              "      <th>year</th>\n",
              "      <th>title_status</th>\n",
              "      <th>mileage</th>\n",
              "      <th>color</th>\n",
              "      <th>vin</th>\n",
              "      <th>lot</th>\n",
              "      <th>state</th>\n",
              "      <th>country</th>\n",
              "      <th>condition</th>\n",
              "      <th>rank</th>\n",
              "    </tr>\n",
              "  </thead>\n",
              "  <tbody>\n",
              "    <tr>\n",
              "      <th>632</th>\n",
              "      <td>25511</td>\n",
              "      <td>ford</td>\n",
              "      <td>mustang</td>\n",
              "      <td>2019</td>\n",
              "      <td>clean vehicle</td>\n",
              "      <td>11342</td>\n",
              "      <td>gray</td>\n",
              "      <td>1fatp8uh4k5177265</td>\n",
              "      <td>167763745</td>\n",
              "      <td>michigan</td>\n",
              "      <td>usa</td>\n",
              "      <td>19 hours left</td>\n",
              "      <td>1873.5</td>\n",
              "    </tr>\n",
              "    <tr>\n",
              "      <th>1224</th>\n",
              "      <td>21900</td>\n",
              "      <td>ford</td>\n",
              "      <td>mustang</td>\n",
              "      <td>2018</td>\n",
              "      <td>clean vehicle</td>\n",
              "      <td>29748</td>\n",
              "      <td>red</td>\n",
              "      <td>1fatp8uh4j5166362</td>\n",
              "      <td>167773235</td>\n",
              "      <td>new jersey</td>\n",
              "      <td>usa</td>\n",
              "      <td>2 days left</td>\n",
              "      <td>1589.0</td>\n",
              "    </tr>\n",
              "    <tr>\n",
              "      <th>1266</th>\n",
              "      <td>22000</td>\n",
              "      <td>ford</td>\n",
              "      <td>mustang</td>\n",
              "      <td>2018</td>\n",
              "      <td>clean vehicle</td>\n",
              "      <td>6248</td>\n",
              "      <td>red</td>\n",
              "      <td>1fa6p8th3j5135439</td>\n",
              "      <td>167778967</td>\n",
              "      <td>illinois</td>\n",
              "      <td>usa</td>\n",
              "      <td>2 days left</td>\n",
              "      <td>1598.5</td>\n",
              "    </tr>\n",
              "    <tr>\n",
              "      <th>1267</th>\n",
              "      <td>38200</td>\n",
              "      <td>ford</td>\n",
              "      <td>mustang</td>\n",
              "      <td>2019</td>\n",
              "      <td>clean vehicle</td>\n",
              "      <td>878</td>\n",
              "      <td>green</td>\n",
              "      <td>1fa6p8k02k5503784</td>\n",
              "      <td>167732976</td>\n",
              "      <td>florida</td>\n",
              "      <td>usa</td>\n",
              "      <td>1 days left</td>\n",
              "      <td>2333.5</td>\n",
              "    </tr>\n",
              "    <tr>\n",
              "      <th>1269</th>\n",
              "      <td>35000</td>\n",
              "      <td>ford</td>\n",
              "      <td>mustang</td>\n",
              "      <td>2018</td>\n",
              "      <td>clean vehicle</td>\n",
              "      <td>2042</td>\n",
              "      <td>blue</td>\n",
              "      <td>1fa6p8cf9j5131958</td>\n",
              "      <td>167778969</td>\n",
              "      <td>illinois</td>\n",
              "      <td>usa</td>\n",
              "      <td>21 hours left</td>\n",
              "      <td>2281.5</td>\n",
              "    </tr>\n",
              "  </tbody>\n",
              "</table>\n",
              "</div>"
            ],
            "text/plain": [
              "      price brand    model  year  ...       state  country      condition    rank\n",
              "632   25511  ford  mustang  2019  ...    michigan      usa  19 hours left  1873.5\n",
              "1224  21900  ford  mustang  2018  ...  new jersey      usa    2 days left  1589.0\n",
              "1266  22000  ford  mustang  2018  ...    illinois      usa    2 days left  1598.5\n",
              "1267  38200  ford  mustang  2019  ...     florida      usa    1 days left  2333.5\n",
              "1269  35000  ford  mustang  2018  ...    illinois      usa  21 hours left  2281.5\n",
              "\n",
              "[5 rows x 13 columns]"
            ]
          },
          "metadata": {},
          "execution_count": 130
        }
      ]
    },
    {
      "cell_type": "markdown",
      "metadata": {
        "id": "3qwu49AH_bIU"
      },
      "source": [
        "### **18-mashq**. 2018-yildan keyin chiqqan Mustang mashinalirining o'rtacha narxini chiqaring"
      ]
    },
    {
      "cell_type": "code",
      "metadata": {
        "id": "1adGOEuR_bIV"
      },
      "source": [
        "# Javobni shuyerga yozing\n"
      ],
      "execution_count": null,
      "outputs": []
    },
    {
      "cell_type": "code",
      "metadata": {
        "code_folding": [
          0
        ],
        "colab": {
          "base_uri": "https://localhost:8080/"
        },
        "cellView": "form",
        "id": "tpsmmWiA_bIV",
        "outputId": "58ff6090-02e5-44ef-9669-bce87fab88e2"
      },
      "source": [
        "#@title **To'g'ri javob**\n",
        "df_mustang[df_mustang['year']>=2018]['price'].mean()"
      ],
      "execution_count": null,
      "outputs": [
        {
          "output_type": "execute_result",
          "data": {
            "text/plain": [
              "24837.444444444445"
            ]
          },
          "metadata": {},
          "execution_count": 134
        }
      ]
    },
    {
      "cell_type": "code",
      "metadata": {
        "id": "WIU976AwGXQd"
      },
      "source": [
        ""
      ],
      "execution_count": null,
      "outputs": []
    },
    {
      "cell_type": "markdown",
      "metadata": {
        "id": "ktbMxLKAGXjP"
      },
      "source": [
        "### **19-mashq**. Mustang mashinalari haqida umumlashgan statistikani chiqaring"
      ]
    },
    {
      "cell_type": "code",
      "metadata": {
        "id": "LFBQsr5BGXjQ"
      },
      "source": [
        "# Javobni shuyerga yozing\n"
      ],
      "execution_count": null,
      "outputs": []
    },
    {
      "cell_type": "code",
      "metadata": {
        "code_folding": [
          0
        ],
        "colab": {
          "base_uri": "https://localhost:8080/",
          "height": 297
        },
        "cellView": "form",
        "id": "YAS7CnpSGXjQ",
        "outputId": "62d30b66-48ed-461e-8f30-391e92806f24"
      },
      "source": [
        "#@title **To'g'ri javob**\n",
        "df_mustang.describe()"
      ],
      "execution_count": null,
      "outputs": [
        {
          "output_type": "execute_result",
          "data": {
            "text/html": [
              "<div>\n",
              "<style scoped>\n",
              "    .dataframe tbody tr th:only-of-type {\n",
              "        vertical-align: middle;\n",
              "    }\n",
              "\n",
              "    .dataframe tbody tr th {\n",
              "        vertical-align: top;\n",
              "    }\n",
              "\n",
              "    .dataframe thead th {\n",
              "        text-align: right;\n",
              "    }\n",
              "</style>\n",
              "<table border=\"1\" class=\"dataframe\">\n",
              "  <thead>\n",
              "    <tr style=\"text-align: right;\">\n",
              "      <th></th>\n",
              "      <th>price</th>\n",
              "      <th>year</th>\n",
              "      <th>mileage</th>\n",
              "      <th>lot</th>\n",
              "      <th>rank</th>\n",
              "    </tr>\n",
              "  </thead>\n",
              "  <tbody>\n",
              "    <tr>\n",
              "      <th>count</th>\n",
              "      <td>29.000000</td>\n",
              "      <td>29.000000</td>\n",
              "      <td>29.000000</td>\n",
              "      <td>2.900000e+01</td>\n",
              "      <td>29.000000</td>\n",
              "    </tr>\n",
              "    <tr>\n",
              "      <th>mean</th>\n",
              "      <td>25841.758621</td>\n",
              "      <td>2018.517241</td>\n",
              "      <td>21551.931034</td>\n",
              "      <td>1.677386e+08</td>\n",
              "      <td>1791.189655</td>\n",
              "    </tr>\n",
              "    <tr>\n",
              "      <th>std</th>\n",
              "      <td>7781.073538</td>\n",
              "      <td>0.784706</td>\n",
              "      <td>12153.315994</td>\n",
              "      <td>7.464566e+04</td>\n",
              "      <td>390.396191</td>\n",
              "    </tr>\n",
              "    <tr>\n",
              "      <th>min</th>\n",
              "      <td>15500.000000</td>\n",
              "      <td>2016.000000</td>\n",
              "      <td>878.000000</td>\n",
              "      <td>1.675552e+08</td>\n",
              "      <td>1091.000000</td>\n",
              "    </tr>\n",
              "    <tr>\n",
              "      <th>25%</th>\n",
              "      <td>20500.000000</td>\n",
              "      <td>2018.000000</td>\n",
              "      <td>11342.000000</td>\n",
              "      <td>1.677355e+08</td>\n",
              "      <td>1515.500000</td>\n",
              "    </tr>\n",
              "    <tr>\n",
              "      <th>50%</th>\n",
              "      <td>22000.000000</td>\n",
              "      <td>2019.000000</td>\n",
              "      <td>25011.000000</td>\n",
              "      <td>1.677637e+08</td>\n",
              "      <td>1598.500000</td>\n",
              "    </tr>\n",
              "    <tr>\n",
              "      <th>75%</th>\n",
              "      <td>29800.000000</td>\n",
              "      <td>2019.000000</td>\n",
              "      <td>31561.000000</td>\n",
              "      <td>1.677824e+08</td>\n",
              "      <td>2111.000000</td>\n",
              "    </tr>\n",
              "    <tr>\n",
              "      <th>max</th>\n",
              "      <td>49000.000000</td>\n",
              "      <td>2020.000000</td>\n",
              "      <td>41147.000000</td>\n",
              "      <td>1.678018e+08</td>\n",
              "      <td>2439.500000</td>\n",
              "    </tr>\n",
              "  </tbody>\n",
              "</table>\n",
              "</div>"
            ],
            "text/plain": [
              "              price         year       mileage           lot         rank\n",
              "count     29.000000    29.000000     29.000000  2.900000e+01    29.000000\n",
              "mean   25841.758621  2018.517241  21551.931034  1.677386e+08  1791.189655\n",
              "std     7781.073538     0.784706  12153.315994  7.464566e+04   390.396191\n",
              "min    15500.000000  2016.000000    878.000000  1.675552e+08  1091.000000\n",
              "25%    20500.000000  2018.000000  11342.000000  1.677355e+08  1515.500000\n",
              "50%    22000.000000  2019.000000  25011.000000  1.677637e+08  1598.500000\n",
              "75%    29800.000000  2019.000000  31561.000000  1.677824e+08  2111.000000\n",
              "max    49000.000000  2020.000000  41147.000000  1.678018e+08  2439.500000"
            ]
          },
          "metadata": {},
          "execution_count": 135
        }
      ]
    },
    {
      "cell_type": "markdown",
      "metadata": {
        "id": "8Ks1qv8EHBfF"
      },
      "source": [
        "### **20-mashq**. Sotuvdagi ford mashinalarining aksari nechachni yilda ishlab chiqarilganini toping"
      ]
    },
    {
      "cell_type": "code",
      "metadata": {
        "id": "fk6XSQyCHBfG"
      },
      "source": [
        "# Javobni shuyerga yozing\n"
      ],
      "execution_count": null,
      "outputs": []
    },
    {
      "cell_type": "code",
      "metadata": {
        "code_folding": [
          0
        ],
        "colab": {
          "base_uri": "https://localhost:8080/"
        },
        "cellView": "form",
        "id": "-tecVjNWHBfG",
        "outputId": "0028cd6e-5b87-4efb-8ba9-54a9a19b322a"
      },
      "source": [
        "#@title **To'g'ri javob**\n",
        "df[df.brand=='ford'][['year']].value_counts().idxmax()"
      ],
      "execution_count": null,
      "outputs": [
        {
          "output_type": "execute_result",
          "data": {
            "text/plain": [
              "(2019,)"
            ]
          },
          "metadata": {},
          "execution_count": 146
        }
      ]
    }
  ]
}