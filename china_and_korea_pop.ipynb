{
  "nbformat": 4,
  "nbformat_minor": 0,
  "metadata": {
    "colab": {
      "name": "china_and_korea_pop.ipynb",
      "provenance": [],
      "authorship_tag": "ABX9TyM5rRwckwt0uOnlHw084mtV",
      "include_colab_link": true
    },
    "kernelspec": {
      "name": "python3",
      "display_name": "Python 3"
    },
    "language_info": {
      "name": "python"
    }
  },
  "cells": [
    {
      "cell_type": "markdown",
      "metadata": {
        "id": "view-in-github",
        "colab_type": "text"
      },
      "source": [
        "<a href=\"https://colab.research.google.com/github/rashidov9797/Data_Science_homeworks/blob/main/china_and_korea_pop.ipynb\" target=\"_parent\"><img src=\"https://colab.research.google.com/assets/colab-badge.svg\" alt=\"Open In Colab\"/></a>"
      ]
    },
    {
      "cell_type": "code",
      "metadata": {
        "id": "ZA-f4_NjNR4h"
      },
      "source": [
        "import pandas as pd\n",
        "import numpy as np"
      ],
      "execution_count": 1,
      "outputs": []
    },
    {
      "cell_type": "code",
      "metadata": {
        "id": "WQoliB63NdtP"
      },
      "source": [
        "df = pd.read_csv(\"korea_china_population.csv\")\n",
        "\n"
      ],
      "execution_count": 6,
      "outputs": []
    },
    {
      "cell_type": "code",
      "metadata": {
        "colab": {
          "base_uri": "https://localhost:8080/",
          "height": 206
        },
        "id": "7WLE9Ar9OVja",
        "outputId": "ea5b5731-d1ff-4d86-ecfa-02e697356ba2"
      },
      "source": [
        "df.head()"
      ],
      "execution_count": 7,
      "outputs": [
        {
          "output_type": "execute_result",
          "data": {
            "text/html": [
              "<div>\n",
              "<style scoped>\n",
              "    .dataframe tbody tr th:only-of-type {\n",
              "        vertical-align: middle;\n",
              "    }\n",
              "\n",
              "    .dataframe tbody tr th {\n",
              "        vertical-align: top;\n",
              "    }\n",
              "\n",
              "    .dataframe thead th {\n",
              "        text-align: right;\n",
              "    }\n",
              "</style>\n",
              "<table border=\"1\" class=\"dataframe\">\n",
              "  <thead>\n",
              "    <tr style=\"text-align: right;\">\n",
              "      <th></th>\n",
              "      <th>years</th>\n",
              "      <th>Korea</th>\n",
              "      <th>China</th>\n",
              "    </tr>\n",
              "  </thead>\n",
              "  <tbody>\n",
              "    <tr>\n",
              "      <th>0</th>\n",
              "      <td>1960</td>\n",
              "      <td>25012374.0</td>\n",
              "      <td>667070000.0</td>\n",
              "    </tr>\n",
              "    <tr>\n",
              "      <th>1</th>\n",
              "      <td>1961</td>\n",
              "      <td>25765673.0</td>\n",
              "      <td>660330000.0</td>\n",
              "    </tr>\n",
              "    <tr>\n",
              "      <th>2</th>\n",
              "      <td>1962</td>\n",
              "      <td>26513030.0</td>\n",
              "      <td>665770000.0</td>\n",
              "    </tr>\n",
              "    <tr>\n",
              "      <th>3</th>\n",
              "      <td>1963</td>\n",
              "      <td>27261747.0</td>\n",
              "      <td>682335000.0</td>\n",
              "    </tr>\n",
              "    <tr>\n",
              "      <th>4</th>\n",
              "      <td>1964</td>\n",
              "      <td>27984155.0</td>\n",
              "      <td>698355000.0</td>\n",
              "    </tr>\n",
              "  </tbody>\n",
              "</table>\n",
              "</div>"
            ],
            "text/plain": [
              "   years       Korea        China\n",
              "0   1960  25012374.0  667070000.0\n",
              "1   1961  25765673.0  660330000.0\n",
              "2   1962  26513030.0  665770000.0\n",
              "3   1963  27261747.0  682335000.0\n",
              "4   1964  27984155.0  698355000.0"
            ]
          },
          "metadata": {},
          "execution_count": 7
        }
      ]
    },
    {
      "cell_type": "code",
      "metadata": {
        "colab": {
          "base_uri": "https://localhost:8080/"
        },
        "id": "UqTJIsNJRJEq",
        "outputId": "eb74979d-3b71-451c-a84b-4d0d1b760e07"
      },
      "source": [
        "df.columns"
      ],
      "execution_count": 8,
      "outputs": [
        {
          "output_type": "execute_result",
          "data": {
            "text/plain": [
              "Index(['years', 'Korea', 'China'], dtype='object')"
            ]
          },
          "metadata": {},
          "execution_count": 8
        }
      ]
    },
    {
      "cell_type": "code",
      "metadata": {
        "colab": {
          "base_uri": "https://localhost:8080/"
        },
        "id": "RS4OuMcGROQf",
        "outputId": "dfe0ce94-2dad-410c-847d-69697cb362a8"
      },
      "source": [
        "df.value_counts()"
      ],
      "execution_count": 9,
      "outputs": [
        {
          "output_type": "execute_result",
          "data": {
            "text/plain": [
              "years  Korea       China       \n",
              "2020   51780579.0  1.471287e+09    1\n",
              "1989   42449038.0  1.118650e+09    1\n",
              "1987   41621690.0  1.084035e+09    1\n",
              "1986   41213674.0  1.066790e+09    1\n",
              "1985   40805744.0  1.051040e+09    1\n",
              "                                  ..\n",
              "1995   45092991.0  1.204855e+09    1\n",
              "1994   44641540.0  1.191835e+09    1\n",
              "1993   44194628.0  1.178440e+09    1\n",
              "1992   43747962.0  1.164970e+09    1\n",
              "1960   25012374.0  6.670700e+08    1\n",
              "Length: 61, dtype: int64"
            ]
          },
          "metadata": {},
          "execution_count": 9
        }
      ]
    },
    {
      "cell_type": "code",
      "metadata": {
        "colab": {
          "base_uri": "https://localhost:8080/"
        },
        "id": "RO2tewiFRUAp",
        "outputId": "8f9db4c8-b14b-43ba-9dd3-3f251d2773ad"
      },
      "source": [
        "df.shape"
      ],
      "execution_count": 10,
      "outputs": [
        {
          "output_type": "execute_result",
          "data": {
            "text/plain": [
              "(61, 3)"
            ]
          },
          "metadata": {},
          "execution_count": 10
        }
      ]
    },
    {
      "cell_type": "code",
      "metadata": {
        "id": "zfkaIi_ARWJT"
      },
      "source": [
        "df['rank'] = df['years'].rank()"
      ],
      "execution_count": 11,
      "outputs": []
    },
    {
      "cell_type": "code",
      "metadata": {
        "colab": {
          "base_uri": "https://localhost:8080/",
          "height": 423
        },
        "id": "52ZkfbzHSSjc",
        "outputId": "3436c9df-9ed8-47ca-d72a-9a5561b8931f"
      },
      "source": [
        "df"
      ],
      "execution_count": 12,
      "outputs": [
        {
          "output_type": "execute_result",
          "data": {
            "text/html": [
              "<div>\n",
              "<style scoped>\n",
              "    .dataframe tbody tr th:only-of-type {\n",
              "        vertical-align: middle;\n",
              "    }\n",
              "\n",
              "    .dataframe tbody tr th {\n",
              "        vertical-align: top;\n",
              "    }\n",
              "\n",
              "    .dataframe thead th {\n",
              "        text-align: right;\n",
              "    }\n",
              "</style>\n",
              "<table border=\"1\" class=\"dataframe\">\n",
              "  <thead>\n",
              "    <tr style=\"text-align: right;\">\n",
              "      <th></th>\n",
              "      <th>years</th>\n",
              "      <th>Korea</th>\n",
              "      <th>China</th>\n",
              "      <th>rank</th>\n",
              "    </tr>\n",
              "  </thead>\n",
              "  <tbody>\n",
              "    <tr>\n",
              "      <th>0</th>\n",
              "      <td>1960</td>\n",
              "      <td>25012374.0</td>\n",
              "      <td>6.670700e+08</td>\n",
              "      <td>1.0</td>\n",
              "    </tr>\n",
              "    <tr>\n",
              "      <th>1</th>\n",
              "      <td>1961</td>\n",
              "      <td>25765673.0</td>\n",
              "      <td>6.603300e+08</td>\n",
              "      <td>2.0</td>\n",
              "    </tr>\n",
              "    <tr>\n",
              "      <th>2</th>\n",
              "      <td>1962</td>\n",
              "      <td>26513030.0</td>\n",
              "      <td>6.657700e+08</td>\n",
              "      <td>3.0</td>\n",
              "    </tr>\n",
              "    <tr>\n",
              "      <th>3</th>\n",
              "      <td>1963</td>\n",
              "      <td>27261747.0</td>\n",
              "      <td>6.823350e+08</td>\n",
              "      <td>4.0</td>\n",
              "    </tr>\n",
              "    <tr>\n",
              "      <th>4</th>\n",
              "      <td>1964</td>\n",
              "      <td>27984155.0</td>\n",
              "      <td>6.983550e+08</td>\n",
              "      <td>5.0</td>\n",
              "    </tr>\n",
              "    <tr>\n",
              "      <th>...</th>\n",
              "      <td>...</td>\n",
              "      <td>...</td>\n",
              "      <td>...</td>\n",
              "      <td>...</td>\n",
              "    </tr>\n",
              "    <tr>\n",
              "      <th>56</th>\n",
              "      <td>2016</td>\n",
              "      <td>51217803.0</td>\n",
              "      <td>1.445524e+09</td>\n",
              "      <td>57.0</td>\n",
              "    </tr>\n",
              "    <tr>\n",
              "      <th>57</th>\n",
              "      <td>2017</td>\n",
              "      <td>51361911.0</td>\n",
              "      <td>1.452625e+09</td>\n",
              "      <td>58.0</td>\n",
              "    </tr>\n",
              "    <tr>\n",
              "      <th>58</th>\n",
              "      <td>2018</td>\n",
              "      <td>51606633.0</td>\n",
              "      <td>1.459378e+09</td>\n",
              "      <td>59.0</td>\n",
              "    </tr>\n",
              "    <tr>\n",
              "      <th>59</th>\n",
              "      <td>2019</td>\n",
              "      <td>51709098.0</td>\n",
              "      <td>1.465634e+09</td>\n",
              "      <td>60.0</td>\n",
              "    </tr>\n",
              "    <tr>\n",
              "      <th>60</th>\n",
              "      <td>2020</td>\n",
              "      <td>51780579.0</td>\n",
              "      <td>1.471287e+09</td>\n",
              "      <td>61.0</td>\n",
              "    </tr>\n",
              "  </tbody>\n",
              "</table>\n",
              "<p>61 rows × 4 columns</p>\n",
              "</div>"
            ],
            "text/plain": [
              "    years       Korea         China  rank\n",
              "0    1960  25012374.0  6.670700e+08   1.0\n",
              "1    1961  25765673.0  6.603300e+08   2.0\n",
              "2    1962  26513030.0  6.657700e+08   3.0\n",
              "3    1963  27261747.0  6.823350e+08   4.0\n",
              "4    1964  27984155.0  6.983550e+08   5.0\n",
              "..    ...         ...           ...   ...\n",
              "56   2016  51217803.0  1.445524e+09  57.0\n",
              "57   2017  51361911.0  1.452625e+09  58.0\n",
              "58   2018  51606633.0  1.459378e+09  59.0\n",
              "59   2019  51709098.0  1.465634e+09  60.0\n",
              "60   2020  51780579.0  1.471287e+09  61.0\n",
              "\n",
              "[61 rows x 4 columns]"
            ]
          },
          "metadata": {},
          "execution_count": 12
        }
      ]
    },
    {
      "cell_type": "code",
      "metadata": {
        "colab": {
          "base_uri": "https://localhost:8080/",
          "height": 81
        },
        "id": "QuipewLmSTct",
        "outputId": "f6f1363f-ddd5-40a6-9027-f17fd03d4090"
      },
      "source": [
        "df[df.years==2020]"
      ],
      "execution_count": 20,
      "outputs": [
        {
          "output_type": "execute_result",
          "data": {
            "text/html": [
              "<div>\n",
              "<style scoped>\n",
              "    .dataframe tbody tr th:only-of-type {\n",
              "        vertical-align: middle;\n",
              "    }\n",
              "\n",
              "    .dataframe tbody tr th {\n",
              "        vertical-align: top;\n",
              "    }\n",
              "\n",
              "    .dataframe thead th {\n",
              "        text-align: right;\n",
              "    }\n",
              "</style>\n",
              "<table border=\"1\" class=\"dataframe\">\n",
              "  <thead>\n",
              "    <tr style=\"text-align: right;\">\n",
              "      <th></th>\n",
              "      <th>years</th>\n",
              "      <th>Korea</th>\n",
              "      <th>China</th>\n",
              "      <th>rank</th>\n",
              "    </tr>\n",
              "  </thead>\n",
              "  <tbody>\n",
              "    <tr>\n",
              "      <th>60</th>\n",
              "      <td>2020</td>\n",
              "      <td>51780579.0</td>\n",
              "      <td>1.471287e+09</td>\n",
              "      <td>61.0</td>\n",
              "    </tr>\n",
              "  </tbody>\n",
              "</table>\n",
              "</div>"
            ],
            "text/plain": [
              "    years       Korea         China  rank\n",
              "60   2020  51780579.0  1.471287e+09  61.0"
            ]
          },
          "metadata": {},
          "execution_count": 20
        }
      ]
    },
    {
      "cell_type": "code",
      "metadata": {
        "colab": {
          "base_uri": "https://localhost:8080/",
          "height": 423
        },
        "id": "M3SCnO2dTNd-",
        "outputId": "3c206855-f707-476a-c64d-20f3c232b478"
      },
      "source": [
        "df.sort_values(by='years')"
      ],
      "execution_count": 22,
      "outputs": [
        {
          "output_type": "execute_result",
          "data": {
            "text/html": [
              "<div>\n",
              "<style scoped>\n",
              "    .dataframe tbody tr th:only-of-type {\n",
              "        vertical-align: middle;\n",
              "    }\n",
              "\n",
              "    .dataframe tbody tr th {\n",
              "        vertical-align: top;\n",
              "    }\n",
              "\n",
              "    .dataframe thead th {\n",
              "        text-align: right;\n",
              "    }\n",
              "</style>\n",
              "<table border=\"1\" class=\"dataframe\">\n",
              "  <thead>\n",
              "    <tr style=\"text-align: right;\">\n",
              "      <th></th>\n",
              "      <th>years</th>\n",
              "      <th>Korea</th>\n",
              "      <th>China</th>\n",
              "      <th>rank</th>\n",
              "    </tr>\n",
              "  </thead>\n",
              "  <tbody>\n",
              "    <tr>\n",
              "      <th>0</th>\n",
              "      <td>1960</td>\n",
              "      <td>25012374.0</td>\n",
              "      <td>6.670700e+08</td>\n",
              "      <td>1.0</td>\n",
              "    </tr>\n",
              "    <tr>\n",
              "      <th>1</th>\n",
              "      <td>1961</td>\n",
              "      <td>25765673.0</td>\n",
              "      <td>6.603300e+08</td>\n",
              "      <td>2.0</td>\n",
              "    </tr>\n",
              "    <tr>\n",
              "      <th>2</th>\n",
              "      <td>1962</td>\n",
              "      <td>26513030.0</td>\n",
              "      <td>6.657700e+08</td>\n",
              "      <td>3.0</td>\n",
              "    </tr>\n",
              "    <tr>\n",
              "      <th>3</th>\n",
              "      <td>1963</td>\n",
              "      <td>27261747.0</td>\n",
              "      <td>6.823350e+08</td>\n",
              "      <td>4.0</td>\n",
              "    </tr>\n",
              "    <tr>\n",
              "      <th>4</th>\n",
              "      <td>1964</td>\n",
              "      <td>27984155.0</td>\n",
              "      <td>6.983550e+08</td>\n",
              "      <td>5.0</td>\n",
              "    </tr>\n",
              "    <tr>\n",
              "      <th>...</th>\n",
              "      <td>...</td>\n",
              "      <td>...</td>\n",
              "      <td>...</td>\n",
              "      <td>...</td>\n",
              "    </tr>\n",
              "    <tr>\n",
              "      <th>56</th>\n",
              "      <td>2016</td>\n",
              "      <td>51217803.0</td>\n",
              "      <td>1.445524e+09</td>\n",
              "      <td>57.0</td>\n",
              "    </tr>\n",
              "    <tr>\n",
              "      <th>57</th>\n",
              "      <td>2017</td>\n",
              "      <td>51361911.0</td>\n",
              "      <td>1.452625e+09</td>\n",
              "      <td>58.0</td>\n",
              "    </tr>\n",
              "    <tr>\n",
              "      <th>58</th>\n",
              "      <td>2018</td>\n",
              "      <td>51606633.0</td>\n",
              "      <td>1.459378e+09</td>\n",
              "      <td>59.0</td>\n",
              "    </tr>\n",
              "    <tr>\n",
              "      <th>59</th>\n",
              "      <td>2019</td>\n",
              "      <td>51709098.0</td>\n",
              "      <td>1.465634e+09</td>\n",
              "      <td>60.0</td>\n",
              "    </tr>\n",
              "    <tr>\n",
              "      <th>60</th>\n",
              "      <td>2020</td>\n",
              "      <td>51780579.0</td>\n",
              "      <td>1.471287e+09</td>\n",
              "      <td>61.0</td>\n",
              "    </tr>\n",
              "  </tbody>\n",
              "</table>\n",
              "<p>61 rows × 4 columns</p>\n",
              "</div>"
            ],
            "text/plain": [
              "    years       Korea         China  rank\n",
              "0    1960  25012374.0  6.670700e+08   1.0\n",
              "1    1961  25765673.0  6.603300e+08   2.0\n",
              "2    1962  26513030.0  6.657700e+08   3.0\n",
              "3    1963  27261747.0  6.823350e+08   4.0\n",
              "4    1964  27984155.0  6.983550e+08   5.0\n",
              "..    ...         ...           ...   ...\n",
              "56   2016  51217803.0  1.445524e+09  57.0\n",
              "57   2017  51361911.0  1.452625e+09  58.0\n",
              "58   2018  51606633.0  1.459378e+09  59.0\n",
              "59   2019  51709098.0  1.465634e+09  60.0\n",
              "60   2020  51780579.0  1.471287e+09  61.0\n",
              "\n",
              "[61 rows x 4 columns]"
            ]
          },
          "metadata": {},
          "execution_count": 22
        }
      ]
    },
    {
      "cell_type": "code",
      "metadata": {
        "colab": {
          "base_uri": "https://localhost:8080/",
          "height": 300
        },
        "id": "AEZKeMG-T99r",
        "outputId": "0b2384fc-7252-4adb-ce6b-d480b7b92b2e"
      },
      "source": [
        "df.describe()"
      ],
      "execution_count": 24,
      "outputs": [
        {
          "output_type": "execute_result",
          "data": {
            "text/html": [
              "<div>\n",
              "<style scoped>\n",
              "    .dataframe tbody tr th:only-of-type {\n",
              "        vertical-align: middle;\n",
              "    }\n",
              "\n",
              "    .dataframe tbody tr th {\n",
              "        vertical-align: top;\n",
              "    }\n",
              "\n",
              "    .dataframe thead th {\n",
              "        text-align: right;\n",
              "    }\n",
              "</style>\n",
              "<table border=\"1\" class=\"dataframe\">\n",
              "  <thead>\n",
              "    <tr style=\"text-align: right;\">\n",
              "      <th></th>\n",
              "      <th>years</th>\n",
              "      <th>Korea</th>\n",
              "      <th>China</th>\n",
              "      <th>rank</th>\n",
              "    </tr>\n",
              "  </thead>\n",
              "  <tbody>\n",
              "    <tr>\n",
              "      <th>count</th>\n",
              "      <td>61.000000</td>\n",
              "      <td>6.100000e+01</td>\n",
              "      <td>6.100000e+01</td>\n",
              "      <td>61.000000</td>\n",
              "    </tr>\n",
              "    <tr>\n",
              "      <th>mean</th>\n",
              "      <td>1990.000000</td>\n",
              "      <td>4.142161e+07</td>\n",
              "      <td>1.104911e+09</td>\n",
              "      <td>31.000000</td>\n",
              "    </tr>\n",
              "    <tr>\n",
              "      <th>std</th>\n",
              "      <td>17.752934</td>\n",
              "      <td>7.972018e+06</td>\n",
              "      <td>2.492926e+08</td>\n",
              "      <td>17.752934</td>\n",
              "    </tr>\n",
              "    <tr>\n",
              "      <th>min</th>\n",
              "      <td>1960.000000</td>\n",
              "      <td>2.501237e+07</td>\n",
              "      <td>6.603300e+08</td>\n",
              "      <td>1.000000</td>\n",
              "    </tr>\n",
              "    <tr>\n",
              "      <th>25%</th>\n",
              "      <td>1975.000000</td>\n",
              "      <td>3.528072e+07</td>\n",
              "      <td>9.163950e+08</td>\n",
              "      <td>16.000000</td>\n",
              "    </tr>\n",
              "    <tr>\n",
              "      <th>50%</th>\n",
              "      <td>1990.000000</td>\n",
              "      <td>4.286928e+07</td>\n",
              "      <td>1.135185e+09</td>\n",
              "      <td>31.000000</td>\n",
              "    </tr>\n",
              "    <tr>\n",
              "      <th>75%</th>\n",
              "      <td>2005.000000</td>\n",
              "      <td>4.818456e+07</td>\n",
              "      <td>1.303720e+09</td>\n",
              "      <td>46.000000</td>\n",
              "    </tr>\n",
              "    <tr>\n",
              "      <th>max</th>\n",
              "      <td>2020.000000</td>\n",
              "      <td>5.178058e+07</td>\n",
              "      <td>1.471287e+09</td>\n",
              "      <td>61.000000</td>\n",
              "    </tr>\n",
              "  </tbody>\n",
              "</table>\n",
              "</div>"
            ],
            "text/plain": [
              "             years         Korea         China       rank\n",
              "count    61.000000  6.100000e+01  6.100000e+01  61.000000\n",
              "mean   1990.000000  4.142161e+07  1.104911e+09  31.000000\n",
              "std      17.752934  7.972018e+06  2.492926e+08  17.752934\n",
              "min    1960.000000  2.501237e+07  6.603300e+08   1.000000\n",
              "25%    1975.000000  3.528072e+07  9.163950e+08  16.000000\n",
              "50%    1990.000000  4.286928e+07  1.135185e+09  31.000000\n",
              "75%    2005.000000  4.818456e+07  1.303720e+09  46.000000\n",
              "max    2020.000000  5.178058e+07  1.471287e+09  61.000000"
            ]
          },
          "metadata": {},
          "execution_count": 24
        }
      ]
    },
    {
      "cell_type": "code",
      "metadata": {
        "colab": {
          "base_uri": "https://localhost:8080/"
        },
        "id": "bpFW-SBUVH3i",
        "outputId": "7009d50b-5d29-4cb1-ae27-14c4372cddff"
      },
      "source": [
        "chin_df = df[df.columns[2]]\n",
        "chin_df"
      ],
      "execution_count": 41,
      "outputs": [
        {
          "output_type": "execute_result",
          "data": {
            "text/plain": [
              "0     6.670700e+08\n",
              "1     6.603300e+08\n",
              "2     6.657700e+08\n",
              "3     6.823350e+08\n",
              "4     6.983550e+08\n",
              "          ...     \n",
              "56    1.445524e+09\n",
              "57    1.452625e+09\n",
              "58    1.459378e+09\n",
              "59    1.465634e+09\n",
              "60    1.471287e+09\n",
              "Name: China, Length: 61, dtype: float64"
            ]
          },
          "metadata": {},
          "execution_count": 41
        }
      ]
    },
    {
      "cell_type": "code",
      "metadata": {
        "id": "lFiZbrkgWA5A"
      },
      "source": [
        ""
      ],
      "execution_count": null,
      "outputs": []
    }
  ]
}