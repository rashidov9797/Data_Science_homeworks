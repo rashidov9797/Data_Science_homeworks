{
  "nbformat": 4,
  "nbformat_minor": 0,
  "metadata": {
    "colab": {
      "name": "vaccination.ipynb",
      "provenance": [],
      "authorship_tag": "ABX9TyORhAG5MMkVdTVezDh4Cosg",
      "include_colab_link": true
    },
    "kernelspec": {
      "name": "python3",
      "display_name": "Python 3"
    },
    "language_info": {
      "name": "python"
    }
  },
  "cells": [
    {
      "cell_type": "markdown",
      "metadata": {
        "id": "view-in-github",
        "colab_type": "text"
      },
      "source": [
        "<a href=\"https://colab.research.google.com/github/rashidov9797/Data_Science_homeworks/blob/main/vaccination.ipynb\" target=\"_parent\"><img src=\"https://colab.research.google.com/assets/colab-badge.svg\" alt=\"Open In Colab\"/></a>"
      ]
    },
    {
      "cell_type": "code",
      "metadata": {
        "id": "VOYwbDteUKK7"
      },
      "source": [
        "import pandas as pd\n",
        "import numpy as np"
      ],
      "execution_count": 1,
      "outputs": []
    },
    {
      "cell_type": "code",
      "metadata": {
        "id": "cg4o9uLfCxQG"
      },
      "source": [
        "df = pd.read_csv(\"/content/Covid_vaccination.csv\")"
      ],
      "execution_count": 64,
      "outputs": []
    },
    {
      "cell_type": "code",
      "metadata": {
        "colab": {
          "base_uri": "https://localhost:8080/"
        },
        "id": "IbGO12k8C2bT",
        "outputId": "da3d5869-9cc7-48ef-a075-875f7ad245de"
      },
      "source": [
        "df.isnull().sum()"
      ],
      "execution_count": 65,
      "outputs": [
        {
          "output_type": "execute_result",
          "data": {
            "text/plain": [
              "Unnamed: 0                 0\n",
              "country                    0\n",
              "iso_code                   0\n",
              "date                       0\n",
              "total_vaccinations         0\n",
              "people_vaccinated          0\n",
              "people_fully_vaccinated    0\n",
              "New_deaths                 0\n",
              "population                 0\n",
              "ratio                      0\n",
              "dtype: int64"
            ]
          },
          "metadata": {},
          "execution_count": 65
        }
      ]
    },
    {
      "cell_type": "code",
      "metadata": {
        "colab": {
          "base_uri": "https://localhost:8080/"
        },
        "id": "brwIWtXLEQWP",
        "outputId": "4d82e152-39b7-4af9-a4c2-36ce001caeba"
      },
      "source": [
        "df.duplicated().sum() "
      ],
      "execution_count": 45,
      "outputs": [
        {
          "output_type": "execute_result",
          "data": {
            "text/plain": [
              "0"
            ]
          },
          "metadata": {},
          "execution_count": 45
        }
      ]
    },
    {
      "cell_type": "code",
      "metadata": {
        "id": "KZF45hcaNMJe"
      },
      "source": [
        "df.drop_duplicates(['country'],inplace=True)"
      ],
      "execution_count": 56,
      "outputs": []
    },
    {
      "cell_type": "code",
      "metadata": {
        "colab": {
          "base_uri": "https://localhost:8080/",
          "height": 424
        },
        "id": "5t0B43NBNTvD",
        "outputId": "61cb6688-a09c-428c-e95f-bef21634cfc3"
      },
      "source": [
        "df"
      ],
      "execution_count": 66,
      "outputs": [
        {
          "output_type": "execute_result",
          "data": {
            "text/html": [
              "<div>\n",
              "<style scoped>\n",
              "    .dataframe tbody tr th:only-of-type {\n",
              "        vertical-align: middle;\n",
              "    }\n",
              "\n",
              "    .dataframe tbody tr th {\n",
              "        vertical-align: top;\n",
              "    }\n",
              "\n",
              "    .dataframe thead th {\n",
              "        text-align: right;\n",
              "    }\n",
              "</style>\n",
              "<table border=\"1\" class=\"dataframe\">\n",
              "  <thead>\n",
              "    <tr style=\"text-align: right;\">\n",
              "      <th></th>\n",
              "      <th>Unnamed: 0</th>\n",
              "      <th>country</th>\n",
              "      <th>iso_code</th>\n",
              "      <th>date</th>\n",
              "      <th>total_vaccinations</th>\n",
              "      <th>people_vaccinated</th>\n",
              "      <th>people_fully_vaccinated</th>\n",
              "      <th>New_deaths</th>\n",
              "      <th>population</th>\n",
              "      <th>ratio</th>\n",
              "    </tr>\n",
              "  </thead>\n",
              "  <tbody>\n",
              "    <tr>\n",
              "      <th>0</th>\n",
              "      <td>0</td>\n",
              "      <td>Afghanistan</td>\n",
              "      <td>AFG</td>\n",
              "      <td>2021-05-11</td>\n",
              "      <td>504502.0</td>\n",
              "      <td>448878.0</td>\n",
              "      <td>55624.0</td>\n",
              "      <td>12</td>\n",
              "      <td>40194523.0</td>\n",
              "      <td>1.116764</td>\n",
              "    </tr>\n",
              "    <tr>\n",
              "      <th>1</th>\n",
              "      <td>1</td>\n",
              "      <td>Afghanistan</td>\n",
              "      <td>AFG</td>\n",
              "      <td>2021-05-20</td>\n",
              "      <td>547901.0</td>\n",
              "      <td>470341.0</td>\n",
              "      <td>77560.0</td>\n",
              "      <td>10</td>\n",
              "      <td>40194523.0</td>\n",
              "      <td>1.170162</td>\n",
              "    </tr>\n",
              "    <tr>\n",
              "      <th>2</th>\n",
              "      <td>2</td>\n",
              "      <td>Afghanistan</td>\n",
              "      <td>AFG</td>\n",
              "      <td>2021-05-24</td>\n",
              "      <td>573277.0</td>\n",
              "      <td>476367.0</td>\n",
              "      <td>96910.0</td>\n",
              "      <td>10</td>\n",
              "      <td>40194523.0</td>\n",
              "      <td>1.185154</td>\n",
              "    </tr>\n",
              "    <tr>\n",
              "      <th>3</th>\n",
              "      <td>3</td>\n",
              "      <td>Afghanistan</td>\n",
              "      <td>AFG</td>\n",
              "      <td>2021-05-26</td>\n",
              "      <td>590454.0</td>\n",
              "      <td>479372.0</td>\n",
              "      <td>111082.0</td>\n",
              "      <td>19</td>\n",
              "      <td>40194523.0</td>\n",
              "      <td>1.192630</td>\n",
              "    </tr>\n",
              "    <tr>\n",
              "      <th>4</th>\n",
              "      <td>4</td>\n",
              "      <td>Afghanistan</td>\n",
              "      <td>AFG</td>\n",
              "      <td>2021-05-27</td>\n",
              "      <td>593313.0</td>\n",
              "      <td>479574.0</td>\n",
              "      <td>113739.0</td>\n",
              "      <td>14</td>\n",
              "      <td>40194523.0</td>\n",
              "      <td>1.193133</td>\n",
              "    </tr>\n",
              "    <tr>\n",
              "      <th>...</th>\n",
              "      <td>...</td>\n",
              "      <td>...</td>\n",
              "      <td>...</td>\n",
              "      <td>...</td>\n",
              "      <td>...</td>\n",
              "      <td>...</td>\n",
              "      <td>...</td>\n",
              "      <td>...</td>\n",
              "      <td>...</td>\n",
              "      <td>...</td>\n",
              "    </tr>\n",
              "    <tr>\n",
              "      <th>24174</th>\n",
              "      <td>24174</td>\n",
              "      <td>Zimbabwe</td>\n",
              "      <td>ZWE</td>\n",
              "      <td>2021-11-15</td>\n",
              "      <td>6190303.0</td>\n",
              "      <td>3484207.0</td>\n",
              "      <td>2706096.0</td>\n",
              "      <td>1</td>\n",
              "      <td>15183882.0</td>\n",
              "      <td>22.946747</td>\n",
              "    </tr>\n",
              "    <tr>\n",
              "      <th>24175</th>\n",
              "      <td>24175</td>\n",
              "      <td>Zimbabwe</td>\n",
              "      <td>ZWE</td>\n",
              "      <td>2021-11-16</td>\n",
              "      <td>6228119.0</td>\n",
              "      <td>3515140.0</td>\n",
              "      <td>2712979.0</td>\n",
              "      <td>0</td>\n",
              "      <td>15183882.0</td>\n",
              "      <td>23.150470</td>\n",
              "    </tr>\n",
              "    <tr>\n",
              "      <th>24176</th>\n",
              "      <td>24176</td>\n",
              "      <td>Zimbabwe</td>\n",
              "      <td>ZWE</td>\n",
              "      <td>2021-11-18</td>\n",
              "      <td>6310431.0</td>\n",
              "      <td>3583256.0</td>\n",
              "      <td>2727175.0</td>\n",
              "      <td>1</td>\n",
              "      <td>15183882.0</td>\n",
              "      <td>23.599077</td>\n",
              "    </tr>\n",
              "    <tr>\n",
              "      <th>24177</th>\n",
              "      <td>24177</td>\n",
              "      <td>Zimbabwe</td>\n",
              "      <td>ZWE</td>\n",
              "      <td>2021-11-19</td>\n",
              "      <td>6362499.0</td>\n",
              "      <td>3625221.0</td>\n",
              "      <td>2737278.0</td>\n",
              "      <td>0</td>\n",
              "      <td>15183882.0</td>\n",
              "      <td>23.875456</td>\n",
              "    </tr>\n",
              "    <tr>\n",
              "      <th>24178</th>\n",
              "      <td>24178</td>\n",
              "      <td>Zimbabwe</td>\n",
              "      <td>ZWE</td>\n",
              "      <td>2021-11-20</td>\n",
              "      <td>6396012.0</td>\n",
              "      <td>3651820.0</td>\n",
              "      <td>2744192.0</td>\n",
              "      <td>0</td>\n",
              "      <td>15183882.0</td>\n",
              "      <td>24.050635</td>\n",
              "    </tr>\n",
              "  </tbody>\n",
              "</table>\n",
              "<p>24179 rows × 10 columns</p>\n",
              "</div>"
            ],
            "text/plain": [
              "       Unnamed: 0      country iso_code  ... New_deaths  population      ratio\n",
              "0               0  Afghanistan      AFG  ...         12  40194523.0   1.116764\n",
              "1               1  Afghanistan      AFG  ...         10  40194523.0   1.170162\n",
              "2               2  Afghanistan      AFG  ...         10  40194523.0   1.185154\n",
              "3               3  Afghanistan      AFG  ...         19  40194523.0   1.192630\n",
              "4               4  Afghanistan      AFG  ...         14  40194523.0   1.193133\n",
              "...           ...          ...      ...  ...        ...         ...        ...\n",
              "24174       24174     Zimbabwe      ZWE  ...          1  15183882.0  22.946747\n",
              "24175       24175     Zimbabwe      ZWE  ...          0  15183882.0  23.150470\n",
              "24176       24176     Zimbabwe      ZWE  ...          1  15183882.0  23.599077\n",
              "24177       24177     Zimbabwe      ZWE  ...          0  15183882.0  23.875456\n",
              "24178       24178     Zimbabwe      ZWE  ...          0  15183882.0  24.050635\n",
              "\n",
              "[24179 rows x 10 columns]"
            ]
          },
          "metadata": {},
          "execution_count": 66
        }
      ]
    },
    {
      "cell_type": "code",
      "metadata": {
        "colab": {
          "base_uri": "https://localhost:8080/"
        },
        "id": "frx8osM1NXyo",
        "outputId": "7d902bea-8a2b-4616-ed4b-7c756c5d956f"
      },
      "source": [
        "df.columns"
      ],
      "execution_count": 73,
      "outputs": [
        {
          "output_type": "execute_result",
          "data": {
            "text/plain": [
              "Index(['Unnamed: 0', 'country', 'iso_code', 'date', 'total_vaccinations',\n",
              "       'people_vaccinated', 'people_fully_vaccinated', 'New_deaths',\n",
              "       'population', 'ratio'],\n",
              "      dtype='object')"
            ]
          },
          "metadata": {},
          "execution_count": 73
        }
      ]
    },
    {
      "cell_type": "code",
      "metadata": {
        "id": "lIg3HXDnNem-"
      },
      "source": [
        "df.drop(df.columns[0],axis=1,inplace=True)"
      ],
      "execution_count": 75,
      "outputs": []
    },
    {
      "cell_type": "code",
      "metadata": {
        "id": "_xg_FnNFNy5b"
      },
      "source": [
        "df.columns = ['davlat','kod','sana','vaksina soni','emlamganlar soni','toliq emlanganlar','yangi aniqlangan','aholisi','ratio']"
      ],
      "execution_count": 77,
      "outputs": []
    },
    {
      "cell_type": "code",
      "metadata": {
        "id": "7Um6wUrfNzsE"
      },
      "source": [
        "df.drop(df.columns[-1],axis=1,inplace=True)"
      ],
      "execution_count": 80,
      "outputs": []
    },
    {
      "cell_type": "code",
      "metadata": {
        "id": "iMrxQ7-DQNXB"
      },
      "source": [
        "df.drop_duplicates(inplace=True)"
      ],
      "execution_count": 82,
      "outputs": []
    },
    {
      "cell_type": "code",
      "metadata": {
        "colab": {
          "base_uri": "https://localhost:8080/",
          "height": 300
        },
        "id": "FXd_inMxQXR-",
        "outputId": "80fe3940-f22e-4fa3-a2e2-f52e5abcead9"
      },
      "source": [
        "df.describe()"
      ],
      "execution_count": 85,
      "outputs": [
        {
          "output_type": "execute_result",
          "data": {
            "text/html": [
              "<div>\n",
              "<style scoped>\n",
              "    .dataframe tbody tr th:only-of-type {\n",
              "        vertical-align: middle;\n",
              "    }\n",
              "\n",
              "    .dataframe tbody tr th {\n",
              "        vertical-align: top;\n",
              "    }\n",
              "\n",
              "    .dataframe thead th {\n",
              "        text-align: right;\n",
              "    }\n",
              "</style>\n",
              "<table border=\"1\" class=\"dataframe\">\n",
              "  <thead>\n",
              "    <tr style=\"text-align: right;\">\n",
              "      <th></th>\n",
              "      <th>vaksina soni</th>\n",
              "      <th>emlamganlar soni</th>\n",
              "      <th>toliq emlanganlar</th>\n",
              "      <th>yangi aniqlangan</th>\n",
              "      <th>aholisi</th>\n",
              "    </tr>\n",
              "  </thead>\n",
              "  <tbody>\n",
              "    <tr>\n",
              "      <th>count</th>\n",
              "      <td>2.417900e+04</td>\n",
              "      <td>2.417900e+04</td>\n",
              "      <td>2.417900e+04</td>\n",
              "      <td>24179.000000</td>\n",
              "      <td>2.417900e+04</td>\n",
              "    </tr>\n",
              "    <tr>\n",
              "      <th>mean</th>\n",
              "      <td>2.203965e+07</td>\n",
              "      <td>1.372980e+07</td>\n",
              "      <td>8.334646e+06</td>\n",
              "      <td>103.716035</td>\n",
              "      <td>4.911567e+07</td>\n",
              "    </tr>\n",
              "    <tr>\n",
              "      <th>std</th>\n",
              "      <td>7.822728e+07</td>\n",
              "      <td>5.145837e+07</td>\n",
              "      <td>2.821818e+07</td>\n",
              "      <td>345.402231</td>\n",
              "      <td>1.562990e+08</td>\n",
              "    </tr>\n",
              "    <tr>\n",
              "      <th>min</th>\n",
              "      <td>1.000000e+00</td>\n",
              "      <td>1.000000e+00</td>\n",
              "      <td>1.000000e+00</td>\n",
              "      <td>-92.000000</td>\n",
              "      <td>1.373000e+03</td>\n",
              "    </tr>\n",
              "    <tr>\n",
              "      <th>25%</th>\n",
              "      <td>4.859780e+05</td>\n",
              "      <td>3.354615e+05</td>\n",
              "      <td>1.273365e+05</td>\n",
              "      <td>1.000000</td>\n",
              "      <td>2.951769e+06</td>\n",
              "    </tr>\n",
              "    <tr>\n",
              "      <th>50%</th>\n",
              "      <td>2.849630e+06</td>\n",
              "      <td>1.854630e+06</td>\n",
              "      <td>9.237190e+05</td>\n",
              "      <td>9.000000</td>\n",
              "      <td>1.015616e+07</td>\n",
              "    </tr>\n",
              "    <tr>\n",
              "      <th>75%</th>\n",
              "      <td>1.246813e+07</td>\n",
              "      <td>7.414157e+06</td>\n",
              "      <td>4.935768e+06</td>\n",
              "      <td>51.500000</td>\n",
              "      <td>3.819664e+07</td>\n",
              "    </tr>\n",
              "    <tr>\n",
              "      <th>max</th>\n",
              "      <td>2.422908e+09</td>\n",
              "      <td>1.225000e+09</td>\n",
              "      <td>1.076308e+09</td>\n",
              "      <td>8786.000000</td>\n",
              "      <td>1.446113e+09</td>\n",
              "    </tr>\n",
              "  </tbody>\n",
              "</table>\n",
              "</div>"
            ],
            "text/plain": [
              "       vaksina soni  emlamganlar soni  ...  yangi aniqlangan       aholisi\n",
              "count  2.417900e+04      2.417900e+04  ...      24179.000000  2.417900e+04\n",
              "mean   2.203965e+07      1.372980e+07  ...        103.716035  4.911567e+07\n",
              "std    7.822728e+07      5.145837e+07  ...        345.402231  1.562990e+08\n",
              "min    1.000000e+00      1.000000e+00  ...        -92.000000  1.373000e+03\n",
              "25%    4.859780e+05      3.354615e+05  ...          1.000000  2.951769e+06\n",
              "50%    2.849630e+06      1.854630e+06  ...          9.000000  1.015616e+07\n",
              "75%    1.246813e+07      7.414157e+06  ...         51.500000  3.819664e+07\n",
              "max    2.422908e+09      1.225000e+09  ...       8786.000000  1.446113e+09\n",
              "\n",
              "[8 rows x 5 columns]"
            ]
          },
          "metadata": {},
          "execution_count": 85
        }
      ]
    },
    {
      "cell_type": "code",
      "metadata": {
        "id": "2lsV4O8GQhrV"
      },
      "source": [
        "df.drop_duplicates(subset=['davlat'],inplace=True)"
      ],
      "execution_count": 88,
      "outputs": []
    },
    {
      "cell_type": "code",
      "metadata": {
        "colab": {
          "base_uri": "https://localhost:8080/",
          "height": 424
        },
        "id": "NRYWBE5kQ-bb",
        "outputId": "f7bde1e2-cb5c-4b60-c33a-7b4cf42fd0b6"
      },
      "source": [
        "df"
      ],
      "execution_count": 89,
      "outputs": [
        {
          "output_type": "execute_result",
          "data": {
            "text/html": [
              "<div>\n",
              "<style scoped>\n",
              "    .dataframe tbody tr th:only-of-type {\n",
              "        vertical-align: middle;\n",
              "    }\n",
              "\n",
              "    .dataframe tbody tr th {\n",
              "        vertical-align: top;\n",
              "    }\n",
              "\n",
              "    .dataframe thead th {\n",
              "        text-align: right;\n",
              "    }\n",
              "</style>\n",
              "<table border=\"1\" class=\"dataframe\">\n",
              "  <thead>\n",
              "    <tr style=\"text-align: right;\">\n",
              "      <th></th>\n",
              "      <th>davlat</th>\n",
              "      <th>kod</th>\n",
              "      <th>sana</th>\n",
              "      <th>vaksina soni</th>\n",
              "      <th>emlamganlar soni</th>\n",
              "      <th>toliq emlanganlar</th>\n",
              "      <th>yangi aniqlangan</th>\n",
              "      <th>aholisi</th>\n",
              "    </tr>\n",
              "  </thead>\n",
              "  <tbody>\n",
              "    <tr>\n",
              "      <th>0</th>\n",
              "      <td>Afghanistan</td>\n",
              "      <td>AFG</td>\n",
              "      <td>2021-05-11</td>\n",
              "      <td>504502.0</td>\n",
              "      <td>448878.0</td>\n",
              "      <td>55624.0</td>\n",
              "      <td>12</td>\n",
              "      <td>40194523.0</td>\n",
              "    </tr>\n",
              "    <tr>\n",
              "      <th>18</th>\n",
              "      <td>Albania</td>\n",
              "      <td>ALB</td>\n",
              "      <td>2021-02-02</td>\n",
              "      <td>550.0</td>\n",
              "      <td>549.0</td>\n",
              "      <td>1.0</td>\n",
              "      <td>13</td>\n",
              "      <td>2870780.0</td>\n",
              "    </tr>\n",
              "    <tr>\n",
              "      <th>162</th>\n",
              "      <td>Algeria</td>\n",
              "      <td>DZA</td>\n",
              "      <td>2021-08-20</td>\n",
              "      <td>4146091.0</td>\n",
              "      <td>3421279.0</td>\n",
              "      <td>724812.0</td>\n",
              "      <td>31</td>\n",
              "      <td>44913143.0</td>\n",
              "    </tr>\n",
              "    <tr>\n",
              "      <th>171</th>\n",
              "      <td>Andorra</td>\n",
              "      <td>AND</td>\n",
              "      <td>2021-03-08</td>\n",
              "      <td>3611.0</td>\n",
              "      <td>2439.0</td>\n",
              "      <td>1172.0</td>\n",
              "      <td>0</td>\n",
              "      <td>77355.0</td>\n",
              "    </tr>\n",
              "    <tr>\n",
              "      <th>193</th>\n",
              "      <td>Angola</td>\n",
              "      <td>AGO</td>\n",
              "      <td>2021-05-12</td>\n",
              "      <td>626572.0</td>\n",
              "      <td>586377.0</td>\n",
              "      <td>40195.0</td>\n",
              "      <td>3</td>\n",
              "      <td>34354851.0</td>\n",
              "    </tr>\n",
              "    <tr>\n",
              "      <th>...</th>\n",
              "      <td>...</td>\n",
              "      <td>...</td>\n",
              "      <td>...</td>\n",
              "      <td>...</td>\n",
              "      <td>...</td>\n",
              "      <td>...</td>\n",
              "      <td>...</td>\n",
              "      <td>...</td>\n",
              "    </tr>\n",
              "    <tr>\n",
              "      <th>23681</th>\n",
              "      <td>Viet Nam</td>\n",
              "      <td>VNM</td>\n",
              "      <td>2021-04-30</td>\n",
              "      <td>519262.0</td>\n",
              "      <td>509855.0</td>\n",
              "      <td>9407.0</td>\n",
              "      <td>0</td>\n",
              "      <td>98493195.0</td>\n",
              "    </tr>\n",
              "    <tr>\n",
              "      <th>23850</th>\n",
              "      <td>Wallis and Futuna</td>\n",
              "      <td>WLF</td>\n",
              "      <td>2021-04-27</td>\n",
              "      <td>5638.0</td>\n",
              "      <td>4150.0</td>\n",
              "      <td>1488.0</td>\n",
              "      <td>0</td>\n",
              "      <td>11094.0</td>\n",
              "    </tr>\n",
              "    <tr>\n",
              "      <th>23878</th>\n",
              "      <td>Yemen</td>\n",
              "      <td>YEM</td>\n",
              "      <td>2021-07-12</td>\n",
              "      <td>297405.0</td>\n",
              "      <td>288828.0</td>\n",
              "      <td>8577.0</td>\n",
              "      <td>0</td>\n",
              "      <td>30751565.0</td>\n",
              "    </tr>\n",
              "    <tr>\n",
              "      <th>23886</th>\n",
              "      <td>Zambia</td>\n",
              "      <td>ZMB</td>\n",
              "      <td>2021-05-21</td>\n",
              "      <td>129941.0</td>\n",
              "      <td>128834.0</td>\n",
              "      <td>1107.0</td>\n",
              "      <td>2</td>\n",
              "      <td>19132061.0</td>\n",
              "    </tr>\n",
              "    <tr>\n",
              "      <th>23956</th>\n",
              "      <td>Zimbabwe</td>\n",
              "      <td>ZWE</td>\n",
              "      <td>2021-03-22</td>\n",
              "      <td>44120.0</td>\n",
              "      <td>43840.0</td>\n",
              "      <td>280.0</td>\n",
              "      <td>2</td>\n",
              "      <td>15183882.0</td>\n",
              "    </tr>\n",
              "  </tbody>\n",
              "</table>\n",
              "<p>200 rows × 8 columns</p>\n",
              "</div>"
            ],
            "text/plain": [
              "                  davlat  kod  ... yangi aniqlangan     aholisi\n",
              "0            Afghanistan  AFG  ...               12  40194523.0\n",
              "18               Albania  ALB  ...               13   2870780.0\n",
              "162              Algeria  DZA  ...               31  44913143.0\n",
              "171              Andorra  AND  ...                0     77355.0\n",
              "193               Angola  AGO  ...                3  34354851.0\n",
              "...                  ...  ...  ...              ...         ...\n",
              "23681           Viet Nam  VNM  ...                0  98493195.0\n",
              "23850  Wallis and Futuna  WLF  ...                0     11094.0\n",
              "23878              Yemen  YEM  ...                0  30751565.0\n",
              "23886             Zambia  ZMB  ...                2  19132061.0\n",
              "23956           Zimbabwe  ZWE  ...                2  15183882.0\n",
              "\n",
              "[200 rows x 8 columns]"
            ]
          },
          "metadata": {},
          "execution_count": 89
        }
      ]
    },
    {
      "cell_type": "code",
      "metadata": {
        "colab": {
          "base_uri": "https://localhost:8080/",
          "height": 81
        },
        "id": "IZzema52RQWR",
        "outputId": "f1c25c79-1030-4619-90d3-e337e82c2133"
      },
      "source": [
        "df[df.kod=='UZB']"
      ],
      "execution_count": 90,
      "outputs": [
        {
          "output_type": "execute_result",
          "data": {
            "text/html": [
              "<div>\n",
              "<style scoped>\n",
              "    .dataframe tbody tr th:only-of-type {\n",
              "        vertical-align: middle;\n",
              "    }\n",
              "\n",
              "    .dataframe tbody tr th {\n",
              "        vertical-align: top;\n",
              "    }\n",
              "\n",
              "    .dataframe thead th {\n",
              "        text-align: right;\n",
              "    }\n",
              "</style>\n",
              "<table border=\"1\" class=\"dataframe\">\n",
              "  <thead>\n",
              "    <tr style=\"text-align: right;\">\n",
              "      <th></th>\n",
              "      <th>davlat</th>\n",
              "      <th>kod</th>\n",
              "      <th>sana</th>\n",
              "      <th>vaksina soni</th>\n",
              "      <th>emlamganlar soni</th>\n",
              "      <th>toliq emlanganlar</th>\n",
              "      <th>yangi aniqlangan</th>\n",
              "      <th>aholisi</th>\n",
              "    </tr>\n",
              "  </thead>\n",
              "  <tbody>\n",
              "    <tr>\n",
              "      <th>23632</th>\n",
              "      <td>Uzbekistan</td>\n",
              "      <td>UZB</td>\n",
              "      <td>2021-05-10</td>\n",
              "      <td>1173978.0</td>\n",
              "      <td>1057094.0</td>\n",
              "      <td>116884.0</td>\n",
              "      <td>0</td>\n",
              "      <td>34117033.0</td>\n",
              "    </tr>\n",
              "  </tbody>\n",
              "</table>\n",
              "</div>"
            ],
            "text/plain": [
              "           davlat  kod  ... yangi aniqlangan     aholisi\n",
              "23632  Uzbekistan  UZB  ...                0  34117033.0\n",
              "\n",
              "[1 rows x 8 columns]"
            ]
          },
          "metadata": {},
          "execution_count": 90
        }
      ]
    },
    {
      "cell_type": "code",
      "metadata": {
        "id": "9spMRvoNRXFz"
      },
      "source": [
        "df['rank']=df['emlamganlar soni'].rank()"
      ],
      "execution_count": 91,
      "outputs": []
    },
    {
      "cell_type": "code",
      "metadata": {
        "colab": {
          "base_uri": "https://localhost:8080/",
          "height": 424
        },
        "id": "uY9thAKdRm26",
        "outputId": "cbe30f23-0b05-456a-974b-f6999bd273ac"
      },
      "source": [
        "df"
      ],
      "execution_count": 92,
      "outputs": [
        {
          "output_type": "execute_result",
          "data": {
            "text/html": [
              "<div>\n",
              "<style scoped>\n",
              "    .dataframe tbody tr th:only-of-type {\n",
              "        vertical-align: middle;\n",
              "    }\n",
              "\n",
              "    .dataframe tbody tr th {\n",
              "        vertical-align: top;\n",
              "    }\n",
              "\n",
              "    .dataframe thead th {\n",
              "        text-align: right;\n",
              "    }\n",
              "</style>\n",
              "<table border=\"1\" class=\"dataframe\">\n",
              "  <thead>\n",
              "    <tr style=\"text-align: right;\">\n",
              "      <th></th>\n",
              "      <th>davlat</th>\n",
              "      <th>kod</th>\n",
              "      <th>sana</th>\n",
              "      <th>vaksina soni</th>\n",
              "      <th>emlamganlar soni</th>\n",
              "      <th>toliq emlanganlar</th>\n",
              "      <th>yangi aniqlangan</th>\n",
              "      <th>aholisi</th>\n",
              "      <th>rank</th>\n",
              "    </tr>\n",
              "  </thead>\n",
              "  <tbody>\n",
              "    <tr>\n",
              "      <th>0</th>\n",
              "      <td>Afghanistan</td>\n",
              "      <td>AFG</td>\n",
              "      <td>2021-05-11</td>\n",
              "      <td>504502.0</td>\n",
              "      <td>448878.0</td>\n",
              "      <td>55624.0</td>\n",
              "      <td>12</td>\n",
              "      <td>40194523.0</td>\n",
              "      <td>162.0</td>\n",
              "    </tr>\n",
              "    <tr>\n",
              "      <th>18</th>\n",
              "      <td>Albania</td>\n",
              "      <td>ALB</td>\n",
              "      <td>2021-02-02</td>\n",
              "      <td>550.0</td>\n",
              "      <td>549.0</td>\n",
              "      <td>1.0</td>\n",
              "      <td>13</td>\n",
              "      <td>2870780.0</td>\n",
              "      <td>8.0</td>\n",
              "    </tr>\n",
              "    <tr>\n",
              "      <th>162</th>\n",
              "      <td>Algeria</td>\n",
              "      <td>DZA</td>\n",
              "      <td>2021-08-20</td>\n",
              "      <td>4146091.0</td>\n",
              "      <td>3421279.0</td>\n",
              "      <td>724812.0</td>\n",
              "      <td>31</td>\n",
              "      <td>44913143.0</td>\n",
              "      <td>195.0</td>\n",
              "    </tr>\n",
              "    <tr>\n",
              "      <th>171</th>\n",
              "      <td>Andorra</td>\n",
              "      <td>AND</td>\n",
              "      <td>2021-03-08</td>\n",
              "      <td>3611.0</td>\n",
              "      <td>2439.0</td>\n",
              "      <td>1172.0</td>\n",
              "      <td>0</td>\n",
              "      <td>77355.0</td>\n",
              "      <td>18.0</td>\n",
              "    </tr>\n",
              "    <tr>\n",
              "      <th>193</th>\n",
              "      <td>Angola</td>\n",
              "      <td>AGO</td>\n",
              "      <td>2021-05-12</td>\n",
              "      <td>626572.0</td>\n",
              "      <td>586377.0</td>\n",
              "      <td>40195.0</td>\n",
              "      <td>3</td>\n",
              "      <td>34354851.0</td>\n",
              "      <td>169.0</td>\n",
              "    </tr>\n",
              "    <tr>\n",
              "      <th>...</th>\n",
              "      <td>...</td>\n",
              "      <td>...</td>\n",
              "      <td>...</td>\n",
              "      <td>...</td>\n",
              "      <td>...</td>\n",
              "      <td>...</td>\n",
              "      <td>...</td>\n",
              "      <td>...</td>\n",
              "      <td>...</td>\n",
              "    </tr>\n",
              "    <tr>\n",
              "      <th>23681</th>\n",
              "      <td>Viet Nam</td>\n",
              "      <td>VNM</td>\n",
              "      <td>2021-04-30</td>\n",
              "      <td>519262.0</td>\n",
              "      <td>509855.0</td>\n",
              "      <td>9407.0</td>\n",
              "      <td>0</td>\n",
              "      <td>98493195.0</td>\n",
              "      <td>165.0</td>\n",
              "    </tr>\n",
              "    <tr>\n",
              "      <th>23850</th>\n",
              "      <td>Wallis and Futuna</td>\n",
              "      <td>WLF</td>\n",
              "      <td>2021-04-27</td>\n",
              "      <td>5638.0</td>\n",
              "      <td>4150.0</td>\n",
              "      <td>1488.0</td>\n",
              "      <td>0</td>\n",
              "      <td>11094.0</td>\n",
              "      <td>25.0</td>\n",
              "    </tr>\n",
              "    <tr>\n",
              "      <th>23878</th>\n",
              "      <td>Yemen</td>\n",
              "      <td>YEM</td>\n",
              "      <td>2021-07-12</td>\n",
              "      <td>297405.0</td>\n",
              "      <td>288828.0</td>\n",
              "      <td>8577.0</td>\n",
              "      <td>0</td>\n",
              "      <td>30751565.0</td>\n",
              "      <td>149.0</td>\n",
              "    </tr>\n",
              "    <tr>\n",
              "      <th>23886</th>\n",
              "      <td>Zambia</td>\n",
              "      <td>ZMB</td>\n",
              "      <td>2021-05-21</td>\n",
              "      <td>129941.0</td>\n",
              "      <td>128834.0</td>\n",
              "      <td>1107.0</td>\n",
              "      <td>2</td>\n",
              "      <td>19132061.0</td>\n",
              "      <td>133.0</td>\n",
              "    </tr>\n",
              "    <tr>\n",
              "      <th>23956</th>\n",
              "      <td>Zimbabwe</td>\n",
              "      <td>ZWE</td>\n",
              "      <td>2021-03-22</td>\n",
              "      <td>44120.0</td>\n",
              "      <td>43840.0</td>\n",
              "      <td>280.0</td>\n",
              "      <td>2</td>\n",
              "      <td>15183882.0</td>\n",
              "      <td>92.0</td>\n",
              "    </tr>\n",
              "  </tbody>\n",
              "</table>\n",
              "<p>200 rows × 9 columns</p>\n",
              "</div>"
            ],
            "text/plain": [
              "                  davlat  kod        sana  ...  yangi aniqlangan     aholisi   rank\n",
              "0            Afghanistan  AFG  2021-05-11  ...                12  40194523.0  162.0\n",
              "18               Albania  ALB  2021-02-02  ...                13   2870780.0    8.0\n",
              "162              Algeria  DZA  2021-08-20  ...                31  44913143.0  195.0\n",
              "171              Andorra  AND  2021-03-08  ...                 0     77355.0   18.0\n",
              "193               Angola  AGO  2021-05-12  ...                 3  34354851.0  169.0\n",
              "...                  ...  ...         ...  ...               ...         ...    ...\n",
              "23681           Viet Nam  VNM  2021-04-30  ...                 0  98493195.0  165.0\n",
              "23850  Wallis and Futuna  WLF  2021-04-27  ...                 0     11094.0   25.0\n",
              "23878              Yemen  YEM  2021-07-12  ...                 0  30751565.0  149.0\n",
              "23886             Zambia  ZMB  2021-05-21  ...                 2  19132061.0  133.0\n",
              "23956           Zimbabwe  ZWE  2021-03-22  ...                 2  15183882.0   92.0\n",
              "\n",
              "[200 rows x 9 columns]"
            ]
          },
          "metadata": {},
          "execution_count": 92
        }
      ]
    },
    {
      "cell_type": "code",
      "metadata": {
        "colab": {
          "base_uri": "https://localhost:8080/",
          "height": 81
        },
        "id": "WdZHD4S7Rnst",
        "outputId": "5f619114-87eb-4ab7-a7f7-f3e146ede495"
      },
      "source": [
        "# SOUTH KOREA\n",
        "df[df.davlat=='Republic of Korea']"
      ],
      "execution_count": 96,
      "outputs": [
        {
          "output_type": "execute_result",
          "data": {
            "text/html": [
              "<div>\n",
              "<style scoped>\n",
              "    .dataframe tbody tr th:only-of-type {\n",
              "        vertical-align: middle;\n",
              "    }\n",
              "\n",
              "    .dataframe tbody tr th {\n",
              "        vertical-align: top;\n",
              "    }\n",
              "\n",
              "    .dataframe thead th {\n",
              "        text-align: right;\n",
              "    }\n",
              "</style>\n",
              "<table border=\"1\" class=\"dataframe\">\n",
              "  <thead>\n",
              "    <tr style=\"text-align: right;\">\n",
              "      <th></th>\n",
              "      <th>davlat</th>\n",
              "      <th>kod</th>\n",
              "      <th>sana</th>\n",
              "      <th>vaksina soni</th>\n",
              "      <th>emlamganlar soni</th>\n",
              "      <th>toliq emlanganlar</th>\n",
              "      <th>yangi aniqlangan</th>\n",
              "      <th>aholisi</th>\n",
              "      <th>rank</th>\n",
              "    </tr>\n",
              "  </thead>\n",
              "  <tbody>\n",
              "    <tr>\n",
              "      <th>20144</th>\n",
              "      <td>Republic of Korea</td>\n",
              "      <td>KOR</td>\n",
              "      <td>2021-02-26</td>\n",
              "      <td>32052.0</td>\n",
              "      <td>27452.0</td>\n",
              "      <td>4616.0</td>\n",
              "      <td>4</td>\n",
              "      <td>51322552.0</td>\n",
              "      <td>78.0</td>\n",
              "    </tr>\n",
              "  </tbody>\n",
              "</table>\n",
              "</div>"
            ],
            "text/plain": [
              "                  davlat  kod        sana  ...  yangi aniqlangan     aholisi  rank\n",
              "20144  Republic of Korea  KOR  2021-02-26  ...                 4  51322552.0  78.0\n",
              "\n",
              "[1 rows x 9 columns]"
            ]
          },
          "metadata": {},
          "execution_count": 96
        }
      ]
    },
    {
      "cell_type": "code",
      "metadata": {
        "id": "qlwKh1E_ZoEf"
      },
      "source": [
        ""
      ],
      "execution_count": null,
      "outputs": []
    }
  ]
}