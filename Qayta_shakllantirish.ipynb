{
  "nbformat": 4,
  "nbformat_minor": 0,
  "metadata": {
    "colab": {
      "name": "Qayta_shakllantirish.ipynb",
      "provenance": [],
      "collapsed_sections": [],
      "authorship_tag": "ABX9TyM/eCALU3SMHDdr9XzJDOQR",
      "include_colab_link": true
    },
    "kernelspec": {
      "name": "python3",
      "display_name": "Python 3"
    },
    "language_info": {
      "name": "python"
    }
  },
  "cells": [
    {
      "cell_type": "markdown",
      "metadata": {
        "id": "view-in-github",
        "colab_type": "text"
      },
      "source": [
        "<a href=\"https://colab.research.google.com/github/rashidov9797/Data_Science_homeworks/blob/main/Qayta_shakllantirish.ipynb\" target=\"_parent\"><img src=\"https://colab.research.google.com/assets/colab-badge.svg\" alt=\"Open In Colab\"/></a>"
      ]
    },
    {
      "cell_type": "code",
      "metadata": {
        "id": "uOBFd3kJl8D3"
      },
      "source": [
        "import pandas as pd\n",
        "import numpy as np"
      ],
      "execution_count": 30,
      "outputs": []
    },
    {
      "cell_type": "code",
      "metadata": {
        "id": "1_3mPI22nLsp"
      },
      "source": [
        ""
      ],
      "execution_count": null,
      "outputs": []
    },
    {
      "cell_type": "markdown",
      "metadata": {
        "id": "eF24nLvLnQ7c"
      },
      "source": [
        "Multi indexlash"
      ]
    },
    {
      "cell_type": "code",
      "metadata": {
        "id": "1iqeR691nTU9"
      },
      "source": [
        "data = -pd.Series(np.random.randn(9),index=['a','a','b','b','a','c','c','d','d'])"
      ],
      "execution_count": null,
      "outputs": []
    },
    {
      "cell_type": "code",
      "metadata": {
        "colab": {
          "base_uri": "https://localhost:8080/"
        },
        "id": "CyYP6YL4oK54",
        "outputId": "7f33f2b4-d491-4041-a207-240e3ab8a2e8"
      },
      "source": [
        "data"
      ],
      "execution_count": null,
      "outputs": [
        {
          "output_type": "execute_result",
          "data": {
            "text/plain": [
              "a    1.035663\n",
              "a    0.622064\n",
              "b   -0.779724\n",
              "b    1.095155\n",
              "a   -1.290201\n",
              "c    0.297435\n",
              "c    0.500046\n",
              "d    0.510569\n",
              "d   -0.644162\n",
              "dtype: float64"
            ]
          },
          "metadata": {},
          "execution_count": 4
        }
      ]
    },
    {
      "cell_type": "markdown",
      "metadata": {
        "id": "XI2fJFWrpbCi"
      },
      "source": [
        ""
      ]
    },
    {
      "cell_type": "code",
      "metadata": {
        "id": "zvMpJ52goORj"
      },
      "source": [
        "data1 = pd.Series(np.random.randn(9),\n",
        "                 index=[['a', 'a', 'a', 'b', 'b', 'c', 'c', 'd', 'd'],[1, 2, 3, 1, 3, 1, 2, 2, 3]])"
      ],
      "execution_count": null,
      "outputs": []
    },
    {
      "cell_type": "code",
      "metadata": {
        "colab": {
          "base_uri": "https://localhost:8080/"
        },
        "id": "4kpGIRtKph_S",
        "outputId": "9a6781f1-bac8-4f23-86bd-e0c5a24156ef"
      },
      "source": [
        "data1\n"
      ],
      "execution_count": null,
      "outputs": [
        {
          "output_type": "execute_result",
          "data": {
            "text/plain": [
              "a  1   -2.327993\n",
              "   2    1.354436\n",
              "   3   -1.516069\n",
              "b  1    1.270438\n",
              "   3   -0.377271\n",
              "c  1    2.343829\n",
              "   2    0.462391\n",
              "d  2    0.642410\n",
              "   3   -1.727763\n",
              "dtype: float64"
            ]
          },
          "metadata": {},
          "execution_count": 22
        }
      ]
    },
    {
      "cell_type": "code",
      "metadata": {
        "colab": {
          "base_uri": "https://localhost:8080/"
        },
        "id": "8mkxjtvXps2v",
        "outputId": "4af8d1ce-04dd-4930-b2a0-9fd46cd6395e"
      },
      "source": [
        "data1.index"
      ],
      "execution_count": null,
      "outputs": [
        {
          "output_type": "execute_result",
          "data": {
            "text/plain": [
              "MultiIndex([('a', 1),\n",
              "            ('a', 2),\n",
              "            ('a', 3),\n",
              "            ('b', 1),\n",
              "            ('b', 3),\n",
              "            ('c', 1),\n",
              "            ('c', 2),\n",
              "            ('d', 2),\n",
              "            ('d', 3)],\n",
              "           )"
            ]
          },
          "metadata": {},
          "execution_count": 23
        }
      ]
    },
    {
      "cell_type": "code",
      "metadata": {
        "colab": {
          "base_uri": "https://localhost:8080/"
        },
        "id": "UC5kjJHSqHzI",
        "outputId": "0a31cad8-5482-47ce-9d57-8ece883450f7"
      },
      "source": [
        "data1['a']"
      ],
      "execution_count": null,
      "outputs": [
        {
          "output_type": "execute_result",
          "data": {
            "text/plain": [
              "2    1.554163\n",
              "2   -0.639493\n",
              "7    0.210679\n",
              "dtype: float64"
            ]
          },
          "metadata": {},
          "execution_count": 10
        }
      ]
    },
    {
      "cell_type": "code",
      "metadata": {
        "colab": {
          "base_uri": "https://localhost:8080/"
        },
        "id": "RJLRp-esqTy0",
        "outputId": "3ff2143c-2166-4444-e784-278c4f4eea38"
      },
      "source": [
        "data1.loc[:,2] #Barcha 2-indexdagi ma'lumotni chiqar"
      ],
      "execution_count": null,
      "outputs": [
        {
          "output_type": "execute_result",
          "data": {
            "text/plain": [
              "a    1.554163\n",
              "a   -0.639493\n",
              "d    1.618947\n",
              "dtype: float64"
            ]
          },
          "metadata": {},
          "execution_count": 12
        }
      ]
    },
    {
      "cell_type": "code",
      "metadata": {
        "colab": {
          "base_uri": "https://localhost:8080/"
        },
        "id": "QZEE0qjtqfGp",
        "outputId": "40dd4dd1-a751-4883-f950-4605a59c4418"
      },
      "source": [
        "data1.loc[['b','d']]"
      ],
      "execution_count": null,
      "outputs": [
        {
          "output_type": "execute_result",
          "data": {
            "text/plain": [
              "b  4    1.461086\n",
              "   6   -0.204060\n",
              "d  2    1.618947\n",
              "   5   -0.953784\n",
              "dtype: float64"
            ]
          },
          "metadata": {},
          "execution_count": 17
        }
      ]
    },
    {
      "cell_type": "code",
      "metadata": {
        "id": "R4fbROJnq84p"
      },
      "source": [
        ""
      ],
      "execution_count": null,
      "outputs": []
    },
    {
      "cell_type": "markdown",
      "metadata": {
        "id": "tmceECfVrVeL"
      },
      "source": [
        "Unstack va Stack orqali indexlash"
      ]
    },
    {
      "cell_type": "code",
      "metadata": {
        "colab": {
          "base_uri": "https://localhost:8080/"
        },
        "id": "D75rTn7Erac_",
        "outputId": "ea101366-ce46-4a2b-c85b-8e3ea3f4fa1c"
      },
      "source": [
        "data1"
      ],
      "execution_count": null,
      "outputs": [
        {
          "output_type": "execute_result",
          "data": {
            "text/plain": [
              "a  2    1.554163\n",
              "   2   -0.639493\n",
              "b  4    1.461086\n",
              "   6   -0.204060\n",
              "a  7    0.210679\n",
              "c  5   -0.248506\n",
              "   5    0.764707\n",
              "d  2    1.618947\n",
              "   5   -0.953784\n",
              "dtype: float64"
            ]
          },
          "metadata": {},
          "execution_count": 14
        }
      ]
    },
    {
      "cell_type": "code",
      "metadata": {
        "colab": {
          "base_uri": "https://localhost:8080/",
          "height": 174
        },
        "id": "dAEtxHEFrb8l",
        "outputId": "206f5540-b038-4e6f-d64a-9e5cefa61502"
      },
      "source": [
        "data1.unstack() # sochilgan Seriesni df ko'rinishida olish"
      ],
      "execution_count": null,
      "outputs": [
        {
          "output_type": "execute_result",
          "data": {
            "text/html": [
              "<div>\n",
              "<style scoped>\n",
              "    .dataframe tbody tr th:only-of-type {\n",
              "        vertical-align: middle;\n",
              "    }\n",
              "\n",
              "    .dataframe tbody tr th {\n",
              "        vertical-align: top;\n",
              "    }\n",
              "\n",
              "    .dataframe thead th {\n",
              "        text-align: right;\n",
              "    }\n",
              "</style>\n",
              "<table border=\"1\" class=\"dataframe\">\n",
              "  <thead>\n",
              "    <tr style=\"text-align: right;\">\n",
              "      <th></th>\n",
              "      <th>1</th>\n",
              "      <th>2</th>\n",
              "      <th>3</th>\n",
              "    </tr>\n",
              "  </thead>\n",
              "  <tbody>\n",
              "    <tr>\n",
              "      <th>a</th>\n",
              "      <td>-2.327993</td>\n",
              "      <td>1.354436</td>\n",
              "      <td>-1.516069</td>\n",
              "    </tr>\n",
              "    <tr>\n",
              "      <th>b</th>\n",
              "      <td>1.270438</td>\n",
              "      <td>NaN</td>\n",
              "      <td>-0.377271</td>\n",
              "    </tr>\n",
              "    <tr>\n",
              "      <th>c</th>\n",
              "      <td>2.343829</td>\n",
              "      <td>0.462391</td>\n",
              "      <td>NaN</td>\n",
              "    </tr>\n",
              "    <tr>\n",
              "      <th>d</th>\n",
              "      <td>NaN</td>\n",
              "      <td>0.642410</td>\n",
              "      <td>-1.727763</td>\n",
              "    </tr>\n",
              "  </tbody>\n",
              "</table>\n",
              "</div>"
            ],
            "text/plain": [
              "          1         2         3\n",
              "a -2.327993  1.354436 -1.516069\n",
              "b  1.270438       NaN -0.377271\n",
              "c  2.343829  0.462391       NaN\n",
              "d       NaN  0.642410 -1.727763"
            ]
          },
          "metadata": {},
          "execution_count": 24
        }
      ]
    },
    {
      "cell_type": "code",
      "metadata": {
        "colab": {
          "base_uri": "https://localhost:8080/"
        },
        "id": "Ej4pEHIbrkEa",
        "outputId": "bde6bd15-735c-429f-c227-866ef7667f04"
      },
      "source": [
        "# stack usulida df ni Seriesga oberadi\n",
        "data1.unstack().stack()"
      ],
      "execution_count": null,
      "outputs": [
        {
          "output_type": "execute_result",
          "data": {
            "text/plain": [
              "a  1   -2.327993\n",
              "   2    1.354436\n",
              "   3   -1.516069\n",
              "b  1    1.270438\n",
              "   3   -0.377271\n",
              "c  1    2.343829\n",
              "   2    0.462391\n",
              "d  2    0.642410\n",
              "   3   -1.727763\n",
              "dtype: float64"
            ]
          },
          "metadata": {},
          "execution_count": 26
        }
      ]
    },
    {
      "cell_type": "code",
      "metadata": {
        "colab": {
          "base_uri": "https://localhost:8080/",
          "height": 174
        },
        "id": "b-zmTlCGs0pi",
        "outputId": "510e07c4-c1a6-457f-a12c-fb2d881b6015"
      },
      "source": [
        "data1.unstack()"
      ],
      "execution_count": null,
      "outputs": [
        {
          "output_type": "execute_result",
          "data": {
            "text/html": [
              "<div>\n",
              "<style scoped>\n",
              "    .dataframe tbody tr th:only-of-type {\n",
              "        vertical-align: middle;\n",
              "    }\n",
              "\n",
              "    .dataframe tbody tr th {\n",
              "        vertical-align: top;\n",
              "    }\n",
              "\n",
              "    .dataframe thead th {\n",
              "        text-align: right;\n",
              "    }\n",
              "</style>\n",
              "<table border=\"1\" class=\"dataframe\">\n",
              "  <thead>\n",
              "    <tr style=\"text-align: right;\">\n",
              "      <th></th>\n",
              "      <th>1</th>\n",
              "      <th>2</th>\n",
              "      <th>3</th>\n",
              "    </tr>\n",
              "  </thead>\n",
              "  <tbody>\n",
              "    <tr>\n",
              "      <th>a</th>\n",
              "      <td>-2.327993</td>\n",
              "      <td>1.354436</td>\n",
              "      <td>-1.516069</td>\n",
              "    </tr>\n",
              "    <tr>\n",
              "      <th>b</th>\n",
              "      <td>1.270438</td>\n",
              "      <td>NaN</td>\n",
              "      <td>-0.377271</td>\n",
              "    </tr>\n",
              "    <tr>\n",
              "      <th>c</th>\n",
              "      <td>2.343829</td>\n",
              "      <td>0.462391</td>\n",
              "      <td>NaN</td>\n",
              "    </tr>\n",
              "    <tr>\n",
              "      <th>d</th>\n",
              "      <td>NaN</td>\n",
              "      <td>0.642410</td>\n",
              "      <td>-1.727763</td>\n",
              "    </tr>\n",
              "  </tbody>\n",
              "</table>\n",
              "</div>"
            ],
            "text/plain": [
              "          1         2         3\n",
              "a -2.327993  1.354436 -1.516069\n",
              "b  1.270438       NaN -0.377271\n",
              "c  2.343829  0.462391       NaN\n",
              "d       NaN  0.642410 -1.727763"
            ]
          },
          "metadata": {},
          "execution_count": 27
        }
      ]
    },
    {
      "cell_type": "code",
      "metadata": {
        "id": "JhGZHBu2s5mt"
      },
      "source": [
        "\n",
        "\n"
      ],
      "execution_count": null,
      "outputs": []
    },
    {
      "cell_type": "markdown",
      "metadata": {
        "id": "xgTGeadvw-T7"
      },
      "source": [
        "Datasetlar orqali ko'rish"
      ]
    },
    {
      "cell_type": "code",
      "metadata": {
        "colab": {
          "base_uri": "https://localhost:8080/"
        },
        "id": "rMDnBePHxB04",
        "outputId": "16941d64-b8a5-49c1-d16a-f33ccbebaa0b"
      },
      "source": [
        "!git clone https://github.com/MansurCompAI/Practicum_Datasets.git"
      ],
      "execution_count": null,
      "outputs": [
        {
          "output_type": "stream",
          "name": "stdout",
          "text": [
            "Cloning into 'Practicum_Datasets'...\n",
            "remote: Enumerating objects: 23, done.\u001b[K\n",
            "remote: Counting objects: 100% (23/23), done.\u001b[K\n",
            "remote: Compressing objects: 100% (20/20), done.\u001b[K\n",
            "remote: Total 23 (delta 4), reused 10 (delta 1), pack-reused 0\u001b[K\n",
            "Unpacking objects: 100% (23/23), done.\n"
          ]
        }
      ]
    },
    {
      "cell_type": "code",
      "metadata": {
        "id": "B_3KAhs9x4X9"
      },
      "source": [
        "df = pd.read_csv(\"/content/Practicum_Datasets/world_cities_air_water_quality.csv\")"
      ],
      "execution_count": null,
      "outputs": []
    },
    {
      "cell_type": "code",
      "metadata": {
        "colab": {
          "base_uri": "https://localhost:8080/",
          "height": 545
        },
        "id": "vfY43eBAyrAc",
        "outputId": "7d5c110e-20de-457d-9d67-e773a9bb0a41"
      },
      "source": [
        "df"
      ],
      "execution_count": null,
      "outputs": [
        {
          "output_type": "execute_result",
          "data": {
            "text/html": [
              "<div>\n",
              "<style scoped>\n",
              "    .dataframe tbody tr th:only-of-type {\n",
              "        vertical-align: middle;\n",
              "    }\n",
              "\n",
              "    .dataframe tbody tr th {\n",
              "        vertical-align: top;\n",
              "    }\n",
              "\n",
              "    .dataframe thead th {\n",
              "        text-align: right;\n",
              "    }\n",
              "</style>\n",
              "<table border=\"1\" class=\"dataframe\">\n",
              "  <thead>\n",
              "    <tr style=\"text-align: right;\">\n",
              "      <th></th>\n",
              "      <th>City</th>\n",
              "      <th>\"Region\"</th>\n",
              "      <th>\"Country\"</th>\n",
              "      <th>\"AirQuality\"</th>\n",
              "      <th>\"WaterPollution\"</th>\n",
              "    </tr>\n",
              "  </thead>\n",
              "  <tbody>\n",
              "    <tr>\n",
              "      <th>0</th>\n",
              "      <td>New York City</td>\n",
              "      <td>\"New York\"</td>\n",
              "      <td>\"United States of America\"</td>\n",
              "      <td>46.816038</td>\n",
              "      <td>49.504950</td>\n",
              "    </tr>\n",
              "    <tr>\n",
              "      <th>1</th>\n",
              "      <td>Washington, D.C.</td>\n",
              "      <td>\"District of Columbia\"</td>\n",
              "      <td>\"United States of America\"</td>\n",
              "      <td>66.129032</td>\n",
              "      <td>49.107143</td>\n",
              "    </tr>\n",
              "    <tr>\n",
              "      <th>2</th>\n",
              "      <td>San Francisco</td>\n",
              "      <td>\"California\"</td>\n",
              "      <td>\"United States of America\"</td>\n",
              "      <td>60.514019</td>\n",
              "      <td>43.000000</td>\n",
              "    </tr>\n",
              "    <tr>\n",
              "      <th>3</th>\n",
              "      <td>Berlin</td>\n",
              "      <td>\"\"</td>\n",
              "      <td>\"Germany\"</td>\n",
              "      <td>62.364130</td>\n",
              "      <td>28.612717</td>\n",
              "    </tr>\n",
              "    <tr>\n",
              "      <th>4</th>\n",
              "      <td>Los Angeles</td>\n",
              "      <td>\"California\"</td>\n",
              "      <td>\"United States of America\"</td>\n",
              "      <td>36.621622</td>\n",
              "      <td>61.299435</td>\n",
              "    </tr>\n",
              "    <tr>\n",
              "      <th>...</th>\n",
              "      <td>...</td>\n",
              "      <td>...</td>\n",
              "      <td>...</td>\n",
              "      <td>...</td>\n",
              "      <td>...</td>\n",
              "    </tr>\n",
              "    <tr>\n",
              "      <th>3958</th>\n",
              "      <td>Yanbu</td>\n",
              "      <td>\"Medina Province\"</td>\n",
              "      <td>\"Saudi Arabia\"</td>\n",
              "      <td>0.000000</td>\n",
              "      <td>50.000000</td>\n",
              "    </tr>\n",
              "    <tr>\n",
              "      <th>3959</th>\n",
              "      <td>Cordoba</td>\n",
              "      <td>\"Andalusia\"</td>\n",
              "      <td>\"Spain\"</td>\n",
              "      <td>85.714286</td>\n",
              "      <td>8.333333</td>\n",
              "    </tr>\n",
              "    <tr>\n",
              "      <th>3960</th>\n",
              "      <td>Vic</td>\n",
              "      <td>\"Catalonia\"</td>\n",
              "      <td>\"Spain\"</td>\n",
              "      <td>100.000000</td>\n",
              "      <td>0.000000</td>\n",
              "    </tr>\n",
              "    <tr>\n",
              "      <th>3961</th>\n",
              "      <td>Segovia</td>\n",
              "      <td>\"Castile and Leon\"</td>\n",
              "      <td>\"Spain\"</td>\n",
              "      <td>100.000000</td>\n",
              "      <td>0.000000</td>\n",
              "    </tr>\n",
              "    <tr>\n",
              "      <th>3962</th>\n",
              "      <td>Zamora city</td>\n",
              "      <td>\"Castile and Leon\"</td>\n",
              "      <td>\"Spain\"</td>\n",
              "      <td>100.000000</td>\n",
              "      <td>50.000000</td>\n",
              "    </tr>\n",
              "  </tbody>\n",
              "</table>\n",
              "<p>3963 rows × 5 columns</p>\n",
              "</div>"
            ],
            "text/plain": [
              "                  City  ...  \"WaterPollution\"\n",
              "0        New York City  ...         49.504950\n",
              "1     Washington, D.C.  ...         49.107143\n",
              "2        San Francisco  ...         43.000000\n",
              "3               Berlin  ...         28.612717\n",
              "4          Los Angeles  ...         61.299435\n",
              "...                ...  ...               ...\n",
              "3958             Yanbu  ...         50.000000\n",
              "3959           Cordoba  ...          8.333333\n",
              "3960               Vic  ...          0.000000\n",
              "3961           Segovia  ...          0.000000\n",
              "3962       Zamora city  ...         50.000000\n",
              "\n",
              "[3963 rows x 5 columns]"
            ]
          },
          "metadata": {},
          "execution_count": 5
        }
      ]
    },
    {
      "cell_type": "code",
      "metadata": {
        "colab": {
          "base_uri": "https://localhost:8080/"
        },
        "id": "KVsfFzXTysQS",
        "outputId": "cd56f7fc-57db-44be-884d-44567d550248"
      },
      "source": [
        "df.info()"
      ],
      "execution_count": null,
      "outputs": [
        {
          "output_type": "stream",
          "name": "stdout",
          "text": [
            "<class 'pandas.core.frame.DataFrame'>\n",
            "RangeIndex: 3963 entries, 0 to 3962\n",
            "Data columns (total 5 columns):\n",
            " #   Column             Non-Null Count  Dtype  \n",
            "---  ------             --------------  -----  \n",
            " 0   City               3963 non-null   object \n",
            " 1    \"Region\"          3963 non-null   object \n",
            " 2    \"Country\"         3963 non-null   object \n",
            " 3    \"AirQuality\"      3963 non-null   float64\n",
            " 4    \"WaterPollution\"  3963 non-null   float64\n",
            "dtypes: float64(2), object(3)\n",
            "memory usage: 154.9+ KB\n"
          ]
        }
      ]
    },
    {
      "cell_type": "code",
      "metadata": {
        "id": "Y1Q6iVHRzdPs"
      },
      "source": [
        "columns = ['City','Region','Country','AirQuality','WaterPollution']\n",
        "df.columns = columns"
      ],
      "execution_count": null,
      "outputs": []
    },
    {
      "cell_type": "code",
      "metadata": {
        "colab": {
          "base_uri": "https://localhost:8080/",
          "height": 545
        },
        "id": "8f9tcuyN1Sm8",
        "outputId": "e4426818-5325-489e-9c57-51252b2acf2a"
      },
      "source": [
        "df"
      ],
      "execution_count": null,
      "outputs": [
        {
          "output_type": "execute_result",
          "data": {
            "text/html": [
              "<div>\n",
              "<style scoped>\n",
              "    .dataframe tbody tr th:only-of-type {\n",
              "        vertical-align: middle;\n",
              "    }\n",
              "\n",
              "    .dataframe tbody tr th {\n",
              "        vertical-align: top;\n",
              "    }\n",
              "\n",
              "    .dataframe thead th {\n",
              "        text-align: right;\n",
              "    }\n",
              "</style>\n",
              "<table border=\"1\" class=\"dataframe\">\n",
              "  <thead>\n",
              "    <tr style=\"text-align: right;\">\n",
              "      <th></th>\n",
              "      <th>City</th>\n",
              "      <th>Region</th>\n",
              "      <th>Country</th>\n",
              "      <th>AirQuality</th>\n",
              "      <th>WaterPollution</th>\n",
              "    </tr>\n",
              "  </thead>\n",
              "  <tbody>\n",
              "    <tr>\n",
              "      <th>0</th>\n",
              "      <td>New York City</td>\n",
              "      <td>\"New York\"</td>\n",
              "      <td>\"United States of America\"</td>\n",
              "      <td>46.816038</td>\n",
              "      <td>49.504950</td>\n",
              "    </tr>\n",
              "    <tr>\n",
              "      <th>1</th>\n",
              "      <td>Washington, D.C.</td>\n",
              "      <td>\"District of Columbia\"</td>\n",
              "      <td>\"United States of America\"</td>\n",
              "      <td>66.129032</td>\n",
              "      <td>49.107143</td>\n",
              "    </tr>\n",
              "    <tr>\n",
              "      <th>2</th>\n",
              "      <td>San Francisco</td>\n",
              "      <td>\"California\"</td>\n",
              "      <td>\"United States of America\"</td>\n",
              "      <td>60.514019</td>\n",
              "      <td>43.000000</td>\n",
              "    </tr>\n",
              "    <tr>\n",
              "      <th>3</th>\n",
              "      <td>Berlin</td>\n",
              "      <td>\"\"</td>\n",
              "      <td>\"Germany\"</td>\n",
              "      <td>62.364130</td>\n",
              "      <td>28.612717</td>\n",
              "    </tr>\n",
              "    <tr>\n",
              "      <th>4</th>\n",
              "      <td>Los Angeles</td>\n",
              "      <td>\"California\"</td>\n",
              "      <td>\"United States of America\"</td>\n",
              "      <td>36.621622</td>\n",
              "      <td>61.299435</td>\n",
              "    </tr>\n",
              "    <tr>\n",
              "      <th>...</th>\n",
              "      <td>...</td>\n",
              "      <td>...</td>\n",
              "      <td>...</td>\n",
              "      <td>...</td>\n",
              "      <td>...</td>\n",
              "    </tr>\n",
              "    <tr>\n",
              "      <th>3958</th>\n",
              "      <td>Yanbu</td>\n",
              "      <td>\"Medina Province\"</td>\n",
              "      <td>\"Saudi Arabia\"</td>\n",
              "      <td>0.000000</td>\n",
              "      <td>50.000000</td>\n",
              "    </tr>\n",
              "    <tr>\n",
              "      <th>3959</th>\n",
              "      <td>Cordoba</td>\n",
              "      <td>\"Andalusia\"</td>\n",
              "      <td>\"Spain\"</td>\n",
              "      <td>85.714286</td>\n",
              "      <td>8.333333</td>\n",
              "    </tr>\n",
              "    <tr>\n",
              "      <th>3960</th>\n",
              "      <td>Vic</td>\n",
              "      <td>\"Catalonia\"</td>\n",
              "      <td>\"Spain\"</td>\n",
              "      <td>100.000000</td>\n",
              "      <td>0.000000</td>\n",
              "    </tr>\n",
              "    <tr>\n",
              "      <th>3961</th>\n",
              "      <td>Segovia</td>\n",
              "      <td>\"Castile and Leon\"</td>\n",
              "      <td>\"Spain\"</td>\n",
              "      <td>100.000000</td>\n",
              "      <td>0.000000</td>\n",
              "    </tr>\n",
              "    <tr>\n",
              "      <th>3962</th>\n",
              "      <td>Zamora city</td>\n",
              "      <td>\"Castile and Leon\"</td>\n",
              "      <td>\"Spain\"</td>\n",
              "      <td>100.000000</td>\n",
              "      <td>50.000000</td>\n",
              "    </tr>\n",
              "  </tbody>\n",
              "</table>\n",
              "<p>3963 rows × 5 columns</p>\n",
              "</div>"
            ],
            "text/plain": [
              "                  City                   Region  ...  AirQuality  WaterPollution\n",
              "0        New York City               \"New York\"  ...   46.816038       49.504950\n",
              "1     Washington, D.C.   \"District of Columbia\"  ...   66.129032       49.107143\n",
              "2        San Francisco             \"California\"  ...   60.514019       43.000000\n",
              "3               Berlin                       \"\"  ...   62.364130       28.612717\n",
              "4          Los Angeles             \"California\"  ...   36.621622       61.299435\n",
              "...                ...                      ...  ...         ...             ...\n",
              "3958             Yanbu        \"Medina Province\"  ...    0.000000       50.000000\n",
              "3959           Cordoba              \"Andalusia\"  ...   85.714286        8.333333\n",
              "3960               Vic              \"Catalonia\"  ...  100.000000        0.000000\n",
              "3961           Segovia       \"Castile and Leon\"  ...  100.000000        0.000000\n",
              "3962       Zamora city       \"Castile and Leon\"  ...  100.000000       50.000000\n",
              "\n",
              "[3963 rows x 5 columns]"
            ]
          },
          "metadata": {},
          "execution_count": 8
        }
      ]
    },
    {
      "cell_type": "code",
      "metadata": {
        "colab": {
          "base_uri": "https://localhost:8080/",
          "height": 545
        },
        "id": "T-fq1zuT1TRI",
        "outputId": "cdfcca5d-1c9d-4d35-8b87-4e80ea711e52"
      },
      "source": [
        "# \" \" belgisini olamiz\n",
        "\n",
        "df['Region'] = df['Region'].map(lambda x: x.replace('\"',\"\"))\n",
        "df"
      ],
      "execution_count": null,
      "outputs": [
        {
          "output_type": "execute_result",
          "data": {
            "text/html": [
              "<div>\n",
              "<style scoped>\n",
              "    .dataframe tbody tr th:only-of-type {\n",
              "        vertical-align: middle;\n",
              "    }\n",
              "\n",
              "    .dataframe tbody tr th {\n",
              "        vertical-align: top;\n",
              "    }\n",
              "\n",
              "    .dataframe thead th {\n",
              "        text-align: right;\n",
              "    }\n",
              "</style>\n",
              "<table border=\"1\" class=\"dataframe\">\n",
              "  <thead>\n",
              "    <tr style=\"text-align: right;\">\n",
              "      <th></th>\n",
              "      <th>City</th>\n",
              "      <th>Region</th>\n",
              "      <th>Country</th>\n",
              "      <th>AirQuality</th>\n",
              "      <th>WaterPollution</th>\n",
              "    </tr>\n",
              "  </thead>\n",
              "  <tbody>\n",
              "    <tr>\n",
              "      <th>0</th>\n",
              "      <td>New York City</td>\n",
              "      <td>New York</td>\n",
              "      <td>\"United States of America\"</td>\n",
              "      <td>46.816038</td>\n",
              "      <td>49.504950</td>\n",
              "    </tr>\n",
              "    <tr>\n",
              "      <th>1</th>\n",
              "      <td>Washington, D.C.</td>\n",
              "      <td>District of Columbia</td>\n",
              "      <td>\"United States of America\"</td>\n",
              "      <td>66.129032</td>\n",
              "      <td>49.107143</td>\n",
              "    </tr>\n",
              "    <tr>\n",
              "      <th>2</th>\n",
              "      <td>San Francisco</td>\n",
              "      <td>California</td>\n",
              "      <td>\"United States of America\"</td>\n",
              "      <td>60.514019</td>\n",
              "      <td>43.000000</td>\n",
              "    </tr>\n",
              "    <tr>\n",
              "      <th>3</th>\n",
              "      <td>Berlin</td>\n",
              "      <td></td>\n",
              "      <td>\"Germany\"</td>\n",
              "      <td>62.364130</td>\n",
              "      <td>28.612717</td>\n",
              "    </tr>\n",
              "    <tr>\n",
              "      <th>4</th>\n",
              "      <td>Los Angeles</td>\n",
              "      <td>California</td>\n",
              "      <td>\"United States of America\"</td>\n",
              "      <td>36.621622</td>\n",
              "      <td>61.299435</td>\n",
              "    </tr>\n",
              "    <tr>\n",
              "      <th>...</th>\n",
              "      <td>...</td>\n",
              "      <td>...</td>\n",
              "      <td>...</td>\n",
              "      <td>...</td>\n",
              "      <td>...</td>\n",
              "    </tr>\n",
              "    <tr>\n",
              "      <th>3958</th>\n",
              "      <td>Yanbu</td>\n",
              "      <td>Medina Province</td>\n",
              "      <td>\"Saudi Arabia\"</td>\n",
              "      <td>0.000000</td>\n",
              "      <td>50.000000</td>\n",
              "    </tr>\n",
              "    <tr>\n",
              "      <th>3959</th>\n",
              "      <td>Cordoba</td>\n",
              "      <td>Andalusia</td>\n",
              "      <td>\"Spain\"</td>\n",
              "      <td>85.714286</td>\n",
              "      <td>8.333333</td>\n",
              "    </tr>\n",
              "    <tr>\n",
              "      <th>3960</th>\n",
              "      <td>Vic</td>\n",
              "      <td>Catalonia</td>\n",
              "      <td>\"Spain\"</td>\n",
              "      <td>100.000000</td>\n",
              "      <td>0.000000</td>\n",
              "    </tr>\n",
              "    <tr>\n",
              "      <th>3961</th>\n",
              "      <td>Segovia</td>\n",
              "      <td>Castile and Leon</td>\n",
              "      <td>\"Spain\"</td>\n",
              "      <td>100.000000</td>\n",
              "      <td>0.000000</td>\n",
              "    </tr>\n",
              "    <tr>\n",
              "      <th>3962</th>\n",
              "      <td>Zamora city</td>\n",
              "      <td>Castile and Leon</td>\n",
              "      <td>\"Spain\"</td>\n",
              "      <td>100.000000</td>\n",
              "      <td>50.000000</td>\n",
              "    </tr>\n",
              "  </tbody>\n",
              "</table>\n",
              "<p>3963 rows × 5 columns</p>\n",
              "</div>"
            ],
            "text/plain": [
              "                  City                 Region  ...  AirQuality  WaterPollution\n",
              "0        New York City               New York  ...   46.816038       49.504950\n",
              "1     Washington, D.C.   District of Columbia  ...   66.129032       49.107143\n",
              "2        San Francisco             California  ...   60.514019       43.000000\n",
              "3               Berlin                         ...   62.364130       28.612717\n",
              "4          Los Angeles             California  ...   36.621622       61.299435\n",
              "...                ...                    ...  ...         ...             ...\n",
              "3958             Yanbu        Medina Province  ...    0.000000       50.000000\n",
              "3959           Cordoba              Andalusia  ...   85.714286        8.333333\n",
              "3960               Vic              Catalonia  ...  100.000000        0.000000\n",
              "3961           Segovia       Castile and Leon  ...  100.000000        0.000000\n",
              "3962       Zamora city       Castile and Leon  ...  100.000000       50.000000\n",
              "\n",
              "[3963 rows x 5 columns]"
            ]
          },
          "metadata": {},
          "execution_count": 9
        }
      ]
    },
    {
      "cell_type": "code",
      "metadata": {
        "id": "tqwOjB771_8n"
      },
      "source": [
        ""
      ],
      "execution_count": null,
      "outputs": []
    },
    {
      "cell_type": "code",
      "metadata": {
        "id": "j9BwoNGl2An0"
      },
      "source": [
        "df['Country'] = df['Country'].map(lambda x: x.replace('\"',\"\"))"
      ],
      "execution_count": null,
      "outputs": []
    },
    {
      "cell_type": "code",
      "metadata": {
        "colab": {
          "base_uri": "https://localhost:8080/",
          "height": 440
        },
        "id": "tBuLaoht2kQC",
        "outputId": "e8c2b801-1155-4872-d032-80182af7c0fa"
      },
      "source": [
        "df"
      ],
      "execution_count": null,
      "outputs": [
        {
          "output_type": "execute_result",
          "data": {
            "text/html": [
              "<div>\n",
              "<style scoped>\n",
              "    .dataframe tbody tr th:only-of-type {\n",
              "        vertical-align: middle;\n",
              "    }\n",
              "\n",
              "    .dataframe tbody tr th {\n",
              "        vertical-align: top;\n",
              "    }\n",
              "\n",
              "    .dataframe thead th {\n",
              "        text-align: right;\n",
              "    }\n",
              "</style>\n",
              "<table border=\"1\" class=\"dataframe\">\n",
              "  <thead>\n",
              "    <tr style=\"text-align: right;\">\n",
              "      <th></th>\n",
              "      <th>City</th>\n",
              "      <th>Region</th>\n",
              "      <th>Country</th>\n",
              "      <th>AirQuality</th>\n",
              "      <th>WaterPollution</th>\n",
              "    </tr>\n",
              "  </thead>\n",
              "  <tbody>\n",
              "    <tr>\n",
              "      <th>0</th>\n",
              "      <td>New York City</td>\n",
              "      <td>New York</td>\n",
              "      <td>New York</td>\n",
              "      <td>46.816038</td>\n",
              "      <td>49.504950</td>\n",
              "    </tr>\n",
              "    <tr>\n",
              "      <th>1</th>\n",
              "      <td>Washington, D.C.</td>\n",
              "      <td>District of Columbia</td>\n",
              "      <td>District of Columbia</td>\n",
              "      <td>66.129032</td>\n",
              "      <td>49.107143</td>\n",
              "    </tr>\n",
              "    <tr>\n",
              "      <th>2</th>\n",
              "      <td>San Francisco</td>\n",
              "      <td>California</td>\n",
              "      <td>California</td>\n",
              "      <td>60.514019</td>\n",
              "      <td>43.000000</td>\n",
              "    </tr>\n",
              "    <tr>\n",
              "      <th>3</th>\n",
              "      <td>Berlin</td>\n",
              "      <td></td>\n",
              "      <td></td>\n",
              "      <td>62.364130</td>\n",
              "      <td>28.612717</td>\n",
              "    </tr>\n",
              "    <tr>\n",
              "      <th>4</th>\n",
              "      <td>Los Angeles</td>\n",
              "      <td>California</td>\n",
              "      <td>California</td>\n",
              "      <td>36.621622</td>\n",
              "      <td>61.299435</td>\n",
              "    </tr>\n",
              "    <tr>\n",
              "      <th>...</th>\n",
              "      <td>...</td>\n",
              "      <td>...</td>\n",
              "      <td>...</td>\n",
              "      <td>...</td>\n",
              "      <td>...</td>\n",
              "    </tr>\n",
              "    <tr>\n",
              "      <th>3958</th>\n",
              "      <td>Yanbu</td>\n",
              "      <td>Medina Province</td>\n",
              "      <td>Medina Province</td>\n",
              "      <td>0.000000</td>\n",
              "      <td>50.000000</td>\n",
              "    </tr>\n",
              "    <tr>\n",
              "      <th>3959</th>\n",
              "      <td>Cordoba</td>\n",
              "      <td>Andalusia</td>\n",
              "      <td>Andalusia</td>\n",
              "      <td>85.714286</td>\n",
              "      <td>8.333333</td>\n",
              "    </tr>\n",
              "    <tr>\n",
              "      <th>3960</th>\n",
              "      <td>Vic</td>\n",
              "      <td>Catalonia</td>\n",
              "      <td>Catalonia</td>\n",
              "      <td>100.000000</td>\n",
              "      <td>0.000000</td>\n",
              "    </tr>\n",
              "    <tr>\n",
              "      <th>3961</th>\n",
              "      <td>Segovia</td>\n",
              "      <td>Castile and Leon</td>\n",
              "      <td>Castile and Leon</td>\n",
              "      <td>100.000000</td>\n",
              "      <td>0.000000</td>\n",
              "    </tr>\n",
              "    <tr>\n",
              "      <th>3962</th>\n",
              "      <td>Zamora city</td>\n",
              "      <td>Castile and Leon</td>\n",
              "      <td>Castile and Leon</td>\n",
              "      <td>100.000000</td>\n",
              "      <td>50.000000</td>\n",
              "    </tr>\n",
              "  </tbody>\n",
              "</table>\n",
              "<p>3963 rows × 5 columns</p>\n",
              "</div>"
            ],
            "text/plain": [
              "                  City                 Region  ...  AirQuality  WaterPollution\n",
              "0        New York City               New York  ...   46.816038       49.504950\n",
              "1     Washington, D.C.   District of Columbia  ...   66.129032       49.107143\n",
              "2        San Francisco             California  ...   60.514019       43.000000\n",
              "3               Berlin                         ...   62.364130       28.612717\n",
              "4          Los Angeles             California  ...   36.621622       61.299435\n",
              "...                ...                    ...  ...         ...             ...\n",
              "3958             Yanbu        Medina Province  ...    0.000000       50.000000\n",
              "3959           Cordoba              Andalusia  ...   85.714286        8.333333\n",
              "3960               Vic              Catalonia  ...  100.000000        0.000000\n",
              "3961           Segovia       Castile and Leon  ...  100.000000        0.000000\n",
              "3962       Zamora city       Castile and Leon  ...  100.000000       50.000000\n",
              "\n",
              "[3963 rows x 5 columns]"
            ]
          },
          "metadata": {},
          "execution_count": 41
        }
      ]
    },
    {
      "cell_type": "code",
      "metadata": {
        "id": "eIKEPv6N2k10"
      },
      "source": [
        "df.to_csv('Update_dataset.csv',index=False)"
      ],
      "execution_count": null,
      "outputs": []
    },
    {
      "cell_type": "code",
      "metadata": {
        "id": "BlD4BRDr3GEP"
      },
      "source": [
        "# space ni olib tashlasg\n",
        "\n",
        "df['Country']=df['Country'].map(lambda x: x.strip())"
      ],
      "execution_count": null,
      "outputs": []
    },
    {
      "cell_type": "code",
      "metadata": {
        "colab": {
          "base_uri": "https://localhost:8080/",
          "height": 36
        },
        "id": "Z_B9fXR34-2X",
        "outputId": "82c299e4-dce6-40e4-b145-fe3ba729a9b2"
      },
      "source": [
        "df['Country'][3]"
      ],
      "execution_count": null,
      "outputs": [
        {
          "output_type": "execute_result",
          "data": {
            "application/vnd.google.colaboratory.intrinsic+json": {
              "type": "string"
            },
            "text/plain": [
              "'Germany'"
            ]
          },
          "metadata": {},
          "execution_count": 13
        }
      ]
    },
    {
      "cell_type": "code",
      "metadata": {
        "colab": {
          "base_uri": "https://localhost:8080/",
          "height": 80
        },
        "id": "f01ikFeU5Di_",
        "outputId": "aa436ca3-140c-48e9-8c22-775fead42451"
      },
      "source": [
        "df[df['Country']=='Uzbekistan']"
      ],
      "execution_count": null,
      "outputs": [
        {
          "output_type": "execute_result",
          "data": {
            "text/html": [
              "<div>\n",
              "<style scoped>\n",
              "    .dataframe tbody tr th:only-of-type {\n",
              "        vertical-align: middle;\n",
              "    }\n",
              "\n",
              "    .dataframe tbody tr th {\n",
              "        vertical-align: top;\n",
              "    }\n",
              "\n",
              "    .dataframe thead th {\n",
              "        text-align: right;\n",
              "    }\n",
              "</style>\n",
              "<table border=\"1\" class=\"dataframe\">\n",
              "  <thead>\n",
              "    <tr style=\"text-align: right;\">\n",
              "      <th></th>\n",
              "      <th>City</th>\n",
              "      <th>Region</th>\n",
              "      <th>Country</th>\n",
              "      <th>AirQuality</th>\n",
              "      <th>WaterPollution</th>\n",
              "    </tr>\n",
              "  </thead>\n",
              "  <tbody>\n",
              "    <tr>\n",
              "      <th>21</th>\n",
              "      <td>Tashkent</td>\n",
              "      <td></td>\n",
              "      <td>Uzbekistan</td>\n",
              "      <td>56.451613</td>\n",
              "      <td>49.166667</td>\n",
              "    </tr>\n",
              "  </tbody>\n",
              "</table>\n",
              "</div>"
            ],
            "text/plain": [
              "        City Region     Country  AirQuality  WaterPollution\n",
              "21  Tashkent         Uzbekistan   56.451613       49.166667"
            ]
          },
          "metadata": {},
          "execution_count": 14
        }
      ]
    },
    {
      "cell_type": "code",
      "metadata": {
        "id": "0LSRCAM56THP"
      },
      "source": [
        ""
      ],
      "execution_count": null,
      "outputs": []
    },
    {
      "cell_type": "markdown",
      "metadata": {
        "id": "sx-Ykdud64JP"
      },
      "source": [
        "Multi index berish"
      ]
    },
    {
      "cell_type": "code",
      "metadata": {
        "colab": {
          "base_uri": "https://localhost:8080/",
          "height": 545
        },
        "id": "3JTR34k-65j8",
        "outputId": "56d06e61-5e93-489b-9cb0-a59d5f812d63"
      },
      "source": [
        "df"
      ],
      "execution_count": null,
      "outputs": [
        {
          "output_type": "execute_result",
          "data": {
            "text/html": [
              "<div>\n",
              "<style scoped>\n",
              "    .dataframe tbody tr th:only-of-type {\n",
              "        vertical-align: middle;\n",
              "    }\n",
              "\n",
              "    .dataframe tbody tr th {\n",
              "        vertical-align: top;\n",
              "    }\n",
              "\n",
              "    .dataframe thead th {\n",
              "        text-align: right;\n",
              "    }\n",
              "</style>\n",
              "<table border=\"1\" class=\"dataframe\">\n",
              "  <thead>\n",
              "    <tr style=\"text-align: right;\">\n",
              "      <th></th>\n",
              "      <th>City</th>\n",
              "      <th>Region</th>\n",
              "      <th>Country</th>\n",
              "      <th>AirQuality</th>\n",
              "      <th>WaterPollution</th>\n",
              "    </tr>\n",
              "  </thead>\n",
              "  <tbody>\n",
              "    <tr>\n",
              "      <th>0</th>\n",
              "      <td>New York City</td>\n",
              "      <td>New York</td>\n",
              "      <td>United States of America</td>\n",
              "      <td>46.816038</td>\n",
              "      <td>49.504950</td>\n",
              "    </tr>\n",
              "    <tr>\n",
              "      <th>1</th>\n",
              "      <td>Washington, D.C.</td>\n",
              "      <td>District of Columbia</td>\n",
              "      <td>United States of America</td>\n",
              "      <td>66.129032</td>\n",
              "      <td>49.107143</td>\n",
              "    </tr>\n",
              "    <tr>\n",
              "      <th>2</th>\n",
              "      <td>San Francisco</td>\n",
              "      <td>California</td>\n",
              "      <td>United States of America</td>\n",
              "      <td>60.514019</td>\n",
              "      <td>43.000000</td>\n",
              "    </tr>\n",
              "    <tr>\n",
              "      <th>3</th>\n",
              "      <td>Berlin</td>\n",
              "      <td></td>\n",
              "      <td>Germany</td>\n",
              "      <td>62.364130</td>\n",
              "      <td>28.612717</td>\n",
              "    </tr>\n",
              "    <tr>\n",
              "      <th>4</th>\n",
              "      <td>Los Angeles</td>\n",
              "      <td>California</td>\n",
              "      <td>United States of America</td>\n",
              "      <td>36.621622</td>\n",
              "      <td>61.299435</td>\n",
              "    </tr>\n",
              "    <tr>\n",
              "      <th>...</th>\n",
              "      <td>...</td>\n",
              "      <td>...</td>\n",
              "      <td>...</td>\n",
              "      <td>...</td>\n",
              "      <td>...</td>\n",
              "    </tr>\n",
              "    <tr>\n",
              "      <th>3958</th>\n",
              "      <td>Yanbu</td>\n",
              "      <td>Medina Province</td>\n",
              "      <td>Saudi Arabia</td>\n",
              "      <td>0.000000</td>\n",
              "      <td>50.000000</td>\n",
              "    </tr>\n",
              "    <tr>\n",
              "      <th>3959</th>\n",
              "      <td>Cordoba</td>\n",
              "      <td>Andalusia</td>\n",
              "      <td>Spain</td>\n",
              "      <td>85.714286</td>\n",
              "      <td>8.333333</td>\n",
              "    </tr>\n",
              "    <tr>\n",
              "      <th>3960</th>\n",
              "      <td>Vic</td>\n",
              "      <td>Catalonia</td>\n",
              "      <td>Spain</td>\n",
              "      <td>100.000000</td>\n",
              "      <td>0.000000</td>\n",
              "    </tr>\n",
              "    <tr>\n",
              "      <th>3961</th>\n",
              "      <td>Segovia</td>\n",
              "      <td>Castile and Leon</td>\n",
              "      <td>Spain</td>\n",
              "      <td>100.000000</td>\n",
              "      <td>0.000000</td>\n",
              "    </tr>\n",
              "    <tr>\n",
              "      <th>3962</th>\n",
              "      <td>Zamora city</td>\n",
              "      <td>Castile and Leon</td>\n",
              "      <td>Spain</td>\n",
              "      <td>100.000000</td>\n",
              "      <td>50.000000</td>\n",
              "    </tr>\n",
              "  </tbody>\n",
              "</table>\n",
              "<p>3963 rows × 5 columns</p>\n",
              "</div>"
            ],
            "text/plain": [
              "                  City                 Region  ...  AirQuality  WaterPollution\n",
              "0        New York City               New York  ...   46.816038       49.504950\n",
              "1     Washington, D.C.   District of Columbia  ...   66.129032       49.107143\n",
              "2        San Francisco             California  ...   60.514019       43.000000\n",
              "3               Berlin                         ...   62.364130       28.612717\n",
              "4          Los Angeles             California  ...   36.621622       61.299435\n",
              "...                ...                    ...  ...         ...             ...\n",
              "3958             Yanbu        Medina Province  ...    0.000000       50.000000\n",
              "3959           Cordoba              Andalusia  ...   85.714286        8.333333\n",
              "3960               Vic              Catalonia  ...  100.000000        0.000000\n",
              "3961           Segovia       Castile and Leon  ...  100.000000        0.000000\n",
              "3962       Zamora city       Castile and Leon  ...  100.000000       50.000000\n",
              "\n",
              "[3963 rows x 5 columns]"
            ]
          },
          "metadata": {},
          "execution_count": 15
        }
      ]
    },
    {
      "cell_type": "code",
      "metadata": {
        "id": "w6L02jul67BF"
      },
      "source": [
        "# PIVOT_TABLE - \n",
        "\n",
        "df1 = pd.pivot_table(df,index=['Country','City'])"
      ],
      "execution_count": null,
      "outputs": []
    },
    {
      "cell_type": "code",
      "metadata": {
        "colab": {
          "base_uri": "https://localhost:8080/"
        },
        "id": "BXS1fVJ57dzP",
        "outputId": "83b01d8b-22f5-48c2-8a93-343f47a6c446"
      },
      "source": [
        "df1.index"
      ],
      "execution_count": null,
      "outputs": [
        {
          "output_type": "execute_result",
          "data": {
            "text/plain": [
              "MultiIndex([('Afghanistan',        'Andkhoy'),\n",
              "            ('Afghanistan',          'Farah'),\n",
              "            ('Afghanistan',          'Herat'),\n",
              "            ('Afghanistan',          'Kabul'),\n",
              "            ('Afghanistan',       'Kandahar'),\n",
              "            ('Afghanistan', 'Mazar-i-Sharif'),\n",
              "            (    'Albania',         'Ballsh'),\n",
              "            (    'Albania',         'Burrel'),\n",
              "            (    'Albania',         'Durres'),\n",
              "            (    'Albania',        'Elbasan'),\n",
              "            ...\n",
              "            (      'Yemen',          'Sanaa'),\n",
              "            (      'Yemen',         'Ta'izz'),\n",
              "            (     'Zambia',       'Chingola'),\n",
              "            (     'Zambia',          'Kitwe'),\n",
              "            (     'Zambia',         'Lusaka'),\n",
              "            (     'Zambia',          'Mansa'),\n",
              "            (   'Zimbabwe',        'Bindura'),\n",
              "            (   'Zimbabwe',       'Bulawayo'),\n",
              "            (   'Zimbabwe',         'Harare'),\n",
              "            (   'Zimbabwe',       'Masvingo')],\n",
              "           names=['Country', 'City'], length=3895)"
            ]
          },
          "metadata": {},
          "execution_count": 17
        }
      ]
    },
    {
      "cell_type": "code",
      "metadata": {
        "colab": {
          "base_uri": "https://localhost:8080/",
          "height": 454
        },
        "id": "JM3rKOFd7e2N",
        "outputId": "cab242cf-ef72-41c0-8eea-3e95d52b0615"
      },
      "source": [
        "df2 = df1.copy()\n",
        "df2"
      ],
      "execution_count": null,
      "outputs": [
        {
          "output_type": "execute_result",
          "data": {
            "text/html": [
              "<div>\n",
              "<style scoped>\n",
              "    .dataframe tbody tr th:only-of-type {\n",
              "        vertical-align: middle;\n",
              "    }\n",
              "\n",
              "    .dataframe tbody tr th {\n",
              "        vertical-align: top;\n",
              "    }\n",
              "\n",
              "    .dataframe thead th {\n",
              "        text-align: right;\n",
              "    }\n",
              "</style>\n",
              "<table border=\"1\" class=\"dataframe\">\n",
              "  <thead>\n",
              "    <tr style=\"text-align: right;\">\n",
              "      <th></th>\n",
              "      <th></th>\n",
              "      <th>AirQuality</th>\n",
              "      <th>WaterPollution</th>\n",
              "    </tr>\n",
              "    <tr>\n",
              "      <th>Country</th>\n",
              "      <th>City</th>\n",
              "      <th></th>\n",
              "      <th></th>\n",
              "    </tr>\n",
              "  </thead>\n",
              "  <tbody>\n",
              "    <tr>\n",
              "      <th rowspan=\"5\" valign=\"top\">Afghanistan</th>\n",
              "      <th>Andkhoy</th>\n",
              "      <td>50.000000</td>\n",
              "      <td>50.000000</td>\n",
              "    </tr>\n",
              "    <tr>\n",
              "      <th>Farah</th>\n",
              "      <td>100.000000</td>\n",
              "      <td>0.000000</td>\n",
              "    </tr>\n",
              "    <tr>\n",
              "      <th>Herat</th>\n",
              "      <td>43.750000</td>\n",
              "      <td>31.250000</td>\n",
              "    </tr>\n",
              "    <tr>\n",
              "      <th>Kabul</th>\n",
              "      <td>18.421053</td>\n",
              "      <td>81.060606</td>\n",
              "    </tr>\n",
              "    <tr>\n",
              "      <th>Kandahar</th>\n",
              "      <td>0.000000</td>\n",
              "      <td>75.000000</td>\n",
              "    </tr>\n",
              "    <tr>\n",
              "      <th>...</th>\n",
              "      <th>...</th>\n",
              "      <td>...</td>\n",
              "      <td>...</td>\n",
              "    </tr>\n",
              "    <tr>\n",
              "      <th>Zambia</th>\n",
              "      <th>Mansa</th>\n",
              "      <td>75.000000</td>\n",
              "      <td>25.000000</td>\n",
              "    </tr>\n",
              "    <tr>\n",
              "      <th rowspan=\"4\" valign=\"top\">Zimbabwe</th>\n",
              "      <th>Bindura</th>\n",
              "      <td>50.000000</td>\n",
              "      <td>75.000000</td>\n",
              "    </tr>\n",
              "    <tr>\n",
              "      <th>Bulawayo</th>\n",
              "      <td>67.857143</td>\n",
              "      <td>71.428571</td>\n",
              "    </tr>\n",
              "    <tr>\n",
              "      <th>Harare</th>\n",
              "      <td>38.461538</td>\n",
              "      <td>87.500000</td>\n",
              "    </tr>\n",
              "    <tr>\n",
              "      <th>Masvingo</th>\n",
              "      <td>25.000000</td>\n",
              "      <td>62.500000</td>\n",
              "    </tr>\n",
              "  </tbody>\n",
              "</table>\n",
              "<p>3895 rows × 2 columns</p>\n",
              "</div>"
            ],
            "text/plain": [
              "                      AirQuality  WaterPollution\n",
              "Country     City                                \n",
              "Afghanistan Andkhoy    50.000000       50.000000\n",
              "            Farah     100.000000        0.000000\n",
              "            Herat      43.750000       31.250000\n",
              "            Kabul      18.421053       81.060606\n",
              "            Kandahar    0.000000       75.000000\n",
              "...                          ...             ...\n",
              "Zambia      Mansa      75.000000       25.000000\n",
              "Zimbabwe    Bindura    50.000000       75.000000\n",
              "            Bulawayo   67.857143       71.428571\n",
              "            Harare     38.461538       87.500000\n",
              "            Masvingo   25.000000       62.500000\n",
              "\n",
              "[3895 rows x 2 columns]"
            ]
          },
          "metadata": {},
          "execution_count": 18
        }
      ]
    },
    {
      "cell_type": "code",
      "metadata": {
        "id": "dXiyVVvKTNKS"
      },
      "source": [
        "df2['AirPollution'] = 100-df2['AirQuality']"
      ],
      "execution_count": null,
      "outputs": []
    },
    {
      "cell_type": "code",
      "metadata": {
        "colab": {
          "base_uri": "https://localhost:8080/",
          "height": 454
        },
        "id": "tFA244jYTbjp",
        "outputId": "08cca6d4-1a38-41e2-b047-8e531dfd7565"
      },
      "source": [
        "df2"
      ],
      "execution_count": null,
      "outputs": [
        {
          "output_type": "execute_result",
          "data": {
            "text/html": [
              "<div>\n",
              "<style scoped>\n",
              "    .dataframe tbody tr th:only-of-type {\n",
              "        vertical-align: middle;\n",
              "    }\n",
              "\n",
              "    .dataframe tbody tr th {\n",
              "        vertical-align: top;\n",
              "    }\n",
              "\n",
              "    .dataframe thead th {\n",
              "        text-align: right;\n",
              "    }\n",
              "</style>\n",
              "<table border=\"1\" class=\"dataframe\">\n",
              "  <thead>\n",
              "    <tr style=\"text-align: right;\">\n",
              "      <th></th>\n",
              "      <th></th>\n",
              "      <th>AirQuality</th>\n",
              "      <th>WaterPollution</th>\n",
              "      <th>AirPollution</th>\n",
              "    </tr>\n",
              "    <tr>\n",
              "      <th>Country</th>\n",
              "      <th>City</th>\n",
              "      <th></th>\n",
              "      <th></th>\n",
              "      <th></th>\n",
              "    </tr>\n",
              "  </thead>\n",
              "  <tbody>\n",
              "    <tr>\n",
              "      <th rowspan=\"5\" valign=\"top\">Afghanistan</th>\n",
              "      <th>Andkhoy</th>\n",
              "      <td>50.000000</td>\n",
              "      <td>50.000000</td>\n",
              "      <td>50.000000</td>\n",
              "    </tr>\n",
              "    <tr>\n",
              "      <th>Farah</th>\n",
              "      <td>100.000000</td>\n",
              "      <td>0.000000</td>\n",
              "      <td>0.000000</td>\n",
              "    </tr>\n",
              "    <tr>\n",
              "      <th>Herat</th>\n",
              "      <td>43.750000</td>\n",
              "      <td>31.250000</td>\n",
              "      <td>56.250000</td>\n",
              "    </tr>\n",
              "    <tr>\n",
              "      <th>Kabul</th>\n",
              "      <td>18.421053</td>\n",
              "      <td>81.060606</td>\n",
              "      <td>81.578947</td>\n",
              "    </tr>\n",
              "    <tr>\n",
              "      <th>Kandahar</th>\n",
              "      <td>0.000000</td>\n",
              "      <td>75.000000</td>\n",
              "      <td>100.000000</td>\n",
              "    </tr>\n",
              "    <tr>\n",
              "      <th>...</th>\n",
              "      <th>...</th>\n",
              "      <td>...</td>\n",
              "      <td>...</td>\n",
              "      <td>...</td>\n",
              "    </tr>\n",
              "    <tr>\n",
              "      <th>Zambia</th>\n",
              "      <th>Mansa</th>\n",
              "      <td>75.000000</td>\n",
              "      <td>25.000000</td>\n",
              "      <td>25.000000</td>\n",
              "    </tr>\n",
              "    <tr>\n",
              "      <th rowspan=\"4\" valign=\"top\">Zimbabwe</th>\n",
              "      <th>Bindura</th>\n",
              "      <td>50.000000</td>\n",
              "      <td>75.000000</td>\n",
              "      <td>50.000000</td>\n",
              "    </tr>\n",
              "    <tr>\n",
              "      <th>Bulawayo</th>\n",
              "      <td>67.857143</td>\n",
              "      <td>71.428571</td>\n",
              "      <td>32.142857</td>\n",
              "    </tr>\n",
              "    <tr>\n",
              "      <th>Harare</th>\n",
              "      <td>38.461538</td>\n",
              "      <td>87.500000</td>\n",
              "      <td>61.538462</td>\n",
              "    </tr>\n",
              "    <tr>\n",
              "      <th>Masvingo</th>\n",
              "      <td>25.000000</td>\n",
              "      <td>62.500000</td>\n",
              "      <td>75.000000</td>\n",
              "    </tr>\n",
              "  </tbody>\n",
              "</table>\n",
              "<p>3895 rows × 3 columns</p>\n",
              "</div>"
            ],
            "text/plain": [
              "                      AirQuality  WaterPollution  AirPollution\n",
              "Country     City                                              \n",
              "Afghanistan Andkhoy    50.000000       50.000000     50.000000\n",
              "            Farah     100.000000        0.000000      0.000000\n",
              "            Herat      43.750000       31.250000     56.250000\n",
              "            Kabul      18.421053       81.060606     81.578947\n",
              "            Kandahar    0.000000       75.000000    100.000000\n",
              "...                          ...             ...           ...\n",
              "Zambia      Mansa      75.000000       25.000000     25.000000\n",
              "Zimbabwe    Bindura    50.000000       75.000000     50.000000\n",
              "            Bulawayo   67.857143       71.428571     32.142857\n",
              "            Harare     38.461538       87.500000     61.538462\n",
              "            Masvingo   25.000000       62.500000     75.000000\n",
              "\n",
              "[3895 rows x 3 columns]"
            ]
          },
          "metadata": {},
          "execution_count": 20
        }
      ]
    },
    {
      "cell_type": "code",
      "metadata": {
        "id": "0KWA3UoMTonC"
      },
      "source": [
        "df2['WaterQuality'] = 100-df2['WaterPollution']"
      ],
      "execution_count": null,
      "outputs": []
    },
    {
      "cell_type": "code",
      "metadata": {
        "colab": {
          "base_uri": "https://localhost:8080/",
          "height": 454
        },
        "id": "tsJ4PiELT4u5",
        "outputId": "45d9de1b-204b-4345-85cf-55c9c1ff2730"
      },
      "source": [
        "df2"
      ],
      "execution_count": null,
      "outputs": [
        {
          "output_type": "execute_result",
          "data": {
            "text/html": [
              "<div>\n",
              "<style scoped>\n",
              "    .dataframe tbody tr th:only-of-type {\n",
              "        vertical-align: middle;\n",
              "    }\n",
              "\n",
              "    .dataframe tbody tr th {\n",
              "        vertical-align: top;\n",
              "    }\n",
              "\n",
              "    .dataframe thead th {\n",
              "        text-align: right;\n",
              "    }\n",
              "</style>\n",
              "<table border=\"1\" class=\"dataframe\">\n",
              "  <thead>\n",
              "    <tr style=\"text-align: right;\">\n",
              "      <th></th>\n",
              "      <th></th>\n",
              "      <th>AirQuality</th>\n",
              "      <th>WaterPollution</th>\n",
              "      <th>AirPollution</th>\n",
              "      <th>WaterQuality</th>\n",
              "    </tr>\n",
              "    <tr>\n",
              "      <th>Country</th>\n",
              "      <th>City</th>\n",
              "      <th></th>\n",
              "      <th></th>\n",
              "      <th></th>\n",
              "      <th></th>\n",
              "    </tr>\n",
              "  </thead>\n",
              "  <tbody>\n",
              "    <tr>\n",
              "      <th rowspan=\"5\" valign=\"top\">Afghanistan</th>\n",
              "      <th>Andkhoy</th>\n",
              "      <td>50.000000</td>\n",
              "      <td>50.000000</td>\n",
              "      <td>50.000000</td>\n",
              "      <td>50.000000</td>\n",
              "    </tr>\n",
              "    <tr>\n",
              "      <th>Farah</th>\n",
              "      <td>100.000000</td>\n",
              "      <td>0.000000</td>\n",
              "      <td>0.000000</td>\n",
              "      <td>100.000000</td>\n",
              "    </tr>\n",
              "    <tr>\n",
              "      <th>Herat</th>\n",
              "      <td>43.750000</td>\n",
              "      <td>31.250000</td>\n",
              "      <td>56.250000</td>\n",
              "      <td>68.750000</td>\n",
              "    </tr>\n",
              "    <tr>\n",
              "      <th>Kabul</th>\n",
              "      <td>18.421053</td>\n",
              "      <td>81.060606</td>\n",
              "      <td>81.578947</td>\n",
              "      <td>18.939394</td>\n",
              "    </tr>\n",
              "    <tr>\n",
              "      <th>Kandahar</th>\n",
              "      <td>0.000000</td>\n",
              "      <td>75.000000</td>\n",
              "      <td>100.000000</td>\n",
              "      <td>25.000000</td>\n",
              "    </tr>\n",
              "    <tr>\n",
              "      <th>...</th>\n",
              "      <th>...</th>\n",
              "      <td>...</td>\n",
              "      <td>...</td>\n",
              "      <td>...</td>\n",
              "      <td>...</td>\n",
              "    </tr>\n",
              "    <tr>\n",
              "      <th>Zambia</th>\n",
              "      <th>Mansa</th>\n",
              "      <td>75.000000</td>\n",
              "      <td>25.000000</td>\n",
              "      <td>25.000000</td>\n",
              "      <td>75.000000</td>\n",
              "    </tr>\n",
              "    <tr>\n",
              "      <th rowspan=\"4\" valign=\"top\">Zimbabwe</th>\n",
              "      <th>Bindura</th>\n",
              "      <td>50.000000</td>\n",
              "      <td>75.000000</td>\n",
              "      <td>50.000000</td>\n",
              "      <td>25.000000</td>\n",
              "    </tr>\n",
              "    <tr>\n",
              "      <th>Bulawayo</th>\n",
              "      <td>67.857143</td>\n",
              "      <td>71.428571</td>\n",
              "      <td>32.142857</td>\n",
              "      <td>28.571429</td>\n",
              "    </tr>\n",
              "    <tr>\n",
              "      <th>Harare</th>\n",
              "      <td>38.461538</td>\n",
              "      <td>87.500000</td>\n",
              "      <td>61.538462</td>\n",
              "      <td>12.500000</td>\n",
              "    </tr>\n",
              "    <tr>\n",
              "      <th>Masvingo</th>\n",
              "      <td>25.000000</td>\n",
              "      <td>62.500000</td>\n",
              "      <td>75.000000</td>\n",
              "      <td>37.500000</td>\n",
              "    </tr>\n",
              "  </tbody>\n",
              "</table>\n",
              "<p>3895 rows × 4 columns</p>\n",
              "</div>"
            ],
            "text/plain": [
              "                      AirQuality  WaterPollution  AirPollution  WaterQuality\n",
              "Country     City                                                            \n",
              "Afghanistan Andkhoy    50.000000       50.000000     50.000000     50.000000\n",
              "            Farah     100.000000        0.000000      0.000000    100.000000\n",
              "            Herat      43.750000       31.250000     56.250000     68.750000\n",
              "            Kabul      18.421053       81.060606     81.578947     18.939394\n",
              "            Kandahar    0.000000       75.000000    100.000000     25.000000\n",
              "...                          ...             ...           ...           ...\n",
              "Zambia      Mansa      75.000000       25.000000     25.000000     75.000000\n",
              "Zimbabwe    Bindura    50.000000       75.000000     50.000000     25.000000\n",
              "            Bulawayo   67.857143       71.428571     32.142857     28.571429\n",
              "            Harare     38.461538       87.500000     61.538462     12.500000\n",
              "            Masvingo   25.000000       62.500000     75.000000     37.500000\n",
              "\n",
              "[3895 rows x 4 columns]"
            ]
          },
          "metadata": {},
          "execution_count": 22
        }
      ]
    },
    {
      "cell_type": "code",
      "metadata": {
        "id": "y-gEA0nET5hF"
      },
      "source": [
        "df3 = pd.DataFrame(df2.values,index=df2.index,\n",
        "  columns=[['AIR','AIR','WATER','WATER'],['AirQuality','AirPollution','WaterQuality','WaterPollution']])"
      ],
      "execution_count": null,
      "outputs": []
    },
    {
      "cell_type": "code",
      "metadata": {
        "colab": {
          "base_uri": "https://localhost:8080/",
          "height": 486
        },
        "id": "NCka3lY7U3pN",
        "outputId": "a4d9a5a0-eae6-4aac-f706-ea1fbeec31cb"
      },
      "source": [
        "df3"
      ],
      "execution_count": null,
      "outputs": [
        {
          "output_type": "execute_result",
          "data": {
            "text/html": [
              "<div>\n",
              "<style scoped>\n",
              "    .dataframe tbody tr th:only-of-type {\n",
              "        vertical-align: middle;\n",
              "    }\n",
              "\n",
              "    .dataframe tbody tr th {\n",
              "        vertical-align: top;\n",
              "    }\n",
              "\n",
              "    .dataframe thead tr th {\n",
              "        text-align: left;\n",
              "    }\n",
              "\n",
              "    .dataframe thead tr:last-of-type th {\n",
              "        text-align: right;\n",
              "    }\n",
              "</style>\n",
              "<table border=\"1\" class=\"dataframe\">\n",
              "  <thead>\n",
              "    <tr>\n",
              "      <th></th>\n",
              "      <th></th>\n",
              "      <th colspan=\"2\" halign=\"left\">AIR</th>\n",
              "      <th colspan=\"2\" halign=\"left\">WATER</th>\n",
              "    </tr>\n",
              "    <tr>\n",
              "      <th></th>\n",
              "      <th></th>\n",
              "      <th>AirQuality</th>\n",
              "      <th>AirPollution</th>\n",
              "      <th>WaterQuality</th>\n",
              "      <th>WaterPollution</th>\n",
              "    </tr>\n",
              "    <tr>\n",
              "      <th>Country</th>\n",
              "      <th>City</th>\n",
              "      <th></th>\n",
              "      <th></th>\n",
              "      <th></th>\n",
              "      <th></th>\n",
              "    </tr>\n",
              "  </thead>\n",
              "  <tbody>\n",
              "    <tr>\n",
              "      <th rowspan=\"5\" valign=\"top\">Afghanistan</th>\n",
              "      <th>Andkhoy</th>\n",
              "      <td>50.000000</td>\n",
              "      <td>50.000000</td>\n",
              "      <td>50.000000</td>\n",
              "      <td>50.000000</td>\n",
              "    </tr>\n",
              "    <tr>\n",
              "      <th>Farah</th>\n",
              "      <td>100.000000</td>\n",
              "      <td>0.000000</td>\n",
              "      <td>0.000000</td>\n",
              "      <td>100.000000</td>\n",
              "    </tr>\n",
              "    <tr>\n",
              "      <th>Herat</th>\n",
              "      <td>43.750000</td>\n",
              "      <td>31.250000</td>\n",
              "      <td>56.250000</td>\n",
              "      <td>68.750000</td>\n",
              "    </tr>\n",
              "    <tr>\n",
              "      <th>Kabul</th>\n",
              "      <td>18.421053</td>\n",
              "      <td>81.060606</td>\n",
              "      <td>81.578947</td>\n",
              "      <td>18.939394</td>\n",
              "    </tr>\n",
              "    <tr>\n",
              "      <th>Kandahar</th>\n",
              "      <td>0.000000</td>\n",
              "      <td>75.000000</td>\n",
              "      <td>100.000000</td>\n",
              "      <td>25.000000</td>\n",
              "    </tr>\n",
              "    <tr>\n",
              "      <th>...</th>\n",
              "      <th>...</th>\n",
              "      <td>...</td>\n",
              "      <td>...</td>\n",
              "      <td>...</td>\n",
              "      <td>...</td>\n",
              "    </tr>\n",
              "    <tr>\n",
              "      <th>Zambia</th>\n",
              "      <th>Mansa</th>\n",
              "      <td>75.000000</td>\n",
              "      <td>25.000000</td>\n",
              "      <td>25.000000</td>\n",
              "      <td>75.000000</td>\n",
              "    </tr>\n",
              "    <tr>\n",
              "      <th rowspan=\"4\" valign=\"top\">Zimbabwe</th>\n",
              "      <th>Bindura</th>\n",
              "      <td>50.000000</td>\n",
              "      <td>75.000000</td>\n",
              "      <td>50.000000</td>\n",
              "      <td>25.000000</td>\n",
              "    </tr>\n",
              "    <tr>\n",
              "      <th>Bulawayo</th>\n",
              "      <td>67.857143</td>\n",
              "      <td>71.428571</td>\n",
              "      <td>32.142857</td>\n",
              "      <td>28.571429</td>\n",
              "    </tr>\n",
              "    <tr>\n",
              "      <th>Harare</th>\n",
              "      <td>38.461538</td>\n",
              "      <td>87.500000</td>\n",
              "      <td>61.538462</td>\n",
              "      <td>12.500000</td>\n",
              "    </tr>\n",
              "    <tr>\n",
              "      <th>Masvingo</th>\n",
              "      <td>25.000000</td>\n",
              "      <td>62.500000</td>\n",
              "      <td>75.000000</td>\n",
              "      <td>37.500000</td>\n",
              "    </tr>\n",
              "  </tbody>\n",
              "</table>\n",
              "<p>3895 rows × 4 columns</p>\n",
              "</div>"
            ],
            "text/plain": [
              "                             AIR                     WATER               \n",
              "                      AirQuality AirPollution WaterQuality WaterPollution\n",
              "Country     City                                                         \n",
              "Afghanistan Andkhoy    50.000000    50.000000    50.000000      50.000000\n",
              "            Farah     100.000000     0.000000     0.000000     100.000000\n",
              "            Herat      43.750000    31.250000    56.250000      68.750000\n",
              "            Kabul      18.421053    81.060606    81.578947      18.939394\n",
              "            Kandahar    0.000000    75.000000   100.000000      25.000000\n",
              "...                          ...          ...          ...            ...\n",
              "Zambia      Mansa      75.000000    25.000000    25.000000      75.000000\n",
              "Zimbabwe    Bindura    50.000000    75.000000    50.000000      25.000000\n",
              "            Bulawayo   67.857143    71.428571    32.142857      28.571429\n",
              "            Harare     38.461538    87.500000    61.538462      12.500000\n",
              "            Masvingo   25.000000    62.500000    75.000000      37.500000\n",
              "\n",
              "[3895 rows x 4 columns]"
            ]
          },
          "metadata": {},
          "execution_count": 25
        }
      ]
    },
    {
      "cell_type": "code",
      "metadata": {
        "colab": {
          "base_uri": "https://localhost:8080/",
          "height": 454
        },
        "id": "S_JW2hkSU6BZ",
        "outputId": "323d6a3c-27c6-40bf-b825-7666d233eb8f"
      },
      "source": [
        "df3['AIR']"
      ],
      "execution_count": null,
      "outputs": [
        {
          "output_type": "execute_result",
          "data": {
            "text/html": [
              "<div>\n",
              "<style scoped>\n",
              "    .dataframe tbody tr th:only-of-type {\n",
              "        vertical-align: middle;\n",
              "    }\n",
              "\n",
              "    .dataframe tbody tr th {\n",
              "        vertical-align: top;\n",
              "    }\n",
              "\n",
              "    .dataframe thead th {\n",
              "        text-align: right;\n",
              "    }\n",
              "</style>\n",
              "<table border=\"1\" class=\"dataframe\">\n",
              "  <thead>\n",
              "    <tr style=\"text-align: right;\">\n",
              "      <th></th>\n",
              "      <th></th>\n",
              "      <th>AirQuality</th>\n",
              "      <th>AirPollution</th>\n",
              "    </tr>\n",
              "    <tr>\n",
              "      <th>Country</th>\n",
              "      <th>City</th>\n",
              "      <th></th>\n",
              "      <th></th>\n",
              "    </tr>\n",
              "  </thead>\n",
              "  <tbody>\n",
              "    <tr>\n",
              "      <th rowspan=\"5\" valign=\"top\">Afghanistan</th>\n",
              "      <th>Andkhoy</th>\n",
              "      <td>50.000000</td>\n",
              "      <td>50.000000</td>\n",
              "    </tr>\n",
              "    <tr>\n",
              "      <th>Farah</th>\n",
              "      <td>100.000000</td>\n",
              "      <td>0.000000</td>\n",
              "    </tr>\n",
              "    <tr>\n",
              "      <th>Herat</th>\n",
              "      <td>43.750000</td>\n",
              "      <td>31.250000</td>\n",
              "    </tr>\n",
              "    <tr>\n",
              "      <th>Kabul</th>\n",
              "      <td>18.421053</td>\n",
              "      <td>81.060606</td>\n",
              "    </tr>\n",
              "    <tr>\n",
              "      <th>Kandahar</th>\n",
              "      <td>0.000000</td>\n",
              "      <td>75.000000</td>\n",
              "    </tr>\n",
              "    <tr>\n",
              "      <th>...</th>\n",
              "      <th>...</th>\n",
              "      <td>...</td>\n",
              "      <td>...</td>\n",
              "    </tr>\n",
              "    <tr>\n",
              "      <th>Zambia</th>\n",
              "      <th>Mansa</th>\n",
              "      <td>75.000000</td>\n",
              "      <td>25.000000</td>\n",
              "    </tr>\n",
              "    <tr>\n",
              "      <th rowspan=\"4\" valign=\"top\">Zimbabwe</th>\n",
              "      <th>Bindura</th>\n",
              "      <td>50.000000</td>\n",
              "      <td>75.000000</td>\n",
              "    </tr>\n",
              "    <tr>\n",
              "      <th>Bulawayo</th>\n",
              "      <td>67.857143</td>\n",
              "      <td>71.428571</td>\n",
              "    </tr>\n",
              "    <tr>\n",
              "      <th>Harare</th>\n",
              "      <td>38.461538</td>\n",
              "      <td>87.500000</td>\n",
              "    </tr>\n",
              "    <tr>\n",
              "      <th>Masvingo</th>\n",
              "      <td>25.000000</td>\n",
              "      <td>62.500000</td>\n",
              "    </tr>\n",
              "  </tbody>\n",
              "</table>\n",
              "<p>3895 rows × 2 columns</p>\n",
              "</div>"
            ],
            "text/plain": [
              "                      AirQuality  AirPollution\n",
              "Country     City                              \n",
              "Afghanistan Andkhoy    50.000000     50.000000\n",
              "            Farah     100.000000      0.000000\n",
              "            Herat      43.750000     31.250000\n",
              "            Kabul      18.421053     81.060606\n",
              "            Kandahar    0.000000     75.000000\n",
              "...                          ...           ...\n",
              "Zambia      Mansa      75.000000     25.000000\n",
              "Zimbabwe    Bindura    50.000000     75.000000\n",
              "            Bulawayo   67.857143     71.428571\n",
              "            Harare     38.461538     87.500000\n",
              "            Masvingo   25.000000     62.500000\n",
              "\n",
              "[3895 rows x 2 columns]"
            ]
          },
          "metadata": {},
          "execution_count": 26
        }
      ]
    },
    {
      "cell_type": "code",
      "metadata": {
        "colab": {
          "base_uri": "https://localhost:8080/",
          "height": 486
        },
        "id": "E3I9HMgxVm3J",
        "outputId": "7a543bcc-8b34-41d0-cca6-52e1fb133f6a"
      },
      "source": [
        "df3.columns.names = ['Object','Info']\n",
        "df3"
      ],
      "execution_count": null,
      "outputs": [
        {
          "output_type": "execute_result",
          "data": {
            "text/html": [
              "<div>\n",
              "<style scoped>\n",
              "    .dataframe tbody tr th:only-of-type {\n",
              "        vertical-align: middle;\n",
              "    }\n",
              "\n",
              "    .dataframe tbody tr th {\n",
              "        vertical-align: top;\n",
              "    }\n",
              "\n",
              "    .dataframe thead tr th {\n",
              "        text-align: left;\n",
              "    }\n",
              "\n",
              "    .dataframe thead tr:last-of-type th {\n",
              "        text-align: right;\n",
              "    }\n",
              "</style>\n",
              "<table border=\"1\" class=\"dataframe\">\n",
              "  <thead>\n",
              "    <tr>\n",
              "      <th></th>\n",
              "      <th>Object</th>\n",
              "      <th colspan=\"2\" halign=\"left\">AIR</th>\n",
              "      <th colspan=\"2\" halign=\"left\">WATER</th>\n",
              "    </tr>\n",
              "    <tr>\n",
              "      <th></th>\n",
              "      <th>Info</th>\n",
              "      <th>AirQuality</th>\n",
              "      <th>AirPollution</th>\n",
              "      <th>WaterQuality</th>\n",
              "      <th>WaterPollution</th>\n",
              "    </tr>\n",
              "    <tr>\n",
              "      <th>Country</th>\n",
              "      <th>City</th>\n",
              "      <th></th>\n",
              "      <th></th>\n",
              "      <th></th>\n",
              "      <th></th>\n",
              "    </tr>\n",
              "  </thead>\n",
              "  <tbody>\n",
              "    <tr>\n",
              "      <th rowspan=\"5\" valign=\"top\">Afghanistan</th>\n",
              "      <th>Andkhoy</th>\n",
              "      <td>50.000000</td>\n",
              "      <td>50.000000</td>\n",
              "      <td>50.000000</td>\n",
              "      <td>50.000000</td>\n",
              "    </tr>\n",
              "    <tr>\n",
              "      <th>Farah</th>\n",
              "      <td>100.000000</td>\n",
              "      <td>0.000000</td>\n",
              "      <td>0.000000</td>\n",
              "      <td>100.000000</td>\n",
              "    </tr>\n",
              "    <tr>\n",
              "      <th>Herat</th>\n",
              "      <td>43.750000</td>\n",
              "      <td>31.250000</td>\n",
              "      <td>56.250000</td>\n",
              "      <td>68.750000</td>\n",
              "    </tr>\n",
              "    <tr>\n",
              "      <th>Kabul</th>\n",
              "      <td>18.421053</td>\n",
              "      <td>81.060606</td>\n",
              "      <td>81.578947</td>\n",
              "      <td>18.939394</td>\n",
              "    </tr>\n",
              "    <tr>\n",
              "      <th>Kandahar</th>\n",
              "      <td>0.000000</td>\n",
              "      <td>75.000000</td>\n",
              "      <td>100.000000</td>\n",
              "      <td>25.000000</td>\n",
              "    </tr>\n",
              "    <tr>\n",
              "      <th>...</th>\n",
              "      <th>...</th>\n",
              "      <td>...</td>\n",
              "      <td>...</td>\n",
              "      <td>...</td>\n",
              "      <td>...</td>\n",
              "    </tr>\n",
              "    <tr>\n",
              "      <th>Zambia</th>\n",
              "      <th>Mansa</th>\n",
              "      <td>75.000000</td>\n",
              "      <td>25.000000</td>\n",
              "      <td>25.000000</td>\n",
              "      <td>75.000000</td>\n",
              "    </tr>\n",
              "    <tr>\n",
              "      <th rowspan=\"4\" valign=\"top\">Zimbabwe</th>\n",
              "      <th>Bindura</th>\n",
              "      <td>50.000000</td>\n",
              "      <td>75.000000</td>\n",
              "      <td>50.000000</td>\n",
              "      <td>25.000000</td>\n",
              "    </tr>\n",
              "    <tr>\n",
              "      <th>Bulawayo</th>\n",
              "      <td>67.857143</td>\n",
              "      <td>71.428571</td>\n",
              "      <td>32.142857</td>\n",
              "      <td>28.571429</td>\n",
              "    </tr>\n",
              "    <tr>\n",
              "      <th>Harare</th>\n",
              "      <td>38.461538</td>\n",
              "      <td>87.500000</td>\n",
              "      <td>61.538462</td>\n",
              "      <td>12.500000</td>\n",
              "    </tr>\n",
              "    <tr>\n",
              "      <th>Masvingo</th>\n",
              "      <td>25.000000</td>\n",
              "      <td>62.500000</td>\n",
              "      <td>75.000000</td>\n",
              "      <td>37.500000</td>\n",
              "    </tr>\n",
              "  </tbody>\n",
              "</table>\n",
              "<p>3895 rows × 4 columns</p>\n",
              "</div>"
            ],
            "text/plain": [
              "Object                       AIR                     WATER               \n",
              "Info                  AirQuality AirPollution WaterQuality WaterPollution\n",
              "Country     City                                                         \n",
              "Afghanistan Andkhoy    50.000000    50.000000    50.000000      50.000000\n",
              "            Farah     100.000000     0.000000     0.000000     100.000000\n",
              "            Herat      43.750000    31.250000    56.250000      68.750000\n",
              "            Kabul      18.421053    81.060606    81.578947      18.939394\n",
              "            Kandahar    0.000000    75.000000   100.000000      25.000000\n",
              "...                          ...          ...          ...            ...\n",
              "Zambia      Mansa      75.000000    25.000000    25.000000      75.000000\n",
              "Zimbabwe    Bindura    50.000000    75.000000    50.000000      25.000000\n",
              "            Bulawayo   67.857143    71.428571    32.142857      28.571429\n",
              "            Harare     38.461538    87.500000    61.538462      12.500000\n",
              "            Masvingo   25.000000    62.500000    75.000000      37.500000\n",
              "\n",
              "[3895 rows x 4 columns]"
            ]
          },
          "metadata": {},
          "execution_count": 27
        }
      ]
    },
    {
      "cell_type": "code",
      "metadata": {
        "id": "SB3r8Kz8WHi0"
      },
      "source": [
        ""
      ],
      "execution_count": null,
      "outputs": []
    },
    {
      "cell_type": "markdown",
      "metadata": {
        "id": "2iDc4hBWQDgs"
      },
      "source": [
        "SWAPLevel"
      ]
    },
    {
      "cell_type": "code",
      "metadata": {
        "id": "2C7jlt-bQGY9"
      },
      "source": [
        "# swaplevel - darajalarni o'zgartirish"
      ],
      "execution_count": null,
      "outputs": []
    },
    {
      "cell_type": "code",
      "metadata": {
        "colab": {
          "base_uri": "https://localhost:8080/",
          "height": 486
        },
        "id": "_pAJglHlQKMh",
        "outputId": "c1b52fe5-3f11-4778-f59a-80e7ff63dac1"
      },
      "source": [
        "df3.swaplevel('Country','City')"
      ],
      "execution_count": 31,
      "outputs": [
        {
          "output_type": "execute_result",
          "data": {
            "text/html": [
              "<div>\n",
              "<style scoped>\n",
              "    .dataframe tbody tr th:only-of-type {\n",
              "        vertical-align: middle;\n",
              "    }\n",
              "\n",
              "    .dataframe tbody tr th {\n",
              "        vertical-align: top;\n",
              "    }\n",
              "\n",
              "    .dataframe thead tr th {\n",
              "        text-align: left;\n",
              "    }\n",
              "\n",
              "    .dataframe thead tr:last-of-type th {\n",
              "        text-align: right;\n",
              "    }\n",
              "</style>\n",
              "<table border=\"1\" class=\"dataframe\">\n",
              "  <thead>\n",
              "    <tr>\n",
              "      <th></th>\n",
              "      <th>Object</th>\n",
              "      <th colspan=\"2\" halign=\"left\">AIR</th>\n",
              "      <th colspan=\"2\" halign=\"left\">WATER</th>\n",
              "    </tr>\n",
              "    <tr>\n",
              "      <th></th>\n",
              "      <th>Info</th>\n",
              "      <th>AirQuality</th>\n",
              "      <th>AirPollution</th>\n",
              "      <th>WaterQuality</th>\n",
              "      <th>WaterPollution</th>\n",
              "    </tr>\n",
              "    <tr>\n",
              "      <th>City</th>\n",
              "      <th>Country</th>\n",
              "      <th></th>\n",
              "      <th></th>\n",
              "      <th></th>\n",
              "      <th></th>\n",
              "    </tr>\n",
              "  </thead>\n",
              "  <tbody>\n",
              "    <tr>\n",
              "      <th>Andkhoy</th>\n",
              "      <th>Afghanistan</th>\n",
              "      <td>50.000000</td>\n",
              "      <td>50.000000</td>\n",
              "      <td>50.000000</td>\n",
              "      <td>50.000000</td>\n",
              "    </tr>\n",
              "    <tr>\n",
              "      <th>Farah</th>\n",
              "      <th>Afghanistan</th>\n",
              "      <td>100.000000</td>\n",
              "      <td>0.000000</td>\n",
              "      <td>0.000000</td>\n",
              "      <td>100.000000</td>\n",
              "    </tr>\n",
              "    <tr>\n",
              "      <th>Herat</th>\n",
              "      <th>Afghanistan</th>\n",
              "      <td>43.750000</td>\n",
              "      <td>31.250000</td>\n",
              "      <td>56.250000</td>\n",
              "      <td>68.750000</td>\n",
              "    </tr>\n",
              "    <tr>\n",
              "      <th>Kabul</th>\n",
              "      <th>Afghanistan</th>\n",
              "      <td>18.421053</td>\n",
              "      <td>81.060606</td>\n",
              "      <td>81.578947</td>\n",
              "      <td>18.939394</td>\n",
              "    </tr>\n",
              "    <tr>\n",
              "      <th>Kandahar</th>\n",
              "      <th>Afghanistan</th>\n",
              "      <td>0.000000</td>\n",
              "      <td>75.000000</td>\n",
              "      <td>100.000000</td>\n",
              "      <td>25.000000</td>\n",
              "    </tr>\n",
              "    <tr>\n",
              "      <th>...</th>\n",
              "      <th>...</th>\n",
              "      <td>...</td>\n",
              "      <td>...</td>\n",
              "      <td>...</td>\n",
              "      <td>...</td>\n",
              "    </tr>\n",
              "    <tr>\n",
              "      <th>Mansa</th>\n",
              "      <th>Zambia</th>\n",
              "      <td>75.000000</td>\n",
              "      <td>25.000000</td>\n",
              "      <td>25.000000</td>\n",
              "      <td>75.000000</td>\n",
              "    </tr>\n",
              "    <tr>\n",
              "      <th>Bindura</th>\n",
              "      <th>Zimbabwe</th>\n",
              "      <td>50.000000</td>\n",
              "      <td>75.000000</td>\n",
              "      <td>50.000000</td>\n",
              "      <td>25.000000</td>\n",
              "    </tr>\n",
              "    <tr>\n",
              "      <th>Bulawayo</th>\n",
              "      <th>Zimbabwe</th>\n",
              "      <td>67.857143</td>\n",
              "      <td>71.428571</td>\n",
              "      <td>32.142857</td>\n",
              "      <td>28.571429</td>\n",
              "    </tr>\n",
              "    <tr>\n",
              "      <th>Harare</th>\n",
              "      <th>Zimbabwe</th>\n",
              "      <td>38.461538</td>\n",
              "      <td>87.500000</td>\n",
              "      <td>61.538462</td>\n",
              "      <td>12.500000</td>\n",
              "    </tr>\n",
              "    <tr>\n",
              "      <th>Masvingo</th>\n",
              "      <th>Zimbabwe</th>\n",
              "      <td>25.000000</td>\n",
              "      <td>62.500000</td>\n",
              "      <td>75.000000</td>\n",
              "      <td>37.500000</td>\n",
              "    </tr>\n",
              "  </tbody>\n",
              "</table>\n",
              "<p>3895 rows × 4 columns</p>\n",
              "</div>"
            ],
            "text/plain": [
              "Object                       AIR                     WATER               \n",
              "Info                  AirQuality AirPollution WaterQuality WaterPollution\n",
              "City     Country                                                         \n",
              "Andkhoy  Afghanistan   50.000000    50.000000    50.000000      50.000000\n",
              "Farah    Afghanistan  100.000000     0.000000     0.000000     100.000000\n",
              "Herat    Afghanistan   43.750000    31.250000    56.250000      68.750000\n",
              "Kabul    Afghanistan   18.421053    81.060606    81.578947      18.939394\n",
              "Kandahar Afghanistan    0.000000    75.000000   100.000000      25.000000\n",
              "...                          ...          ...          ...            ...\n",
              "Mansa    Zambia        75.000000    25.000000    25.000000      75.000000\n",
              "Bindura  Zimbabwe      50.000000    75.000000    50.000000      25.000000\n",
              "Bulawayo Zimbabwe      67.857143    71.428571    32.142857      28.571429\n",
              "Harare   Zimbabwe      38.461538    87.500000    61.538462      12.500000\n",
              "Masvingo Zimbabwe      25.000000    62.500000    75.000000      37.500000\n",
              "\n",
              "[3895 rows x 4 columns]"
            ]
          },
          "metadata": {},
          "execution_count": 31
        }
      ]
    },
    {
      "cell_type": "code",
      "metadata": {
        "id": "eKjU3vvrQPuJ",
        "colab": {
          "base_uri": "https://localhost:8080/",
          "height": 486
        },
        "outputId": "0c9ba76d-cee4-4204-ab2b-ccd8a8c93da1"
      },
      "source": [
        "df3.sort_index(level=0,ascending=False)"
      ],
      "execution_count": 35,
      "outputs": [
        {
          "output_type": "execute_result",
          "data": {
            "text/html": [
              "<div>\n",
              "<style scoped>\n",
              "    .dataframe tbody tr th:only-of-type {\n",
              "        vertical-align: middle;\n",
              "    }\n",
              "\n",
              "    .dataframe tbody tr th {\n",
              "        vertical-align: top;\n",
              "    }\n",
              "\n",
              "    .dataframe thead tr th {\n",
              "        text-align: left;\n",
              "    }\n",
              "\n",
              "    .dataframe thead tr:last-of-type th {\n",
              "        text-align: right;\n",
              "    }\n",
              "</style>\n",
              "<table border=\"1\" class=\"dataframe\">\n",
              "  <thead>\n",
              "    <tr>\n",
              "      <th></th>\n",
              "      <th>Object</th>\n",
              "      <th colspan=\"2\" halign=\"left\">AIR</th>\n",
              "      <th colspan=\"2\" halign=\"left\">WATER</th>\n",
              "    </tr>\n",
              "    <tr>\n",
              "      <th></th>\n",
              "      <th>Info</th>\n",
              "      <th>AirQuality</th>\n",
              "      <th>AirPollution</th>\n",
              "      <th>WaterQuality</th>\n",
              "      <th>WaterPollution</th>\n",
              "    </tr>\n",
              "    <tr>\n",
              "      <th>Country</th>\n",
              "      <th>City</th>\n",
              "      <th></th>\n",
              "      <th></th>\n",
              "      <th></th>\n",
              "      <th></th>\n",
              "    </tr>\n",
              "  </thead>\n",
              "  <tbody>\n",
              "    <tr>\n",
              "      <th rowspan=\"4\" valign=\"top\">Zimbabwe</th>\n",
              "      <th>Masvingo</th>\n",
              "      <td>25.000000</td>\n",
              "      <td>62.500000</td>\n",
              "      <td>75.000000</td>\n",
              "      <td>37.500000</td>\n",
              "    </tr>\n",
              "    <tr>\n",
              "      <th>Harare</th>\n",
              "      <td>38.461538</td>\n",
              "      <td>87.500000</td>\n",
              "      <td>61.538462</td>\n",
              "      <td>12.500000</td>\n",
              "    </tr>\n",
              "    <tr>\n",
              "      <th>Bulawayo</th>\n",
              "      <td>67.857143</td>\n",
              "      <td>71.428571</td>\n",
              "      <td>32.142857</td>\n",
              "      <td>28.571429</td>\n",
              "    </tr>\n",
              "    <tr>\n",
              "      <th>Bindura</th>\n",
              "      <td>50.000000</td>\n",
              "      <td>75.000000</td>\n",
              "      <td>50.000000</td>\n",
              "      <td>25.000000</td>\n",
              "    </tr>\n",
              "    <tr>\n",
              "      <th>Zambia</th>\n",
              "      <th>Mansa</th>\n",
              "      <td>75.000000</td>\n",
              "      <td>25.000000</td>\n",
              "      <td>25.000000</td>\n",
              "      <td>75.000000</td>\n",
              "    </tr>\n",
              "    <tr>\n",
              "      <th>...</th>\n",
              "      <th>...</th>\n",
              "      <td>...</td>\n",
              "      <td>...</td>\n",
              "      <td>...</td>\n",
              "      <td>...</td>\n",
              "    </tr>\n",
              "    <tr>\n",
              "      <th rowspan=\"5\" valign=\"top\">Afghanistan</th>\n",
              "      <th>Kandahar</th>\n",
              "      <td>0.000000</td>\n",
              "      <td>75.000000</td>\n",
              "      <td>100.000000</td>\n",
              "      <td>25.000000</td>\n",
              "    </tr>\n",
              "    <tr>\n",
              "      <th>Kabul</th>\n",
              "      <td>18.421053</td>\n",
              "      <td>81.060606</td>\n",
              "      <td>81.578947</td>\n",
              "      <td>18.939394</td>\n",
              "    </tr>\n",
              "    <tr>\n",
              "      <th>Herat</th>\n",
              "      <td>43.750000</td>\n",
              "      <td>31.250000</td>\n",
              "      <td>56.250000</td>\n",
              "      <td>68.750000</td>\n",
              "    </tr>\n",
              "    <tr>\n",
              "      <th>Farah</th>\n",
              "      <td>100.000000</td>\n",
              "      <td>0.000000</td>\n",
              "      <td>0.000000</td>\n",
              "      <td>100.000000</td>\n",
              "    </tr>\n",
              "    <tr>\n",
              "      <th>Andkhoy</th>\n",
              "      <td>50.000000</td>\n",
              "      <td>50.000000</td>\n",
              "      <td>50.000000</td>\n",
              "      <td>50.000000</td>\n",
              "    </tr>\n",
              "  </tbody>\n",
              "</table>\n",
              "<p>3895 rows × 4 columns</p>\n",
              "</div>"
            ],
            "text/plain": [
              "Object                       AIR                     WATER               \n",
              "Info                  AirQuality AirPollution WaterQuality WaterPollution\n",
              "Country     City                                                         \n",
              "Zimbabwe    Masvingo   25.000000    62.500000    75.000000      37.500000\n",
              "            Harare     38.461538    87.500000    61.538462      12.500000\n",
              "            Bulawayo   67.857143    71.428571    32.142857      28.571429\n",
              "            Bindura    50.000000    75.000000    50.000000      25.000000\n",
              "Zambia      Mansa      75.000000    25.000000    25.000000      75.000000\n",
              "...                          ...          ...          ...            ...\n",
              "Afghanistan Kandahar    0.000000    75.000000   100.000000      25.000000\n",
              "            Kabul      18.421053    81.060606    81.578947      18.939394\n",
              "            Herat      43.750000    31.250000    56.250000      68.750000\n",
              "            Farah     100.000000     0.000000     0.000000     100.000000\n",
              "            Andkhoy    50.000000    50.000000    50.000000      50.000000\n",
              "\n",
              "[3895 rows x 4 columns]"
            ]
          },
          "metadata": {},
          "execution_count": 35
        }
      ]
    },
    {
      "cell_type": "code",
      "metadata": {
        "id": "_W8ZHNg8ojof"
      },
      "source": [
        ""
      ],
      "execution_count": null,
      "outputs": []
    }
  ]
}