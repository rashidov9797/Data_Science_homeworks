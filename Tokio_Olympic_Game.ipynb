{
  "nbformat": 4,
  "nbformat_minor": 0,
  "metadata": {
    "colab": {
      "name": "Tokio_Olympic_Medals.ipynb",
      "provenance": [],
      "collapsed_sections": []
    },
    "kernelspec": {
      "name": "python3",
      "display_name": "Python 3"
    },
    "language_info": {
      "name": "python"
    }
  },
  "cells": [
    {
      "cell_type": "code",
      "metadata": {
        "id": "t4gjmLvpuHqx"
      },
      "source": [
        "import numpy as np\n",
        "import pandas as pd"
      ],
      "execution_count": 1,
      "outputs": []
    },
    {
      "cell_type": "code",
      "metadata": {
        "colab": {
          "base_uri": "https://localhost:8080/"
        },
        "id": "-jBOOlut0_OS",
        "outputId": "178367ca-c33b-4030-cbef-7a1ca8d7db19"
      },
      "source": [
        "df=pd.read_excel(\"/content/Medals.xlsx\",index_col='Rank')\n",
        "# MEDALS\n",
        "df.columns"
      ],
      "execution_count": 14,
      "outputs": [
        {
          "output_type": "execute_result",
          "data": {
            "text/plain": [
              "Index(['Team/NOC', 'Gold', 'Silver', 'Bronze', 'Total', 'Rank by Total'], dtype='object')"
            ]
          },
          "metadata": {},
          "execution_count": 14
        }
      ]
    },
    {
      "cell_type": "code",
      "metadata": {
        "id": "UdgdFdr748Ed"
      },
      "source": [
        "df.drop(df.columns[5],axis=1 ,inplace=True)"
      ],
      "execution_count": 15,
      "outputs": []
    },
    {
      "cell_type": "code",
      "metadata": {
        "colab": {
          "base_uri": "https://localhost:8080/",
          "height": 455
        },
        "id": "Ot8pYZI7-nYP",
        "outputId": "c46f8d56-0bde-447c-ef85-65015f98e5e5"
      },
      "source": [
        "df.columns = ['Davlat','Oltin','Kumush','Bronza','Umumiy']\n",
        "df.sort_values(by='Davlat')\n",
        "\n",
        "# Janubiy Koreya va Uzbekistan davlatlarining Olimpiya o'yinlaridagi data analizlari "
      ],
      "execution_count": 16,
      "outputs": [
        {
          "output_type": "execute_result",
          "data": {
            "text/html": [
              "<div>\n",
              "<style scoped>\n",
              "    .dataframe tbody tr th:only-of-type {\n",
              "        vertical-align: middle;\n",
              "    }\n",
              "\n",
              "    .dataframe tbody tr th {\n",
              "        vertical-align: top;\n",
              "    }\n",
              "\n",
              "    .dataframe thead th {\n",
              "        text-align: right;\n",
              "    }\n",
              "</style>\n",
              "<table border=\"1\" class=\"dataframe\">\n",
              "  <thead>\n",
              "    <tr style=\"text-align: right;\">\n",
              "      <th></th>\n",
              "      <th>Davlat</th>\n",
              "      <th>Oltin</th>\n",
              "      <th>Kumush</th>\n",
              "      <th>Bronza</th>\n",
              "      <th>Umumiy</th>\n",
              "    </tr>\n",
              "    <tr>\n",
              "      <th>Rank</th>\n",
              "      <th></th>\n",
              "      <th></th>\n",
              "      <th></th>\n",
              "      <th></th>\n",
              "      <th></th>\n",
              "    </tr>\n",
              "  </thead>\n",
              "  <tbody>\n",
              "    <tr>\n",
              "      <th>72</th>\n",
              "      <td>Argentina</td>\n",
              "      <td>0</td>\n",
              "      <td>1</td>\n",
              "      <td>2</td>\n",
              "      <td>3</td>\n",
              "    </tr>\n",
              "    <tr>\n",
              "      <th>69</th>\n",
              "      <td>Armenia</td>\n",
              "      <td>0</td>\n",
              "      <td>2</td>\n",
              "      <td>2</td>\n",
              "      <td>4</td>\n",
              "    </tr>\n",
              "    <tr>\n",
              "      <th>6</th>\n",
              "      <td>Australia</td>\n",
              "      <td>17</td>\n",
              "      <td>7</td>\n",
              "      <td>22</td>\n",
              "      <td>46</td>\n",
              "    </tr>\n",
              "    <tr>\n",
              "      <th>53</th>\n",
              "      <td>Austria</td>\n",
              "      <td>1</td>\n",
              "      <td>1</td>\n",
              "      <td>5</td>\n",
              "      <td>7</td>\n",
              "    </tr>\n",
              "    <tr>\n",
              "      <th>67</th>\n",
              "      <td>Azerbaijan</td>\n",
              "      <td>0</td>\n",
              "      <td>3</td>\n",
              "      <td>4</td>\n",
              "      <td>7</td>\n",
              "    </tr>\n",
              "    <tr>\n",
              "      <th>...</th>\n",
              "      <td>...</td>\n",
              "      <td>...</td>\n",
              "      <td>...</td>\n",
              "      <td>...</td>\n",
              "      <td>...</td>\n",
              "    </tr>\n",
              "    <tr>\n",
              "      <th>36</th>\n",
              "      <td>Uganda</td>\n",
              "      <td>2</td>\n",
              "      <td>1</td>\n",
              "      <td>1</td>\n",
              "      <td>4</td>\n",
              "    </tr>\n",
              "    <tr>\n",
              "      <th>44</th>\n",
              "      <td>Ukraine</td>\n",
              "      <td>1</td>\n",
              "      <td>6</td>\n",
              "      <td>12</td>\n",
              "      <td>19</td>\n",
              "    </tr>\n",
              "    <tr>\n",
              "      <th>1</th>\n",
              "      <td>United States of America</td>\n",
              "      <td>39</td>\n",
              "      <td>41</td>\n",
              "      <td>33</td>\n",
              "      <td>113</td>\n",
              "    </tr>\n",
              "    <tr>\n",
              "      <th>32</th>\n",
              "      <td>Uzbekistan</td>\n",
              "      <td>3</td>\n",
              "      <td>0</td>\n",
              "      <td>2</td>\n",
              "      <td>5</td>\n",
              "    </tr>\n",
              "    <tr>\n",
              "      <th>46</th>\n",
              "      <td>Venezuela</td>\n",
              "      <td>1</td>\n",
              "      <td>3</td>\n",
              "      <td>0</td>\n",
              "      <td>4</td>\n",
              "    </tr>\n",
              "  </tbody>\n",
              "</table>\n",
              "<p>93 rows × 5 columns</p>\n",
              "</div>"
            ],
            "text/plain": [
              "                        Davlat  Oltin  Kumush  Bronza  Umumiy\n",
              "Rank                                                         \n",
              "72                   Argentina      0       1       2       3\n",
              "69                     Armenia      0       2       2       4\n",
              "6                    Australia     17       7      22      46\n",
              "53                     Austria      1       1       5       7\n",
              "67                  Azerbaijan      0       3       4       7\n",
              "...                        ...    ...     ...     ...     ...\n",
              "36                      Uganda      2       1       1       4\n",
              "44                     Ukraine      1       6      12      19\n",
              "1     United States of America     39      41      33     113\n",
              "32                  Uzbekistan      3       0       2       5\n",
              "46                   Venezuela      1       3       0       4\n",
              "\n",
              "[93 rows x 5 columns]"
            ]
          },
          "metadata": {},
          "execution_count": 16
        }
      ]
    },
    {
      "cell_type": "code",
      "metadata": {
        "colab": {
          "base_uri": "https://localhost:8080/",
          "height": 112
        },
        "id": "avABK4Sw_gNh",
        "outputId": "2dcc9869-509c-45b8-97d3-5a41df07959e"
      },
      "source": [
        "df_kor= df[df.Davlat=='Republic of Korea']\n",
        "df_kor"
      ],
      "execution_count": 35,
      "outputs": [
        {
          "output_type": "execute_result",
          "data": {
            "text/html": [
              "<div>\n",
              "<style scoped>\n",
              "    .dataframe tbody tr th:only-of-type {\n",
              "        vertical-align: middle;\n",
              "    }\n",
              "\n",
              "    .dataframe tbody tr th {\n",
              "        vertical-align: top;\n",
              "    }\n",
              "\n",
              "    .dataframe thead th {\n",
              "        text-align: right;\n",
              "    }\n",
              "</style>\n",
              "<table border=\"1\" class=\"dataframe\">\n",
              "  <thead>\n",
              "    <tr style=\"text-align: right;\">\n",
              "      <th></th>\n",
              "      <th>Davlat</th>\n",
              "      <th>Oltin</th>\n",
              "      <th>Kumush</th>\n",
              "      <th>Bronza</th>\n",
              "      <th>Umumiy</th>\n",
              "    </tr>\n",
              "    <tr>\n",
              "      <th>Rank</th>\n",
              "      <th></th>\n",
              "      <th></th>\n",
              "      <th></th>\n",
              "      <th></th>\n",
              "      <th></th>\n",
              "    </tr>\n",
              "  </thead>\n",
              "  <tbody>\n",
              "    <tr>\n",
              "      <th>16</th>\n",
              "      <td>Republic of Korea</td>\n",
              "      <td>6</td>\n",
              "      <td>4</td>\n",
              "      <td>10</td>\n",
              "      <td>20</td>\n",
              "    </tr>\n",
              "  </tbody>\n",
              "</table>\n",
              "</div>"
            ],
            "text/plain": [
              "                 Davlat  Oltin  Kumush  Bronza  Umumiy\n",
              "Rank                                                  \n",
              "16    Republic of Korea      6       4      10      20"
            ]
          },
          "metadata": {},
          "execution_count": 35
        }
      ]
    },
    {
      "cell_type": "code",
      "metadata": {
        "colab": {
          "base_uri": "https://localhost:8080/",
          "height": 112
        },
        "id": "P6BObtKkDGEr",
        "outputId": "4ad300dd-b76e-4bb3-c771-cbda0e65325e"
      },
      "source": [
        "df_uz = df[df['Davlat']=='Uzbekistan']\n",
        "df_uz"
      ],
      "execution_count": 38,
      "outputs": [
        {
          "output_type": "execute_result",
          "data": {
            "text/html": [
              "<div>\n",
              "<style scoped>\n",
              "    .dataframe tbody tr th:only-of-type {\n",
              "        vertical-align: middle;\n",
              "    }\n",
              "\n",
              "    .dataframe tbody tr th {\n",
              "        vertical-align: top;\n",
              "    }\n",
              "\n",
              "    .dataframe thead th {\n",
              "        text-align: right;\n",
              "    }\n",
              "</style>\n",
              "<table border=\"1\" class=\"dataframe\">\n",
              "  <thead>\n",
              "    <tr style=\"text-align: right;\">\n",
              "      <th></th>\n",
              "      <th>Davlat</th>\n",
              "      <th>Oltin</th>\n",
              "      <th>Kumush</th>\n",
              "      <th>Bronza</th>\n",
              "      <th>Umumiy</th>\n",
              "    </tr>\n",
              "    <tr>\n",
              "      <th>Rank</th>\n",
              "      <th></th>\n",
              "      <th></th>\n",
              "      <th></th>\n",
              "      <th></th>\n",
              "      <th></th>\n",
              "    </tr>\n",
              "  </thead>\n",
              "  <tbody>\n",
              "    <tr>\n",
              "      <th>32</th>\n",
              "      <td>Uzbekistan</td>\n",
              "      <td>3</td>\n",
              "      <td>0</td>\n",
              "      <td>2</td>\n",
              "      <td>5</td>\n",
              "    </tr>\n",
              "  </tbody>\n",
              "</table>\n",
              "</div>"
            ],
            "text/plain": [
              "          Davlat  Oltin  Kumush  Bronza  Umumiy\n",
              "Rank                                           \n",
              "32    Uzbekistan      3       0       2       5"
            ]
          },
          "metadata": {},
          "execution_count": 38
        }
      ]
    },
    {
      "cell_type": "code",
      "metadata": {
        "id": "ZQgLSLdYDeD1"
      },
      "source": [
        "df.describe()"
      ],
      "execution_count": null,
      "outputs": []
    },
    {
      "cell_type": "code",
      "metadata": {
        "colab": {
          "base_uri": "https://localhost:8080/"
        },
        "id": "fzkOHXo_DlA4",
        "outputId": "6d27e125-f9b7-48d4-f1c0-6a7bf0e6666e"
      },
      "source": [
        "df['Kumush'].corr(df['Bronza'])"
      ],
      "execution_count": null,
      "outputs": [
        {
          "output_type": "execute_result",
          "data": {
            "text/plain": [
              "0.862646332050399"
            ]
          },
          "metadata": {},
          "execution_count": 112
        }
      ]
    },
    {
      "cell_type": "code",
      "metadata": {
        "colab": {
          "base_uri": "https://localhost:8080/",
          "height": 112
        },
        "id": "FcsCQAJJEBPY",
        "outputId": "b3bf3f8d-703b-43f8-cce9-689d0edd9267"
      },
      "source": [
        "df_kor = df[df['Davlat']=='Republic of Korea']\n",
        "df_kor"
      ],
      "execution_count": null,
      "outputs": [
        {
          "output_type": "execute_result",
          "data": {
            "text/html": [
              "<div>\n",
              "<style scoped>\n",
              "    .dataframe tbody tr th:only-of-type {\n",
              "        vertical-align: middle;\n",
              "    }\n",
              "\n",
              "    .dataframe tbody tr th {\n",
              "        vertical-align: top;\n",
              "    }\n",
              "\n",
              "    .dataframe thead th {\n",
              "        text-align: right;\n",
              "    }\n",
              "</style>\n",
              "<table border=\"1\" class=\"dataframe\">\n",
              "  <thead>\n",
              "    <tr style=\"text-align: right;\">\n",
              "      <th></th>\n",
              "      <th>Davlat</th>\n",
              "      <th>Oltin</th>\n",
              "      <th>Kumush</th>\n",
              "      <th>Bronza</th>\n",
              "      <th>Umumiy</th>\n",
              "    </tr>\n",
              "    <tr>\n",
              "      <th>Rank</th>\n",
              "      <th></th>\n",
              "      <th></th>\n",
              "      <th></th>\n",
              "      <th></th>\n",
              "      <th></th>\n",
              "    </tr>\n",
              "  </thead>\n",
              "  <tbody>\n",
              "    <tr>\n",
              "      <th>16</th>\n",
              "      <td>Republic of Korea</td>\n",
              "      <td>6</td>\n",
              "      <td>4</td>\n",
              "      <td>10</td>\n",
              "      <td>20</td>\n",
              "    </tr>\n",
              "  </tbody>\n",
              "</table>\n",
              "</div>"
            ],
            "text/plain": [
              "                 Davlat  Oltin  Kumush  Bronza  Umumiy\n",
              "Rank                                                  \n",
              "16    Republic of Korea      6       4      10      20"
            ]
          },
          "metadata": {},
          "execution_count": 136
        }
      ]
    },
    {
      "cell_type": "code",
      "metadata": {
        "id": "QcvWAslrGinw"
      },
      "source": [
        "# Atthletes\n",
        "\n",
        "at_df = pd.read_excel(\"/content/Athletes.xlsx\")"
      ],
      "execution_count": 3,
      "outputs": []
    },
    {
      "cell_type": "code",
      "metadata": {
        "id": "Aji1UtHcHPBy"
      },
      "source": [
        "at_df.columns = ['ism','davlat','sport']"
      ],
      "execution_count": 6,
      "outputs": []
    },
    {
      "cell_type": "code",
      "metadata": {
        "id": "KaNhxtwOHky4"
      },
      "source": [
        "at_df.index.name = 'rank'"
      ],
      "execution_count": 7,
      "outputs": []
    },
    {
      "cell_type": "code",
      "metadata": {
        "id": "cOXSC6JTIUQN"
      },
      "source": [
        "at_df.sport.value_counts()"
      ],
      "execution_count": null,
      "outputs": []
    },
    {
      "cell_type": "code",
      "metadata": {
        "colab": {
          "base_uri": "https://localhost:8080/",
          "height": 708
        },
        "id": "BgB4J16bIrW2",
        "outputId": "4ed07396-65b0-451f-b2c4-e613496b5b50"
      },
      "source": [
        "kor_sonsu = at_df[at_df.davlat == 'Republic of Korea']\n",
        "kor_foot = kor_sonsu[kor_sonsu.sport == 'Football']\n",
        "kor_foot"
      ],
      "execution_count": 57,
      "outputs": [
        {
          "output_type": "execute_result",
          "data": {
            "text/html": [
              "<div>\n",
              "<style scoped>\n",
              "    .dataframe tbody tr th:only-of-type {\n",
              "        vertical-align: middle;\n",
              "    }\n",
              "\n",
              "    .dataframe tbody tr th {\n",
              "        vertical-align: top;\n",
              "    }\n",
              "\n",
              "    .dataframe thead th {\n",
              "        text-align: right;\n",
              "    }\n",
              "</style>\n",
              "<table border=\"1\" class=\"dataframe\">\n",
              "  <thead>\n",
              "    <tr style=\"text-align: right;\">\n",
              "      <th></th>\n",
              "      <th>ism</th>\n",
              "      <th>davlat</th>\n",
              "      <th>sport</th>\n",
              "    </tr>\n",
              "    <tr>\n",
              "      <th>rank</th>\n",
              "      <th></th>\n",
              "      <th></th>\n",
              "      <th></th>\n",
              "    </tr>\n",
              "  </thead>\n",
              "  <tbody>\n",
              "    <tr>\n",
              "      <th>4160</th>\n",
              "      <td>HWANG Uijo</td>\n",
              "      <td>Republic of Korea</td>\n",
              "      <td>Football</td>\n",
              "    </tr>\n",
              "    <tr>\n",
              "      <th>4406</th>\n",
              "      <td>JEONG Seungwon</td>\n",
              "      <td>Republic of Korea</td>\n",
              "      <td>Football</td>\n",
              "    </tr>\n",
              "    <tr>\n",
              "      <th>4407</th>\n",
              "      <td>JEONG Taewook</td>\n",
              "      <td>Republic of Korea</td>\n",
              "      <td>Football</td>\n",
              "    </tr>\n",
              "    <tr>\n",
              "      <th>4594</th>\n",
              "      <td>KANG Yoonseong</td>\n",
              "      <td>Republic of Korea</td>\n",
              "      <td>Football</td>\n",
              "    </tr>\n",
              "    <tr>\n",
              "      <th>4823</th>\n",
              "      <td>KIM Donghyun</td>\n",
              "      <td>Republic of Korea</td>\n",
              "      <td>Football</td>\n",
              "    </tr>\n",
              "    <tr>\n",
              "      <th>4833</th>\n",
              "      <td>KIM Jaewoo</td>\n",
              "      <td>Republic of Korea</td>\n",
              "      <td>Football</td>\n",
              "    </tr>\n",
              "    <tr>\n",
              "      <th>4834</th>\n",
              "      <td>KIM Jingyu</td>\n",
              "      <td>Republic of Korea</td>\n",
              "      <td>Football</td>\n",
              "    </tr>\n",
              "    <tr>\n",
              "      <th>4836</th>\n",
              "      <td>KIM Jinya</td>\n",
              "      <td>Republic of Korea</td>\n",
              "      <td>Football</td>\n",
              "    </tr>\n",
              "    <tr>\n",
              "      <th>5246</th>\n",
              "      <td>KWON Changhoon</td>\n",
              "      <td>Republic of Korea</td>\n",
              "      <td>Football</td>\n",
              "    </tr>\n",
              "    <tr>\n",
              "      <th>5402</th>\n",
              "      <td>LEE Donggyeong</td>\n",
              "      <td>Republic of Korea</td>\n",
              "      <td>Football</td>\n",
              "    </tr>\n",
              "    <tr>\n",
              "      <th>5403</th>\n",
              "      <td>LEE Dongjun</td>\n",
              "      <td>Republic of Korea</td>\n",
              "      <td>Football</td>\n",
              "    </tr>\n",
              "    <tr>\n",
              "      <th>5416</th>\n",
              "      <td>LEE Kangin</td>\n",
              "      <td>Republic of Korea</td>\n",
              "      <td>Football</td>\n",
              "    </tr>\n",
              "    <tr>\n",
              "      <th>5426</th>\n",
              "      <td>LEE Sangmin</td>\n",
              "      <td>Republic of Korea</td>\n",
              "      <td>Football</td>\n",
              "    </tr>\n",
              "    <tr>\n",
              "      <th>5435</th>\n",
              "      <td>LEE Youhyeon</td>\n",
              "      <td>Republic of Korea</td>\n",
              "      <td>Football</td>\n",
              "    </tr>\n",
              "    <tr>\n",
              "      <th>7448</th>\n",
              "      <td>PARK Jisu</td>\n",
              "      <td>Republic of Korea</td>\n",
              "      <td>Football</td>\n",
              "    </tr>\n",
              "    <tr>\n",
              "      <th>8838</th>\n",
              "      <td>SEOL Youngwoo</td>\n",
              "      <td>Republic of Korea</td>\n",
              "      <td>Football</td>\n",
              "    </tr>\n",
              "    <tr>\n",
              "      <th>9184</th>\n",
              "      <td>SONG Bumkeun</td>\n",
              "      <td>Republic of Korea</td>\n",
              "      <td>Football</td>\n",
              "    </tr>\n",
              "    <tr>\n",
              "      <th>9188</th>\n",
              "      <td>SONG Minkyu</td>\n",
              "      <td>Republic of Korea</td>\n",
              "      <td>Football</td>\n",
              "    </tr>\n",
              "    <tr>\n",
              "      <th>9968</th>\n",
              "      <td>UM Wonsang</td>\n",
              "      <td>Republic of Korea</td>\n",
              "      <td>Football</td>\n",
              "    </tr>\n",
              "    <tr>\n",
              "      <th>10649</th>\n",
              "      <td>WON Dujae</td>\n",
              "      <td>Republic of Korea</td>\n",
              "      <td>Football</td>\n",
              "    </tr>\n",
              "  </tbody>\n",
              "</table>\n",
              "</div>"
            ],
            "text/plain": [
              "                  ism             davlat     sport\n",
              "rank                                              \n",
              "4160       HWANG Uijo  Republic of Korea  Football\n",
              "4406   JEONG Seungwon  Republic of Korea  Football\n",
              "4407    JEONG Taewook  Republic of Korea  Football\n",
              "4594   KANG Yoonseong  Republic of Korea  Football\n",
              "4823     KIM Donghyun  Republic of Korea  Football\n",
              "4833       KIM Jaewoo  Republic of Korea  Football\n",
              "4834       KIM Jingyu  Republic of Korea  Football\n",
              "4836        KIM Jinya  Republic of Korea  Football\n",
              "5246   KWON Changhoon  Republic of Korea  Football\n",
              "5402   LEE Donggyeong  Republic of Korea  Football\n",
              "5403      LEE Dongjun  Republic of Korea  Football\n",
              "5416       LEE Kangin  Republic of Korea  Football\n",
              "5426      LEE Sangmin  Republic of Korea  Football\n",
              "5435     LEE Youhyeon  Republic of Korea  Football\n",
              "7448        PARK Jisu  Republic of Korea  Football\n",
              "8838    SEOL Youngwoo  Republic of Korea  Football\n",
              "9184     SONG Bumkeun  Republic of Korea  Football\n",
              "9188      SONG Minkyu  Republic of Korea  Football\n",
              "9968       UM Wonsang  Republic of Korea  Football\n",
              "10649       WON Dujae  Republic of Korea  Football"
            ]
          },
          "metadata": {},
          "execution_count": 57
        }
      ]
    },
    {
      "cell_type": "code",
      "metadata": {
        "colab": {
          "base_uri": "https://localhost:8080/"
        },
        "id": "Bl8LuwJBI2Qt",
        "outputId": "b209cf3b-0945-403a-f62d-82afdf934bdb"
      },
      "source": [
        "uzb = at_df[at_df.davlat == 'Uzbekistan']\n",
        "uzb[uzb.sport=='Boxing'].value_counts()"
      ],
      "execution_count": null,
      "outputs": [
        {
          "output_type": "execute_result",
          "data": {
            "text/plain": [
              "ism                       davlat      sport \n",
              "ZOIROV Shakhobidin        Uzbekistan  Boxing    1\n",
              "YUNUSOVA Shakhnoza        Uzbekistan  Boxing    1\n",
              "TURSUNOV Sanjar           Uzbekistan  Boxing    1\n",
              "RUZMETOV Dilshod          Uzbekistan  Boxing    1\n",
              "RAKHIMOVA Tursunoy        Uzbekistan  Boxing    1\n",
              "MIRZAKHALILOV Mirazizbek  Uzbekistan  Boxing    1\n",
              "KODIROVA Raykhona         Uzbekistan  Boxing    1\n",
              "KAKHRAMONOV Fanat         Uzbekistan  Boxing    1\n",
              "JALOLOV Bakhodir          Uzbekistan  Boxing    1\n",
              "BATUROV Bobo-Usmon        Uzbekistan  Boxing    1\n",
              "ABDURAIMOV Elnur          Uzbekistan  Boxing    1\n",
              "dtype: int64"
            ]
          },
          "metadata": {},
          "execution_count": 188
        }
      ]
    },
    {
      "cell_type": "code",
      "metadata": {
        "id": "czHPohJWJtLj"
      },
      "source": [
        "\n",
        "\n",
        "# GENDER"
      ],
      "execution_count": null,
      "outputs": []
    },
    {
      "cell_type": "code",
      "metadata": {
        "id": "Z8Zs-RIhKOC3"
      },
      "source": [
        "df_gender = pd.read_excel(\"/content/EntriesGender.xlsx\")"
      ],
      "execution_count": 58,
      "outputs": []
    },
    {
      "cell_type": "code",
      "metadata": {
        "colab": {
          "base_uri": "https://localhost:8080/",
          "height": 1000
        },
        "id": "IOarGqWT6Bqm",
        "outputId": "d9fb7c5e-b9c4-4e65-c7ca-e76ec8ccc521"
      },
      "source": [
        "df_gender"
      ],
      "execution_count": 59,
      "outputs": [
        {
          "output_type": "execute_result",
          "data": {
            "text/html": [
              "<div>\n",
              "<style scoped>\n",
              "    .dataframe tbody tr th:only-of-type {\n",
              "        vertical-align: middle;\n",
              "    }\n",
              "\n",
              "    .dataframe tbody tr th {\n",
              "        vertical-align: top;\n",
              "    }\n",
              "\n",
              "    .dataframe thead th {\n",
              "        text-align: right;\n",
              "    }\n",
              "</style>\n",
              "<table border=\"1\" class=\"dataframe\">\n",
              "  <thead>\n",
              "    <tr style=\"text-align: right;\">\n",
              "      <th></th>\n",
              "      <th>Discipline</th>\n",
              "      <th>Female</th>\n",
              "      <th>Male</th>\n",
              "      <th>Total</th>\n",
              "    </tr>\n",
              "  </thead>\n",
              "  <tbody>\n",
              "    <tr>\n",
              "      <th>0</th>\n",
              "      <td>3x3 Basketball</td>\n",
              "      <td>32</td>\n",
              "      <td>32</td>\n",
              "      <td>64</td>\n",
              "    </tr>\n",
              "    <tr>\n",
              "      <th>1</th>\n",
              "      <td>Archery</td>\n",
              "      <td>64</td>\n",
              "      <td>64</td>\n",
              "      <td>128</td>\n",
              "    </tr>\n",
              "    <tr>\n",
              "      <th>2</th>\n",
              "      <td>Artistic Gymnastics</td>\n",
              "      <td>98</td>\n",
              "      <td>98</td>\n",
              "      <td>196</td>\n",
              "    </tr>\n",
              "    <tr>\n",
              "      <th>3</th>\n",
              "      <td>Artistic Swimming</td>\n",
              "      <td>105</td>\n",
              "      <td>0</td>\n",
              "      <td>105</td>\n",
              "    </tr>\n",
              "    <tr>\n",
              "      <th>4</th>\n",
              "      <td>Athletics</td>\n",
              "      <td>969</td>\n",
              "      <td>1072</td>\n",
              "      <td>2041</td>\n",
              "    </tr>\n",
              "    <tr>\n",
              "      <th>5</th>\n",
              "      <td>Badminton</td>\n",
              "      <td>86</td>\n",
              "      <td>87</td>\n",
              "      <td>173</td>\n",
              "    </tr>\n",
              "    <tr>\n",
              "      <th>6</th>\n",
              "      <td>Baseball/Softball</td>\n",
              "      <td>90</td>\n",
              "      <td>144</td>\n",
              "      <td>234</td>\n",
              "    </tr>\n",
              "    <tr>\n",
              "      <th>7</th>\n",
              "      <td>Basketball</td>\n",
              "      <td>144</td>\n",
              "      <td>144</td>\n",
              "      <td>288</td>\n",
              "    </tr>\n",
              "    <tr>\n",
              "      <th>8</th>\n",
              "      <td>Beach Volleyball</td>\n",
              "      <td>48</td>\n",
              "      <td>48</td>\n",
              "      <td>96</td>\n",
              "    </tr>\n",
              "    <tr>\n",
              "      <th>9</th>\n",
              "      <td>Boxing</td>\n",
              "      <td>102</td>\n",
              "      <td>187</td>\n",
              "      <td>289</td>\n",
              "    </tr>\n",
              "    <tr>\n",
              "      <th>10</th>\n",
              "      <td>Canoe Slalom</td>\n",
              "      <td>41</td>\n",
              "      <td>41</td>\n",
              "      <td>82</td>\n",
              "    </tr>\n",
              "    <tr>\n",
              "      <th>11</th>\n",
              "      <td>Canoe Sprint</td>\n",
              "      <td>123</td>\n",
              "      <td>126</td>\n",
              "      <td>249</td>\n",
              "    </tr>\n",
              "    <tr>\n",
              "      <th>12</th>\n",
              "      <td>Cycling BMX Freestyle</td>\n",
              "      <td>10</td>\n",
              "      <td>9</td>\n",
              "      <td>19</td>\n",
              "    </tr>\n",
              "    <tr>\n",
              "      <th>13</th>\n",
              "      <td>Cycling BMX Racing</td>\n",
              "      <td>24</td>\n",
              "      <td>24</td>\n",
              "      <td>48</td>\n",
              "    </tr>\n",
              "    <tr>\n",
              "      <th>14</th>\n",
              "      <td>Cycling Mountain Bike</td>\n",
              "      <td>38</td>\n",
              "      <td>38</td>\n",
              "      <td>76</td>\n",
              "    </tr>\n",
              "    <tr>\n",
              "      <th>15</th>\n",
              "      <td>Cycling Road</td>\n",
              "      <td>70</td>\n",
              "      <td>131</td>\n",
              "      <td>201</td>\n",
              "    </tr>\n",
              "    <tr>\n",
              "      <th>16</th>\n",
              "      <td>Cycling Track</td>\n",
              "      <td>90</td>\n",
              "      <td>99</td>\n",
              "      <td>189</td>\n",
              "    </tr>\n",
              "    <tr>\n",
              "      <th>17</th>\n",
              "      <td>Diving</td>\n",
              "      <td>72</td>\n",
              "      <td>71</td>\n",
              "      <td>143</td>\n",
              "    </tr>\n",
              "    <tr>\n",
              "      <th>18</th>\n",
              "      <td>Equestrian</td>\n",
              "      <td>73</td>\n",
              "      <td>125</td>\n",
              "      <td>198</td>\n",
              "    </tr>\n",
              "    <tr>\n",
              "      <th>19</th>\n",
              "      <td>Fencing</td>\n",
              "      <td>107</td>\n",
              "      <td>108</td>\n",
              "      <td>215</td>\n",
              "    </tr>\n",
              "    <tr>\n",
              "      <th>20</th>\n",
              "      <td>Football</td>\n",
              "      <td>264</td>\n",
              "      <td>344</td>\n",
              "      <td>608</td>\n",
              "    </tr>\n",
              "    <tr>\n",
              "      <th>21</th>\n",
              "      <td>Golf</td>\n",
              "      <td>60</td>\n",
              "      <td>60</td>\n",
              "      <td>120</td>\n",
              "    </tr>\n",
              "    <tr>\n",
              "      <th>22</th>\n",
              "      <td>Handball</td>\n",
              "      <td>168</td>\n",
              "      <td>168</td>\n",
              "      <td>336</td>\n",
              "    </tr>\n",
              "    <tr>\n",
              "      <th>23</th>\n",
              "      <td>Hockey</td>\n",
              "      <td>192</td>\n",
              "      <td>192</td>\n",
              "      <td>384</td>\n",
              "    </tr>\n",
              "    <tr>\n",
              "      <th>24</th>\n",
              "      <td>Judo</td>\n",
              "      <td>192</td>\n",
              "      <td>201</td>\n",
              "      <td>393</td>\n",
              "    </tr>\n",
              "    <tr>\n",
              "      <th>25</th>\n",
              "      <td>Karate</td>\n",
              "      <td>40</td>\n",
              "      <td>42</td>\n",
              "      <td>82</td>\n",
              "    </tr>\n",
              "    <tr>\n",
              "      <th>26</th>\n",
              "      <td>Marathon Swimming</td>\n",
              "      <td>25</td>\n",
              "      <td>25</td>\n",
              "      <td>50</td>\n",
              "    </tr>\n",
              "    <tr>\n",
              "      <th>27</th>\n",
              "      <td>Modern Pentathlon</td>\n",
              "      <td>36</td>\n",
              "      <td>36</td>\n",
              "      <td>72</td>\n",
              "    </tr>\n",
              "    <tr>\n",
              "      <th>28</th>\n",
              "      <td>Rhythmic Gymnastics</td>\n",
              "      <td>96</td>\n",
              "      <td>0</td>\n",
              "      <td>96</td>\n",
              "    </tr>\n",
              "    <tr>\n",
              "      <th>29</th>\n",
              "      <td>Rowing</td>\n",
              "      <td>257</td>\n",
              "      <td>265</td>\n",
              "      <td>522</td>\n",
              "    </tr>\n",
              "    <tr>\n",
              "      <th>30</th>\n",
              "      <td>Rugby Sevens</td>\n",
              "      <td>146</td>\n",
              "      <td>151</td>\n",
              "      <td>297</td>\n",
              "    </tr>\n",
              "    <tr>\n",
              "      <th>31</th>\n",
              "      <td>Sailing</td>\n",
              "      <td>175</td>\n",
              "      <td>175</td>\n",
              "      <td>350</td>\n",
              "    </tr>\n",
              "    <tr>\n",
              "      <th>32</th>\n",
              "      <td>Shooting</td>\n",
              "      <td>178</td>\n",
              "      <td>178</td>\n",
              "      <td>356</td>\n",
              "    </tr>\n",
              "    <tr>\n",
              "      <th>33</th>\n",
              "      <td>Skateboarding</td>\n",
              "      <td>40</td>\n",
              "      <td>40</td>\n",
              "      <td>80</td>\n",
              "    </tr>\n",
              "    <tr>\n",
              "      <th>34</th>\n",
              "      <td>Sport Climbing</td>\n",
              "      <td>20</td>\n",
              "      <td>20</td>\n",
              "      <td>40</td>\n",
              "    </tr>\n",
              "    <tr>\n",
              "      <th>35</th>\n",
              "      <td>Surfing</td>\n",
              "      <td>20</td>\n",
              "      <td>20</td>\n",
              "      <td>40</td>\n",
              "    </tr>\n",
              "    <tr>\n",
              "      <th>36</th>\n",
              "      <td>Swimming</td>\n",
              "      <td>361</td>\n",
              "      <td>418</td>\n",
              "      <td>779</td>\n",
              "    </tr>\n",
              "    <tr>\n",
              "      <th>37</th>\n",
              "      <td>Table Tennis</td>\n",
              "      <td>86</td>\n",
              "      <td>86</td>\n",
              "      <td>172</td>\n",
              "    </tr>\n",
              "    <tr>\n",
              "      <th>38</th>\n",
              "      <td>Taekwondo</td>\n",
              "      <td>65</td>\n",
              "      <td>65</td>\n",
              "      <td>130</td>\n",
              "    </tr>\n",
              "    <tr>\n",
              "      <th>39</th>\n",
              "      <td>Tennis</td>\n",
              "      <td>94</td>\n",
              "      <td>97</td>\n",
              "      <td>191</td>\n",
              "    </tr>\n",
              "    <tr>\n",
              "      <th>40</th>\n",
              "      <td>Trampoline Gymnastics</td>\n",
              "      <td>16</td>\n",
              "      <td>16</td>\n",
              "      <td>32</td>\n",
              "    </tr>\n",
              "    <tr>\n",
              "      <th>41</th>\n",
              "      <td>Triathlon</td>\n",
              "      <td>55</td>\n",
              "      <td>55</td>\n",
              "      <td>110</td>\n",
              "    </tr>\n",
              "    <tr>\n",
              "      <th>42</th>\n",
              "      <td>Volleyball</td>\n",
              "      <td>144</td>\n",
              "      <td>144</td>\n",
              "      <td>288</td>\n",
              "    </tr>\n",
              "    <tr>\n",
              "      <th>43</th>\n",
              "      <td>Water Polo</td>\n",
              "      <td>122</td>\n",
              "      <td>146</td>\n",
              "      <td>268</td>\n",
              "    </tr>\n",
              "    <tr>\n",
              "      <th>44</th>\n",
              "      <td>Weightlifting</td>\n",
              "      <td>98</td>\n",
              "      <td>99</td>\n",
              "      <td>197</td>\n",
              "    </tr>\n",
              "    <tr>\n",
              "      <th>45</th>\n",
              "      <td>Wrestling</td>\n",
              "      <td>96</td>\n",
              "      <td>193</td>\n",
              "      <td>289</td>\n",
              "    </tr>\n",
              "  </tbody>\n",
              "</table>\n",
              "</div>"
            ],
            "text/plain": [
              "               Discipline  Female  Male  Total\n",
              "0          3x3 Basketball      32    32     64\n",
              "1                 Archery      64    64    128\n",
              "2     Artistic Gymnastics      98    98    196\n",
              "3       Artistic Swimming     105     0    105\n",
              "4               Athletics     969  1072   2041\n",
              "5               Badminton      86    87    173\n",
              "6       Baseball/Softball      90   144    234\n",
              "7              Basketball     144   144    288\n",
              "8        Beach Volleyball      48    48     96\n",
              "9                  Boxing     102   187    289\n",
              "10           Canoe Slalom      41    41     82\n",
              "11           Canoe Sprint     123   126    249\n",
              "12  Cycling BMX Freestyle      10     9     19\n",
              "13     Cycling BMX Racing      24    24     48\n",
              "14  Cycling Mountain Bike      38    38     76\n",
              "15           Cycling Road      70   131    201\n",
              "16          Cycling Track      90    99    189\n",
              "17                 Diving      72    71    143\n",
              "18             Equestrian      73   125    198\n",
              "19                Fencing     107   108    215\n",
              "20               Football     264   344    608\n",
              "21                   Golf      60    60    120\n",
              "22               Handball     168   168    336\n",
              "23                 Hockey     192   192    384\n",
              "24                   Judo     192   201    393\n",
              "25                 Karate      40    42     82\n",
              "26      Marathon Swimming      25    25     50\n",
              "27      Modern Pentathlon      36    36     72\n",
              "28    Rhythmic Gymnastics      96     0     96\n",
              "29                 Rowing     257   265    522\n",
              "30           Rugby Sevens     146   151    297\n",
              "31                Sailing     175   175    350\n",
              "32               Shooting     178   178    356\n",
              "33          Skateboarding      40    40     80\n",
              "34         Sport Climbing      20    20     40\n",
              "35                Surfing      20    20     40\n",
              "36               Swimming     361   418    779\n",
              "37           Table Tennis      86    86    172\n",
              "38              Taekwondo      65    65    130\n",
              "39                 Tennis      94    97    191\n",
              "40  Trampoline Gymnastics      16    16     32\n",
              "41              Triathlon      55    55    110\n",
              "42             Volleyball     144   144    288\n",
              "43             Water Polo     122   146    268\n",
              "44          Weightlifting      98    99    197\n",
              "45              Wrestling      96   193    289"
            ]
          },
          "metadata": {},
          "execution_count": 59
        }
      ]
    },
    {
      "cell_type": "code",
      "metadata": {
        "id": "oVaiEeWT6Cu7"
      },
      "source": [
        "df_teams = pd.read_excel(\"/content/Teams.xlsx\")"
      ],
      "execution_count": 80,
      "outputs": []
    },
    {
      "cell_type": "code",
      "metadata": {
        "colab": {
          "base_uri": "https://localhost:8080/"
        },
        "id": "hiIgdHRH6k_b",
        "outputId": "2e960968-7e28-400e-b8c4-bea215859e5e"
      },
      "source": [
        "df_teams.columns"
      ],
      "execution_count": 81,
      "outputs": [
        {
          "output_type": "execute_result",
          "data": {
            "text/plain": [
              "Index(['Name', 'Discipline', 'NOC', 'Event'], dtype='object')"
            ]
          },
          "metadata": {},
          "execution_count": 81
        }
      ]
    },
    {
      "cell_type": "code",
      "metadata": {
        "id": "g6OuSQpj6mM4"
      },
      "source": [
        "df_teams.drop('NOC',axis='columns',inplace=True)"
      ],
      "execution_count": 82,
      "outputs": []
    },
    {
      "cell_type": "code",
      "metadata": {
        "colab": {
          "base_uri": "https://localhost:8080/"
        },
        "id": "JYRhakaU7Apc",
        "outputId": "3db052bb-6540-446f-863c-a5db1d9f18bf"
      },
      "source": [
        "df_teams['Event'].value_counts()"
      ],
      "execution_count": 83,
      "outputs": [
        {
          "output_type": "execute_result",
          "data": {
            "text/plain": [
              "Men                                 120\n",
              "Women                               114\n",
              "Men's Team                           40\n",
              "Women's Team                         40\n",
              "Mixed Team                           29\n",
              "Duet                                 22\n",
              "Mixed Relay                          18\n",
              "Women's 4 x 200m Freestyle Relay     17\n",
              "Men's 4 x 100m Relay                 16\n",
              "Mixed 4 x 100m Medley Relay          16\n",
              "Men's Madison                        16\n",
              "Men's 4 x 200m Freestyle Relay       16\n",
              "Men's 4 x 100m Medley Relay          16\n",
              "Men's 4 x 100m Freestyle Relay       16\n",
              "Mixed Doubles                        16\n",
              "Men's 4 x 400m Relay                 16\n",
              "Women's 4 x 100m Freestyle Relay     16\n",
              "Women's Madison                      16\n",
              "Women's 4 x 100m Relay               16\n",
              "Women's 4 x 100m Medley Relay        16\n",
              "Women's 4 x 400m Relay               16\n",
              "4 x 400m Relay Mixed                 15\n",
              "Group All-Around                     14\n",
              "Team                                 10\n",
              "Men's Épée Team                       9\n",
              "Men's Sabre Team                      9\n",
              "Women's Sabre Team                    9\n",
              "Men's Foil Team                       9\n",
              "Men's Team Pursuit                    8\n",
              "Women's Team Sprint                   8\n",
              "Women's Foil Team                     8\n",
              "Men's Team Sprint                     8\n",
              "Women's Épée Team                     8\n",
              "Women's Team Pursuit                  8\n",
              "Baseball                              6\n",
              "Softball                              6\n",
              "Name: Event, dtype: int64"
            ]
          },
          "metadata": {},
          "execution_count": 83
        }
      ]
    },
    {
      "cell_type": "code",
      "metadata": {
        "id": "taU2hvo57KAN"
      },
      "source": [
        "team_kr=df_teams[df_teams['Name']=='Republic of Korea']\n"
      ],
      "execution_count": 84,
      "outputs": []
    },
    {
      "cell_type": "code",
      "metadata": {
        "colab": {
          "base_uri": "https://localhost:8080/"
        },
        "id": "q37B6S527k6B",
        "outputId": "4a8c3f91-0812-4a10-cead-0b4628a48814"
      },
      "source": [
        "team_kr['Event'].value_counts()"
      ],
      "execution_count": 85,
      "outputs": [
        {
          "output_type": "execute_result",
          "data": {
            "text/plain": [
              "Women                               3\n",
              "Men                                 2\n",
              "Men's Team                          2\n",
              "Women's Team                        2\n",
              "Mixed Team                          1\n",
              "Women's Sabre Team                  1\n",
              "Men's 4 x 200m Freestyle Relay      1\n",
              "Men's Sabre Team                    1\n",
              "Women's 4 x 200m Freestyle Relay    1\n",
              "Men's Épée Team                     1\n",
              "Baseball                            1\n",
              "Women's Épée Team                   1\n",
              "Name: Event, dtype: int64"
            ]
          },
          "metadata": {},
          "execution_count": 85
        }
      ]
    },
    {
      "cell_type": "code",
      "metadata": {
        "id": "qre0ORRl8sJs"
      },
      "source": [
        "df_coac = pd.read_excel(\"/content/Coaches.xlsx\")"
      ],
      "execution_count": 91,
      "outputs": []
    },
    {
      "cell_type": "code",
      "metadata": {
        "colab": {
          "base_uri": "https://localhost:8080/",
          "height": 269
        },
        "id": "mK8hrUxn9jW1",
        "outputId": "ad4aed96-7fd3-4f47-dd0d-d4e6145752bf"
      },
      "source": [
        "df_coac[df_coac['NOC']=='Republic of Korea']"
      ],
      "execution_count": 97,
      "outputs": [
        {
          "output_type": "execute_result",
          "data": {
            "text/html": [
              "<div>\n",
              "<style scoped>\n",
              "    .dataframe tbody tr th:only-of-type {\n",
              "        vertical-align: middle;\n",
              "    }\n",
              "\n",
              "    .dataframe tbody tr th {\n",
              "        vertical-align: top;\n",
              "    }\n",
              "\n",
              "    .dataframe thead th {\n",
              "        text-align: right;\n",
              "    }\n",
              "</style>\n",
              "<table border=\"1\" class=\"dataframe\">\n",
              "  <thead>\n",
              "    <tr style=\"text-align: right;\">\n",
              "      <th></th>\n",
              "      <th>Name</th>\n",
              "      <th>NOC</th>\n",
              "      <th>Discipline</th>\n",
              "      <th>Event</th>\n",
              "    </tr>\n",
              "  </thead>\n",
              "  <tbody>\n",
              "    <tr>\n",
              "      <th>61</th>\n",
              "      <td>CHOI Il Eon</td>\n",
              "      <td>Republic of Korea</td>\n",
              "      <td>Baseball/Softball</td>\n",
              "      <td>Baseball</td>\n",
              "    </tr>\n",
              "    <tr>\n",
              "      <th>62</th>\n",
              "      <td>CHUN Jooweon</td>\n",
              "      <td>Republic of Korea</td>\n",
              "      <td>Basketball</td>\n",
              "      <td>Women</td>\n",
              "    </tr>\n",
              "    <tr>\n",
              "      <th>186</th>\n",
              "      <td>KANG Jae Won</td>\n",
              "      <td>Republic of Korea</td>\n",
              "      <td>Handball</td>\n",
              "      <td>Women</td>\n",
              "    </tr>\n",
              "    <tr>\n",
              "      <th>192</th>\n",
              "      <td>KIM Chanbin</td>\n",
              "      <td>Republic of Korea</td>\n",
              "      <td>Football</td>\n",
              "      <td>NaN</td>\n",
              "    </tr>\n",
              "    <tr>\n",
              "      <th>193</th>\n",
              "      <td>KIM Hagbum</td>\n",
              "      <td>Republic of Korea</td>\n",
              "      <td>Football</td>\n",
              "      <td>Men</td>\n",
              "    </tr>\n",
              "    <tr>\n",
              "      <th>213</th>\n",
              "      <td>LAVARINI Stefano</td>\n",
              "      <td>Republic of Korea</td>\n",
              "      <td>Volleyball</td>\n",
              "      <td>Women</td>\n",
              "    </tr>\n",
              "    <tr>\n",
              "      <th>324</th>\n",
              "      <td>SEO Chun Oh</td>\n",
              "      <td>Republic of Korea</td>\n",
              "      <td>Rugby Sevens</td>\n",
              "      <td>Men</td>\n",
              "    </tr>\n",
              "  </tbody>\n",
              "</table>\n",
              "</div>"
            ],
            "text/plain": [
              "                 Name                NOC         Discipline     Event\n",
              "61        CHOI Il Eon  Republic of Korea  Baseball/Softball  Baseball\n",
              "62       CHUN Jooweon  Republic of Korea         Basketball     Women\n",
              "186      KANG Jae Won  Republic of Korea           Handball     Women\n",
              "192       KIM Chanbin  Republic of Korea           Football       NaN\n",
              "193        KIM Hagbum  Republic of Korea           Football       Men\n",
              "213  LAVARINI Stefano  Republic of Korea         Volleyball     Women\n",
              "324       SEO Chun Oh  Republic of Korea       Rugby Sevens       Men"
            ]
          },
          "metadata": {},
          "execution_count": 97
        }
      ]
    },
    {
      "cell_type": "code",
      "metadata": {
        "id": "JDvU1CSn9k-i"
      },
      "source": [
        ""
      ],
      "execution_count": null,
      "outputs": []
    }
  ]
}