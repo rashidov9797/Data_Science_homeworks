{
  "nbformat": 4,
  "nbformat_minor": 0,
  "metadata": {
    "colab": {
      "name": "DS-3-Modul-3-Amaliyot-tozalash.ipynb",
      "provenance": [],
      "collapsed_sections": [],
      "include_colab_link": true
    },
    "kernelspec": {
      "name": "python3",
      "display_name": "Python 3"
    },
    "language_info": {
      "name": "python"
    }
  },
  "cells": [
    {
      "cell_type": "markdown",
      "metadata": {
        "id": "view-in-github",
        "colab_type": "text"
      },
      "source": [
        "<a href=\"https://colab.research.google.com/github/rashidov9797/Data_Science_homeworks/blob/main/DS_3_Modul_3_Amaliyot_tozalash.ipynb\" target=\"_parent\"><img src=\"https://colab.research.google.com/assets/colab-badge.svg\" alt=\"Open In Colab\"/></a>"
      ]
    },
    {
      "cell_type": "markdown",
      "metadata": {
        "id": "poH5phdmhSLa"
      },
      "source": [
        "# ![Imgur](https://i.imgur.com/5pXzCIu.png)\n",
        "\n",
        "# **DATA SCIENCE VA SUN'IY INTELLEKT PRAKTIKUM**\n",
        "\n",
        "## 3.2 Ma'lumotlarni tayyorlash\n",
        "\n",
        "# **AMALIYOT**\n",
        "## Ma'lumotlarga ishlov berish\n",
        "\n",
        "\n",
        "\n"
      ]
    },
    {
      "cell_type": "code",
      "metadata": {
        "id": "wX08M2KIMfHY"
      },
      "source": [
        "import pandas as pd\n",
        "import numpy as np"
      ],
      "execution_count": 1,
      "outputs": []
    },
    {
      "cell_type": "code",
      "metadata": {
        "id": "E-eS1Sx-MiTH",
        "colab": {
          "base_uri": "https://localhost:8080/",
          "height": 337
        },
        "outputId": "4c26e951-5d03-48d0-edf9-2f5b0ab2aa92"
      },
      "source": [
        "df = pd.read_csv(\"https://raw.githubusercontent.com/mukhammad-irmatov/health_dataset/main/healt_info.csv\")\n",
        "df.head(3)"
      ],
      "execution_count": 47,
      "outputs": [
        {
          "output_type": "execute_result",
          "data": {
            "text/html": [
              "<div>\n",
              "<style scoped>\n",
              "    .dataframe tbody tr th:only-of-type {\n",
              "        vertical-align: middle;\n",
              "    }\n",
              "\n",
              "    .dataframe tbody tr th {\n",
              "        vertical-align: top;\n",
              "    }\n",
              "\n",
              "    .dataframe thead th {\n",
              "        text-align: right;\n",
              "    }\n",
              "</style>\n",
              "<table border=\"1\" class=\"dataframe\">\n",
              "  <thead>\n",
              "    <tr style=\"text-align: right;\">\n",
              "      <th></th>\n",
              "      <th>Sno</th>\n",
              "      <th>AGE</th>\n",
              "      <th>SEX</th>\n",
              "      <th>CASTE_NAME</th>\n",
              "      <th>CATEGORY_CODE</th>\n",
              "      <th>CATEGORY_NAME</th>\n",
              "      <th>SURGERY_CODE</th>\n",
              "      <th>SURGERY</th>\n",
              "      <th>VILLAGE</th>\n",
              "      <th>MANDAL_NAME</th>\n",
              "      <th>DISTRICT_NAME</th>\n",
              "      <th>PREAUTH_DATE</th>\n",
              "      <th>PREAUTH_AMT</th>\n",
              "      <th>CLAIM_DATE</th>\n",
              "      <th>CLAIM_AMOUNT</th>\n",
              "      <th>HOSP_NAME</th>\n",
              "      <th>HOSP_TYPE</th>\n",
              "      <th>HOSP_DISTRICT</th>\n",
              "      <th>SURGERY_DATE</th>\n",
              "      <th>DISCHARGE_DATE</th>\n",
              "      <th>Mortality Y / N</th>\n",
              "      <th>MORTALITY_DATE</th>\n",
              "      <th>SRC_REGISTRATION</th>\n",
              "    </tr>\n",
              "  </thead>\n",
              "  <tbody>\n",
              "    <tr>\n",
              "      <th>0</th>\n",
              "      <td>1</td>\n",
              "      <td>56</td>\n",
              "      <td>Female</td>\n",
              "      <td>BC</td>\n",
              "      <td>M6</td>\n",
              "      <td>NEPHROLOGY</td>\n",
              "      <td>M6.5</td>\n",
              "      <td>Maintenance Hemodialysis For Crf</td>\n",
              "      <td>Lolugu</td>\n",
              "      <td>Ponduru</td>\n",
              "      <td>Srikakulam</td>\n",
              "      <td>03-08-2013 20:38</td>\n",
              "      <td>12500</td>\n",
              "      <td>22-03-2017 20:25</td>\n",
              "      <td>11000</td>\n",
              "      <td>Rims Govt. General Hospital, Srikakulam</td>\n",
              "      <td>G</td>\n",
              "      <td>Srikakulam</td>\n",
              "      <td>06-08-2013 00:00</td>\n",
              "      <td>07-09-2013 00:00</td>\n",
              "      <td>NO</td>\n",
              "      <td>NaN</td>\n",
              "      <td>D</td>\n",
              "    </tr>\n",
              "    <tr>\n",
              "      <th>1</th>\n",
              "      <td>2</td>\n",
              "      <td>37</td>\n",
              "      <td>Male</td>\n",
              "      <td>BC</td>\n",
              "      <td>M6</td>\n",
              "      <td>NEPHROLOGY</td>\n",
              "      <td>M6.5</td>\n",
              "      <td>Maintenance Hemodialysis For Crf</td>\n",
              "      <td>Borivanka</td>\n",
              "      <td>Kaviti</td>\n",
              "      <td>Srikakulam</td>\n",
              "      <td>06-08-2013 07:26</td>\n",
              "      <td>12500</td>\n",
              "      <td>22-03-2017 20:25</td>\n",
              "      <td>11000</td>\n",
              "      <td>Rims Govt. General Hospital, Srikakulam</td>\n",
              "      <td>G</td>\n",
              "      <td>Srikakulam</td>\n",
              "      <td>08-08-2013 00:00</td>\n",
              "      <td>09-09-2013 00:00</td>\n",
              "      <td>NO</td>\n",
              "      <td>NaN</td>\n",
              "      <td>D</td>\n",
              "    </tr>\n",
              "    <tr>\n",
              "      <th>2</th>\n",
              "      <td>3</td>\n",
              "      <td>50</td>\n",
              "      <td>Male</td>\n",
              "      <td>BC</td>\n",
              "      <td>M6</td>\n",
              "      <td>NEPHROLOGY</td>\n",
              "      <td>M6.5</td>\n",
              "      <td>Maintenance Hemodialysis For Crf</td>\n",
              "      <td>Kapasakuddi</td>\n",
              "      <td>Kaviti</td>\n",
              "      <td>Srikakulam</td>\n",
              "      <td>09-08-2013 18:30</td>\n",
              "      <td>12500</td>\n",
              "      <td>22-03-2017 20:25</td>\n",
              "      <td>11500</td>\n",
              "      <td>Rims Govt. General Hospital, Srikakulam</td>\n",
              "      <td>G</td>\n",
              "      <td>Srikakulam</td>\n",
              "      <td>15-08-2013 00:00</td>\n",
              "      <td>18-10-2013 00:00</td>\n",
              "      <td>NO</td>\n",
              "      <td>NaN</td>\n",
              "      <td>D</td>\n",
              "    </tr>\n",
              "  </tbody>\n",
              "</table>\n",
              "</div>"
            ],
            "text/plain": [
              "   Sno  AGE     SEX  ... Mortality Y / N MORTALITY_DATE SRC_REGISTRATION\n",
              "0    1   56  Female  ...              NO            NaN                D\n",
              "1    2   37    Male  ...              NO            NaN                D\n",
              "2    3   50    Male  ...              NO            NaN                D\n",
              "\n",
              "[3 rows x 23 columns]"
            ]
          },
          "metadata": {},
          "execution_count": 47
        }
      ]
    },
    {
      "cell_type": "markdown",
      "metadata": {
        "id": "tsm8uZ0JMr5m"
      },
      "source": [
        "Bu dataset sug'urta kompaniyasining real ma'lumotlardan tuzilgan. Bu datasetda 480000 qator sug'urta ma'lumotlar tashkil topgan.\n",
        "Quyida datasetning ba'zi ustunlari haqida qisqacha ma'lumot\n",
        "\n",
        "*   Sno = seriya raqami \n",
        "*   AGE = yoshi\n",
        "*   SEX = jinsi (female = ayol, male = erkak)\n",
        "*   CASTE_NAME = kasta nomi (Hindistonda har bir inson ma'lum bir kastaga oid bo'ladi)\n",
        "*   CATEGORY_CODE = kategoriya kodi\n",
        "*   CATEGORY_Name = kategoriya nomi\n",
        "*   SURGERY_CODE = operatsiya kodi\n",
        "*   Mandal_Name = mandal nomlanishi ya'ni familiyasi desak ham bo'ladi\n",
        "*   Mortality Y/N = vafot etgan yoki vafot etmaganligi\n",
        "*   MORTALITY_DATE = qachon vafot etganligi\n",
        "\n",
        "\n",
        "\n"
      ]
    },
    {
      "cell_type": "markdown",
      "metadata": {
        "id": "FNLOb9yhxI0b"
      },
      "source": [
        "### **1-mashq**. Datasetdagi barcha takrorlangan qatorlar sonini toping"
      ]
    },
    {
      "cell_type": "code",
      "metadata": {
        "id": "o64K3q-UBNAm",
        "outputId": "ba64069b-2ee4-4179-c2f8-ce3c3114f8b8",
        "colab": {
          "base_uri": "https://localhost:8080/"
        }
      },
      "source": [
        "# Javobni shuyerga yozing\n",
        "\n",
        "sum(df.duplicated())\n"
      ],
      "execution_count": 48,
      "outputs": [
        {
          "output_type": "execute_result",
          "data": {
            "text/plain": [
              "0"
            ]
          },
          "metadata": {},
          "execution_count": 48
        }
      ]
    },
    {
      "cell_type": "code",
      "metadata": {
        "id": "2aiD_0BiOrsy",
        "outputId": "31c6289c-453c-4891-8384-06007ef5dc09",
        "colab": {
          "base_uri": "https://localhost:8080/"
        }
      },
      "source": [
        "#@title **To'g'ri javob**\n",
        "sum(df.duplicated())"
      ],
      "execution_count": 29,
      "outputs": [
        {
          "output_type": "execute_result",
          "data": {
            "text/plain": [
              "0"
            ]
          },
          "metadata": {},
          "execution_count": 29
        }
      ]
    },
    {
      "cell_type": "markdown",
      "metadata": {
        "id": "9GJiUd445Kr1"
      },
      "source": [
        "#### **2-mashq**. Datasetdagi quyidagi ustunlar o'chirib yuborilsin:<br>\n",
        "*   Sno\n",
        "*   CATEGORY_CODE\n",
        "*   SURGERY_CODE\n",
        "*   MANDAL_NAME\n",
        "*   DISTRICT_NAME\n",
        "*   HOSP_DISTRICT\n",
        "<BR>\n"
      ]
    },
    {
      "cell_type": "code",
      "metadata": {
        "id": "W8LCqh3466n-",
        "outputId": "bf45af7e-457a-4204-d2dd-9aabb385f5a6",
        "colab": {
          "base_uri": "https://localhost:8080/",
          "height": 504
        }
      },
      "source": [
        "# Javobni shuyerga yozing\n",
        "df.drop(['Sno','CATEGORY_CODE','SURGERY_CODE','MANDAL_NAME','DISTRICT_NAME','HOSP_DISTRICT'],axis='columns',inplace=True)\n",
        "df.head()"
      ],
      "execution_count": 49,
      "outputs": [
        {
          "output_type": "execute_result",
          "data": {
            "text/html": [
              "<div>\n",
              "<style scoped>\n",
              "    .dataframe tbody tr th:only-of-type {\n",
              "        vertical-align: middle;\n",
              "    }\n",
              "\n",
              "    .dataframe tbody tr th {\n",
              "        vertical-align: top;\n",
              "    }\n",
              "\n",
              "    .dataframe thead th {\n",
              "        text-align: right;\n",
              "    }\n",
              "</style>\n",
              "<table border=\"1\" class=\"dataframe\">\n",
              "  <thead>\n",
              "    <tr style=\"text-align: right;\">\n",
              "      <th></th>\n",
              "      <th>AGE</th>\n",
              "      <th>SEX</th>\n",
              "      <th>CASTE_NAME</th>\n",
              "      <th>CATEGORY_NAME</th>\n",
              "      <th>SURGERY</th>\n",
              "      <th>VILLAGE</th>\n",
              "      <th>PREAUTH_DATE</th>\n",
              "      <th>PREAUTH_AMT</th>\n",
              "      <th>CLAIM_DATE</th>\n",
              "      <th>CLAIM_AMOUNT</th>\n",
              "      <th>HOSP_NAME</th>\n",
              "      <th>HOSP_TYPE</th>\n",
              "      <th>SURGERY_DATE</th>\n",
              "      <th>DISCHARGE_DATE</th>\n",
              "      <th>Mortality Y / N</th>\n",
              "      <th>MORTALITY_DATE</th>\n",
              "      <th>SRC_REGISTRATION</th>\n",
              "    </tr>\n",
              "  </thead>\n",
              "  <tbody>\n",
              "    <tr>\n",
              "      <th>0</th>\n",
              "      <td>56</td>\n",
              "      <td>Female</td>\n",
              "      <td>BC</td>\n",
              "      <td>NEPHROLOGY</td>\n",
              "      <td>Maintenance Hemodialysis For Crf</td>\n",
              "      <td>Lolugu</td>\n",
              "      <td>03-08-2013 20:38</td>\n",
              "      <td>12500</td>\n",
              "      <td>22-03-2017 20:25</td>\n",
              "      <td>11000</td>\n",
              "      <td>Rims Govt. General Hospital, Srikakulam</td>\n",
              "      <td>G</td>\n",
              "      <td>06-08-2013 00:00</td>\n",
              "      <td>07-09-2013 00:00</td>\n",
              "      <td>NO</td>\n",
              "      <td>NaN</td>\n",
              "      <td>D</td>\n",
              "    </tr>\n",
              "    <tr>\n",
              "      <th>1</th>\n",
              "      <td>37</td>\n",
              "      <td>Male</td>\n",
              "      <td>BC</td>\n",
              "      <td>NEPHROLOGY</td>\n",
              "      <td>Maintenance Hemodialysis For Crf</td>\n",
              "      <td>Borivanka</td>\n",
              "      <td>06-08-2013 07:26</td>\n",
              "      <td>12500</td>\n",
              "      <td>22-03-2017 20:25</td>\n",
              "      <td>11000</td>\n",
              "      <td>Rims Govt. General Hospital, Srikakulam</td>\n",
              "      <td>G</td>\n",
              "      <td>08-08-2013 00:00</td>\n",
              "      <td>09-09-2013 00:00</td>\n",
              "      <td>NO</td>\n",
              "      <td>NaN</td>\n",
              "      <td>D</td>\n",
              "    </tr>\n",
              "    <tr>\n",
              "      <th>2</th>\n",
              "      <td>50</td>\n",
              "      <td>Male</td>\n",
              "      <td>BC</td>\n",
              "      <td>NEPHROLOGY</td>\n",
              "      <td>Maintenance Hemodialysis For Crf</td>\n",
              "      <td>Kapasakuddi</td>\n",
              "      <td>09-08-2013 18:30</td>\n",
              "      <td>12500</td>\n",
              "      <td>22-03-2017 20:25</td>\n",
              "      <td>11500</td>\n",
              "      <td>Rims Govt. General Hospital, Srikakulam</td>\n",
              "      <td>G</td>\n",
              "      <td>15-08-2013 00:00</td>\n",
              "      <td>18-10-2013 00:00</td>\n",
              "      <td>NO</td>\n",
              "      <td>NaN</td>\n",
              "      <td>D</td>\n",
              "    </tr>\n",
              "    <tr>\n",
              "      <th>3</th>\n",
              "      <td>45</td>\n",
              "      <td>Male</td>\n",
              "      <td>BC</td>\n",
              "      <td>NEPHROLOGY</td>\n",
              "      <td>Maintenance Hemodialysis For Crf</td>\n",
              "      <td>Telikipenta</td>\n",
              "      <td>24-08-2013 19:37</td>\n",
              "      <td>12500</td>\n",
              "      <td>22-03-2017 20:25</td>\n",
              "      <td>11000</td>\n",
              "      <td>Rims Govt. General Hospital, Srikakulam</td>\n",
              "      <td>G</td>\n",
              "      <td>24-08-2013 00:00</td>\n",
              "      <td>27-09-2013 00:00</td>\n",
              "      <td>NO</td>\n",
              "      <td>NaN</td>\n",
              "      <td>D</td>\n",
              "    </tr>\n",
              "    <tr>\n",
              "      <th>4</th>\n",
              "      <td>54</td>\n",
              "      <td>Male</td>\n",
              "      <td>BC</td>\n",
              "      <td>NEPHROLOGY</td>\n",
              "      <td>Maintenance Hemodialysis For Crf</td>\n",
              "      <td>Thandemvalasa</td>\n",
              "      <td>28-08-2013 17:03</td>\n",
              "      <td>12500</td>\n",
              "      <td>22-03-2017 20:25</td>\n",
              "      <td>11000</td>\n",
              "      <td>Rims Govt. General Hospital, Srikakulam</td>\n",
              "      <td>G</td>\n",
              "      <td>31-08-2013 00:00</td>\n",
              "      <td>02-10-2013 00:00</td>\n",
              "      <td>NO</td>\n",
              "      <td>NaN</td>\n",
              "      <td>D</td>\n",
              "    </tr>\n",
              "  </tbody>\n",
              "</table>\n",
              "</div>"
            ],
            "text/plain": [
              "   AGE     SEX CASTE_NAME  ... Mortality Y / N MORTALITY_DATE SRC_REGISTRATION\n",
              "0   56  Female         BC  ...              NO            NaN                D\n",
              "1   37    Male         BC  ...              NO            NaN                D\n",
              "2   50    Male         BC  ...              NO            NaN                D\n",
              "3   45    Male         BC  ...              NO            NaN                D\n",
              "4   54    Male         BC  ...              NO            NaN                D\n",
              "\n",
              "[5 rows x 17 columns]"
            ]
          },
          "metadata": {},
          "execution_count": 49
        }
      ]
    },
    {
      "cell_type": "code",
      "metadata": {
        "id": "tQmeaOg19flk"
      },
      "source": [
        "#@title **To'g'ri javob**\n",
        "df.drop(['Sno','CATEGORY_CODE','SURGERY_CODE','MANDAL_NAME','DISTRICT_NAME','HOSP_DISTRICT'],axis='columns',inplace=True)\n",
        "df"
      ],
      "execution_count": null,
      "outputs": []
    },
    {
      "cell_type": "markdown",
      "metadata": {
        "id": "wVuuU-XZO-0Y"
      },
      "source": [
        "#### **3-mashq**. Datasetdagi sex(jinsi) nomli qatordagi qiymatlarni unique funksiyasi orqali tekshiring.\n",
        "\n",
        "\n"
      ]
    },
    {
      "cell_type": "code",
      "metadata": {
        "id": "i9e_7Icu0Xms",
        "outputId": "e6eeff14-f5d1-4187-ea31-2aa35b6b6d73",
        "colab": {
          "base_uri": "https://localhost:8080/"
        }
      },
      "source": [
        "# Javobni shuyerga yozing\n",
        "df['SEX'].unique()"
      ],
      "execution_count": 50,
      "outputs": [
        {
          "output_type": "execute_result",
          "data": {
            "text/plain": [
              "array(['Female', 'Male', 'Male(Child)', 'Female(Child)', 'FEMALE'],\n",
              "      dtype=object)"
            ]
          },
          "metadata": {},
          "execution_count": 50
        }
      ]
    },
    {
      "cell_type": "code",
      "metadata": {
        "id": "Wa7bvsLs05wT"
      },
      "source": [
        "#@title **To'g'ri javob**\n",
        "df[\"SEX\"].unique()\n"
      ],
      "execution_count": null,
      "outputs": []
    },
    {
      "cell_type": "markdown",
      "metadata": {
        "id": "nfwZ0uQo1xXm"
      },
      "source": [
        "#### **4-mashq**. Datasetdagi sex(jinsi) nomli qatordagi qiymatlarni **Erkak** va **Ayol** ga o'zgartiring:\n",
        "O'zgartirish quyidagicha bo'lsin:\n",
        "\n",
        "\n",
        "*   Male -> Erkak\n",
        "*   Male(child) -> Erkak\n",
        "*   Female - > Ayol\n",
        "*   Female(child) - Ayol\n",
        "*   MALE -> Erkak\n",
        "*   FEMALE -> Ayol\n",
        "\n",
        "\n",
        "\n"
      ]
    },
    {
      "cell_type": "code",
      "metadata": {
        "id": "54IqaOmz159z",
        "outputId": "0423f862-14bd-4565-c9d6-cfec7fd17051",
        "colab": {
          "base_uri": "https://localhost:8080/",
          "height": 504
        }
      },
      "source": [
        "# Javobni shuyerga yozing\n",
        "\n",
        "dict = {\"Male\":\"Erkak\",\"Male(child)\":\"Erkak\", \"Female\":\"Ayol\",\"Female(child)\":\"Ayol\",\"MALE\":\"Erkak\",\"FEMALE\":\"Ayol\"}\n",
        "df[\"SEX\"] = df[\"SEX\"].map(dict)\n",
        "df.head()"
      ],
      "execution_count": 51,
      "outputs": [
        {
          "output_type": "execute_result",
          "data": {
            "text/html": [
              "<div>\n",
              "<style scoped>\n",
              "    .dataframe tbody tr th:only-of-type {\n",
              "        vertical-align: middle;\n",
              "    }\n",
              "\n",
              "    .dataframe tbody tr th {\n",
              "        vertical-align: top;\n",
              "    }\n",
              "\n",
              "    .dataframe thead th {\n",
              "        text-align: right;\n",
              "    }\n",
              "</style>\n",
              "<table border=\"1\" class=\"dataframe\">\n",
              "  <thead>\n",
              "    <tr style=\"text-align: right;\">\n",
              "      <th></th>\n",
              "      <th>AGE</th>\n",
              "      <th>SEX</th>\n",
              "      <th>CASTE_NAME</th>\n",
              "      <th>CATEGORY_NAME</th>\n",
              "      <th>SURGERY</th>\n",
              "      <th>VILLAGE</th>\n",
              "      <th>PREAUTH_DATE</th>\n",
              "      <th>PREAUTH_AMT</th>\n",
              "      <th>CLAIM_DATE</th>\n",
              "      <th>CLAIM_AMOUNT</th>\n",
              "      <th>HOSP_NAME</th>\n",
              "      <th>HOSP_TYPE</th>\n",
              "      <th>SURGERY_DATE</th>\n",
              "      <th>DISCHARGE_DATE</th>\n",
              "      <th>Mortality Y / N</th>\n",
              "      <th>MORTALITY_DATE</th>\n",
              "      <th>SRC_REGISTRATION</th>\n",
              "    </tr>\n",
              "  </thead>\n",
              "  <tbody>\n",
              "    <tr>\n",
              "      <th>0</th>\n",
              "      <td>56</td>\n",
              "      <td>Ayol</td>\n",
              "      <td>BC</td>\n",
              "      <td>NEPHROLOGY</td>\n",
              "      <td>Maintenance Hemodialysis For Crf</td>\n",
              "      <td>Lolugu</td>\n",
              "      <td>03-08-2013 20:38</td>\n",
              "      <td>12500</td>\n",
              "      <td>22-03-2017 20:25</td>\n",
              "      <td>11000</td>\n",
              "      <td>Rims Govt. General Hospital, Srikakulam</td>\n",
              "      <td>G</td>\n",
              "      <td>06-08-2013 00:00</td>\n",
              "      <td>07-09-2013 00:00</td>\n",
              "      <td>NO</td>\n",
              "      <td>NaN</td>\n",
              "      <td>D</td>\n",
              "    </tr>\n",
              "    <tr>\n",
              "      <th>1</th>\n",
              "      <td>37</td>\n",
              "      <td>Erkak</td>\n",
              "      <td>BC</td>\n",
              "      <td>NEPHROLOGY</td>\n",
              "      <td>Maintenance Hemodialysis For Crf</td>\n",
              "      <td>Borivanka</td>\n",
              "      <td>06-08-2013 07:26</td>\n",
              "      <td>12500</td>\n",
              "      <td>22-03-2017 20:25</td>\n",
              "      <td>11000</td>\n",
              "      <td>Rims Govt. General Hospital, Srikakulam</td>\n",
              "      <td>G</td>\n",
              "      <td>08-08-2013 00:00</td>\n",
              "      <td>09-09-2013 00:00</td>\n",
              "      <td>NO</td>\n",
              "      <td>NaN</td>\n",
              "      <td>D</td>\n",
              "    </tr>\n",
              "    <tr>\n",
              "      <th>2</th>\n",
              "      <td>50</td>\n",
              "      <td>Erkak</td>\n",
              "      <td>BC</td>\n",
              "      <td>NEPHROLOGY</td>\n",
              "      <td>Maintenance Hemodialysis For Crf</td>\n",
              "      <td>Kapasakuddi</td>\n",
              "      <td>09-08-2013 18:30</td>\n",
              "      <td>12500</td>\n",
              "      <td>22-03-2017 20:25</td>\n",
              "      <td>11500</td>\n",
              "      <td>Rims Govt. General Hospital, Srikakulam</td>\n",
              "      <td>G</td>\n",
              "      <td>15-08-2013 00:00</td>\n",
              "      <td>18-10-2013 00:00</td>\n",
              "      <td>NO</td>\n",
              "      <td>NaN</td>\n",
              "      <td>D</td>\n",
              "    </tr>\n",
              "    <tr>\n",
              "      <th>3</th>\n",
              "      <td>45</td>\n",
              "      <td>Erkak</td>\n",
              "      <td>BC</td>\n",
              "      <td>NEPHROLOGY</td>\n",
              "      <td>Maintenance Hemodialysis For Crf</td>\n",
              "      <td>Telikipenta</td>\n",
              "      <td>24-08-2013 19:37</td>\n",
              "      <td>12500</td>\n",
              "      <td>22-03-2017 20:25</td>\n",
              "      <td>11000</td>\n",
              "      <td>Rims Govt. General Hospital, Srikakulam</td>\n",
              "      <td>G</td>\n",
              "      <td>24-08-2013 00:00</td>\n",
              "      <td>27-09-2013 00:00</td>\n",
              "      <td>NO</td>\n",
              "      <td>NaN</td>\n",
              "      <td>D</td>\n",
              "    </tr>\n",
              "    <tr>\n",
              "      <th>4</th>\n",
              "      <td>54</td>\n",
              "      <td>Erkak</td>\n",
              "      <td>BC</td>\n",
              "      <td>NEPHROLOGY</td>\n",
              "      <td>Maintenance Hemodialysis For Crf</td>\n",
              "      <td>Thandemvalasa</td>\n",
              "      <td>28-08-2013 17:03</td>\n",
              "      <td>12500</td>\n",
              "      <td>22-03-2017 20:25</td>\n",
              "      <td>11000</td>\n",
              "      <td>Rims Govt. General Hospital, Srikakulam</td>\n",
              "      <td>G</td>\n",
              "      <td>31-08-2013 00:00</td>\n",
              "      <td>02-10-2013 00:00</td>\n",
              "      <td>NO</td>\n",
              "      <td>NaN</td>\n",
              "      <td>D</td>\n",
              "    </tr>\n",
              "  </tbody>\n",
              "</table>\n",
              "</div>"
            ],
            "text/plain": [
              "   AGE    SEX CASTE_NAME  ... Mortality Y / N MORTALITY_DATE SRC_REGISTRATION\n",
              "0   56   Ayol         BC  ...              NO            NaN                D\n",
              "1   37  Erkak         BC  ...              NO            NaN                D\n",
              "2   50  Erkak         BC  ...              NO            NaN                D\n",
              "3   45  Erkak         BC  ...              NO            NaN                D\n",
              "4   54  Erkak         BC  ...              NO            NaN                D\n",
              "\n",
              "[5 rows x 17 columns]"
            ]
          },
          "metadata": {},
          "execution_count": 51
        }
      ]
    },
    {
      "cell_type": "code",
      "metadata": {
        "id": "ZM7XuQc31_Z1"
      },
      "source": [
        "#@title **To'g'ri javob**\n",
        "dict = {\"Male\":\"Erkak\",\"Male(child)\":\"Erkak\", \"Female\":\"Ayol\",\"Female(child)\":\"Ayol\",\"MALE\":\"Erkak\",\"FEMALE\":\"Ayol\"}\n",
        "df[\"SEX\"] = df[\"SEX\"].map(dict)"
      ],
      "execution_count": null,
      "outputs": []
    },
    {
      "cell_type": "markdown",
      "metadata": {
        "id": "t_KWHWqj3D38"
      },
      "source": [
        "#### **5-mashq**. Endi xuddi shu SEX columndagi ma'lumotlarni raqamlarga o'zgartiring: Erkaklarni 1 raqamiga, Ayollarni 0 raqamiga o'zgartiring.\n",
        "*   Erkak -> 1\n",
        "*   Ayol -> 0"
      ]
    },
    {
      "cell_type": "code",
      "metadata": {
        "id": "CU3ygcnh3LAd",
        "outputId": "1dd90726-e8db-4efa-a39d-3821c94e7ea5",
        "colab": {
          "base_uri": "https://localhost:8080/",
          "height": 504
        }
      },
      "source": [
        "# Javobni shuyerga yozing\n",
        "\n",
        "dict2 = {'Erkak':1, 'Ayol':0}\n",
        "df[\"SEX\"] = df[\"SEX\"].map(dict2)\n",
        "df.head()"
      ],
      "execution_count": 52,
      "outputs": [
        {
          "output_type": "execute_result",
          "data": {
            "text/html": [
              "<div>\n",
              "<style scoped>\n",
              "    .dataframe tbody tr th:only-of-type {\n",
              "        vertical-align: middle;\n",
              "    }\n",
              "\n",
              "    .dataframe tbody tr th {\n",
              "        vertical-align: top;\n",
              "    }\n",
              "\n",
              "    .dataframe thead th {\n",
              "        text-align: right;\n",
              "    }\n",
              "</style>\n",
              "<table border=\"1\" class=\"dataframe\">\n",
              "  <thead>\n",
              "    <tr style=\"text-align: right;\">\n",
              "      <th></th>\n",
              "      <th>AGE</th>\n",
              "      <th>SEX</th>\n",
              "      <th>CASTE_NAME</th>\n",
              "      <th>CATEGORY_NAME</th>\n",
              "      <th>SURGERY</th>\n",
              "      <th>VILLAGE</th>\n",
              "      <th>PREAUTH_DATE</th>\n",
              "      <th>PREAUTH_AMT</th>\n",
              "      <th>CLAIM_DATE</th>\n",
              "      <th>CLAIM_AMOUNT</th>\n",
              "      <th>HOSP_NAME</th>\n",
              "      <th>HOSP_TYPE</th>\n",
              "      <th>SURGERY_DATE</th>\n",
              "      <th>DISCHARGE_DATE</th>\n",
              "      <th>Mortality Y / N</th>\n",
              "      <th>MORTALITY_DATE</th>\n",
              "      <th>SRC_REGISTRATION</th>\n",
              "    </tr>\n",
              "  </thead>\n",
              "  <tbody>\n",
              "    <tr>\n",
              "      <th>0</th>\n",
              "      <td>56</td>\n",
              "      <td>0.0</td>\n",
              "      <td>BC</td>\n",
              "      <td>NEPHROLOGY</td>\n",
              "      <td>Maintenance Hemodialysis For Crf</td>\n",
              "      <td>Lolugu</td>\n",
              "      <td>03-08-2013 20:38</td>\n",
              "      <td>12500</td>\n",
              "      <td>22-03-2017 20:25</td>\n",
              "      <td>11000</td>\n",
              "      <td>Rims Govt. General Hospital, Srikakulam</td>\n",
              "      <td>G</td>\n",
              "      <td>06-08-2013 00:00</td>\n",
              "      <td>07-09-2013 00:00</td>\n",
              "      <td>NO</td>\n",
              "      <td>NaN</td>\n",
              "      <td>D</td>\n",
              "    </tr>\n",
              "    <tr>\n",
              "      <th>1</th>\n",
              "      <td>37</td>\n",
              "      <td>1.0</td>\n",
              "      <td>BC</td>\n",
              "      <td>NEPHROLOGY</td>\n",
              "      <td>Maintenance Hemodialysis For Crf</td>\n",
              "      <td>Borivanka</td>\n",
              "      <td>06-08-2013 07:26</td>\n",
              "      <td>12500</td>\n",
              "      <td>22-03-2017 20:25</td>\n",
              "      <td>11000</td>\n",
              "      <td>Rims Govt. General Hospital, Srikakulam</td>\n",
              "      <td>G</td>\n",
              "      <td>08-08-2013 00:00</td>\n",
              "      <td>09-09-2013 00:00</td>\n",
              "      <td>NO</td>\n",
              "      <td>NaN</td>\n",
              "      <td>D</td>\n",
              "    </tr>\n",
              "    <tr>\n",
              "      <th>2</th>\n",
              "      <td>50</td>\n",
              "      <td>1.0</td>\n",
              "      <td>BC</td>\n",
              "      <td>NEPHROLOGY</td>\n",
              "      <td>Maintenance Hemodialysis For Crf</td>\n",
              "      <td>Kapasakuddi</td>\n",
              "      <td>09-08-2013 18:30</td>\n",
              "      <td>12500</td>\n",
              "      <td>22-03-2017 20:25</td>\n",
              "      <td>11500</td>\n",
              "      <td>Rims Govt. General Hospital, Srikakulam</td>\n",
              "      <td>G</td>\n",
              "      <td>15-08-2013 00:00</td>\n",
              "      <td>18-10-2013 00:00</td>\n",
              "      <td>NO</td>\n",
              "      <td>NaN</td>\n",
              "      <td>D</td>\n",
              "    </tr>\n",
              "    <tr>\n",
              "      <th>3</th>\n",
              "      <td>45</td>\n",
              "      <td>1.0</td>\n",
              "      <td>BC</td>\n",
              "      <td>NEPHROLOGY</td>\n",
              "      <td>Maintenance Hemodialysis For Crf</td>\n",
              "      <td>Telikipenta</td>\n",
              "      <td>24-08-2013 19:37</td>\n",
              "      <td>12500</td>\n",
              "      <td>22-03-2017 20:25</td>\n",
              "      <td>11000</td>\n",
              "      <td>Rims Govt. General Hospital, Srikakulam</td>\n",
              "      <td>G</td>\n",
              "      <td>24-08-2013 00:00</td>\n",
              "      <td>27-09-2013 00:00</td>\n",
              "      <td>NO</td>\n",
              "      <td>NaN</td>\n",
              "      <td>D</td>\n",
              "    </tr>\n",
              "    <tr>\n",
              "      <th>4</th>\n",
              "      <td>54</td>\n",
              "      <td>1.0</td>\n",
              "      <td>BC</td>\n",
              "      <td>NEPHROLOGY</td>\n",
              "      <td>Maintenance Hemodialysis For Crf</td>\n",
              "      <td>Thandemvalasa</td>\n",
              "      <td>28-08-2013 17:03</td>\n",
              "      <td>12500</td>\n",
              "      <td>22-03-2017 20:25</td>\n",
              "      <td>11000</td>\n",
              "      <td>Rims Govt. General Hospital, Srikakulam</td>\n",
              "      <td>G</td>\n",
              "      <td>31-08-2013 00:00</td>\n",
              "      <td>02-10-2013 00:00</td>\n",
              "      <td>NO</td>\n",
              "      <td>NaN</td>\n",
              "      <td>D</td>\n",
              "    </tr>\n",
              "  </tbody>\n",
              "</table>\n",
              "</div>"
            ],
            "text/plain": [
              "   AGE  SEX CASTE_NAME  ... Mortality Y / N MORTALITY_DATE SRC_REGISTRATION\n",
              "0   56  0.0         BC  ...              NO            NaN                D\n",
              "1   37  1.0         BC  ...              NO            NaN                D\n",
              "2   50  1.0         BC  ...              NO            NaN                D\n",
              "3   45  1.0         BC  ...              NO            NaN                D\n",
              "4   54  1.0         BC  ...              NO            NaN                D\n",
              "\n",
              "[5 rows x 17 columns]"
            ]
          },
          "metadata": {},
          "execution_count": 52
        }
      ]
    },
    {
      "cell_type": "code",
      "metadata": {
        "id": "Ou0DKvEm3ZxW",
        "outputId": "6beca318-d7d4-41c1-8148-f966bfaf930f",
        "colab": {
          "base_uri": "https://localhost:8080/",
          "height": 504
        }
      },
      "source": [
        "#@title **To'g'ri javob**\n",
        "dict2 = {'Erkak':1, 'Ayol':0}\n",
        "df[\"SEX\"] = df[\"SEX\"].map(dict2)\n",
        "df.head(5)"
      ],
      "execution_count": 35,
      "outputs": [
        {
          "output_type": "execute_result",
          "data": {
            "text/html": [
              "<div>\n",
              "<style scoped>\n",
              "    .dataframe tbody tr th:only-of-type {\n",
              "        vertical-align: middle;\n",
              "    }\n",
              "\n",
              "    .dataframe tbody tr th {\n",
              "        vertical-align: top;\n",
              "    }\n",
              "\n",
              "    .dataframe thead th {\n",
              "        text-align: right;\n",
              "    }\n",
              "</style>\n",
              "<table border=\"1\" class=\"dataframe\">\n",
              "  <thead>\n",
              "    <tr style=\"text-align: right;\">\n",
              "      <th></th>\n",
              "      <th>AGE</th>\n",
              "      <th>SEX</th>\n",
              "      <th>CASTE_NAME</th>\n",
              "      <th>CATEGORY_NAME</th>\n",
              "      <th>SURGERY</th>\n",
              "      <th>VILLAGE</th>\n",
              "      <th>PREAUTH_DATE</th>\n",
              "      <th>PREAUTH_AMT</th>\n",
              "      <th>CLAIM_DATE</th>\n",
              "      <th>CLAIM_AMOUNT</th>\n",
              "      <th>HOSP_NAME</th>\n",
              "      <th>HOSP_TYPE</th>\n",
              "      <th>SURGERY_DATE</th>\n",
              "      <th>DISCHARGE_DATE</th>\n",
              "      <th>Mortality Y / N</th>\n",
              "      <th>MORTALITY_DATE</th>\n",
              "      <th>SRC_REGISTRATION</th>\n",
              "    </tr>\n",
              "  </thead>\n",
              "  <tbody>\n",
              "    <tr>\n",
              "      <th>0</th>\n",
              "      <td>56</td>\n",
              "      <td>NaN</td>\n",
              "      <td>BC</td>\n",
              "      <td>NEPHROLOGY</td>\n",
              "      <td>Maintenance Hemodialysis For Crf</td>\n",
              "      <td>Lolugu</td>\n",
              "      <td>03-08-2013 20:38</td>\n",
              "      <td>12500</td>\n",
              "      <td>22-03-2017 20:25</td>\n",
              "      <td>11000</td>\n",
              "      <td>Rims Govt. General Hospital, Srikakulam</td>\n",
              "      <td>G</td>\n",
              "      <td>06-08-2013 00:00</td>\n",
              "      <td>07-09-2013 00:00</td>\n",
              "      <td>NO</td>\n",
              "      <td>NaN</td>\n",
              "      <td>D</td>\n",
              "    </tr>\n",
              "    <tr>\n",
              "      <th>1</th>\n",
              "      <td>37</td>\n",
              "      <td>NaN</td>\n",
              "      <td>BC</td>\n",
              "      <td>NEPHROLOGY</td>\n",
              "      <td>Maintenance Hemodialysis For Crf</td>\n",
              "      <td>Borivanka</td>\n",
              "      <td>06-08-2013 07:26</td>\n",
              "      <td>12500</td>\n",
              "      <td>22-03-2017 20:25</td>\n",
              "      <td>11000</td>\n",
              "      <td>Rims Govt. General Hospital, Srikakulam</td>\n",
              "      <td>G</td>\n",
              "      <td>08-08-2013 00:00</td>\n",
              "      <td>09-09-2013 00:00</td>\n",
              "      <td>NO</td>\n",
              "      <td>NaN</td>\n",
              "      <td>D</td>\n",
              "    </tr>\n",
              "    <tr>\n",
              "      <th>2</th>\n",
              "      <td>50</td>\n",
              "      <td>NaN</td>\n",
              "      <td>BC</td>\n",
              "      <td>NEPHROLOGY</td>\n",
              "      <td>Maintenance Hemodialysis For Crf</td>\n",
              "      <td>Kapasakuddi</td>\n",
              "      <td>09-08-2013 18:30</td>\n",
              "      <td>12500</td>\n",
              "      <td>22-03-2017 20:25</td>\n",
              "      <td>11500</td>\n",
              "      <td>Rims Govt. General Hospital, Srikakulam</td>\n",
              "      <td>G</td>\n",
              "      <td>15-08-2013 00:00</td>\n",
              "      <td>18-10-2013 00:00</td>\n",
              "      <td>NO</td>\n",
              "      <td>NaN</td>\n",
              "      <td>D</td>\n",
              "    </tr>\n",
              "    <tr>\n",
              "      <th>3</th>\n",
              "      <td>45</td>\n",
              "      <td>NaN</td>\n",
              "      <td>BC</td>\n",
              "      <td>NEPHROLOGY</td>\n",
              "      <td>Maintenance Hemodialysis For Crf</td>\n",
              "      <td>Telikipenta</td>\n",
              "      <td>24-08-2013 19:37</td>\n",
              "      <td>12500</td>\n",
              "      <td>22-03-2017 20:25</td>\n",
              "      <td>11000</td>\n",
              "      <td>Rims Govt. General Hospital, Srikakulam</td>\n",
              "      <td>G</td>\n",
              "      <td>24-08-2013 00:00</td>\n",
              "      <td>27-09-2013 00:00</td>\n",
              "      <td>NO</td>\n",
              "      <td>NaN</td>\n",
              "      <td>D</td>\n",
              "    </tr>\n",
              "    <tr>\n",
              "      <th>4</th>\n",
              "      <td>54</td>\n",
              "      <td>NaN</td>\n",
              "      <td>BC</td>\n",
              "      <td>NEPHROLOGY</td>\n",
              "      <td>Maintenance Hemodialysis For Crf</td>\n",
              "      <td>Thandemvalasa</td>\n",
              "      <td>28-08-2013 17:03</td>\n",
              "      <td>12500</td>\n",
              "      <td>22-03-2017 20:25</td>\n",
              "      <td>11000</td>\n",
              "      <td>Rims Govt. General Hospital, Srikakulam</td>\n",
              "      <td>G</td>\n",
              "      <td>31-08-2013 00:00</td>\n",
              "      <td>02-10-2013 00:00</td>\n",
              "      <td>NO</td>\n",
              "      <td>NaN</td>\n",
              "      <td>D</td>\n",
              "    </tr>\n",
              "  </tbody>\n",
              "</table>\n",
              "</div>"
            ],
            "text/plain": [
              "   AGE  SEX CASTE_NAME  ... Mortality Y / N MORTALITY_DATE SRC_REGISTRATION\n",
              "0   56  NaN         BC  ...              NO            NaN                D\n",
              "1   37  NaN         BC  ...              NO            NaN                D\n",
              "2   50  NaN         BC  ...              NO            NaN                D\n",
              "3   45  NaN         BC  ...              NO            NaN                D\n",
              "4   54  NaN         BC  ...              NO            NaN                D\n",
              "\n",
              "[5 rows x 17 columns]"
            ]
          },
          "metadata": {},
          "execution_count": 35
        }
      ]
    },
    {
      "cell_type": "markdown",
      "metadata": {
        "id": "i4n7ulS75WA4"
      },
      "source": [
        "#### **6-mashq**. Shu jarayonni HOSP_TYPE ustuni uchun ham amalga oshiring. \n",
        "*   G - General hospital (umumiy kasalxona) degani\n",
        "*   C - Special hospital (maxsus kasalxona) degani\n",
        "<br><b>O'zgarish quyidagicha bo'lsin:</b>\n",
        "*   G -> Umumiy \n",
        "*   C -> Maxsus\n"
      ]
    },
    {
      "cell_type": "code",
      "metadata": {
        "id": "BEokSEre43GK"
      },
      "source": [
        "# Javobni shuyerga yozing\n",
        "\n",
        "df[\"HOSP_TYPE\"] = df[\"HOSP_TYPE\"].map({'G':\"Umumiy\", 'C':\"Maxsus\"})\n"
      ],
      "execution_count": 53,
      "outputs": []
    },
    {
      "cell_type": "code",
      "metadata": {
        "id": "ALhBzKu35lBb"
      },
      "source": [
        "#@title **To'g'ri javob**\n",
        "df[\"HOSP_TYPE\"] = df[\"HOSP_TYPE\"].map({'G':\"Umumiy\", 'C':\"Maxsus\"})\n"
      ],
      "execution_count": 45,
      "outputs": []
    },
    {
      "cell_type": "markdown",
      "metadata": {
        "id": "4YozaezB4qqa"
      },
      "source": [
        "#### **7-mashq**. O'zgartirish amalga oshirilgach, HOSP_TYPE ustunida qancha Umumiy va qancha Maxsus kasalxonalar borligini ham aniqlang\n"
      ]
    },
    {
      "cell_type": "code",
      "metadata": {
        "id": "XNa8b4s25IUN",
        "outputId": "492cfd8e-50ce-4dec-ab6d-77812b98abf2",
        "colab": {
          "base_uri": "https://localhost:8080/"
        }
      },
      "source": [
        "# Javobni shuyerga yozing\n",
        "\n",
        "df['HOSP_TYPE'].value_counts()"
      ],
      "execution_count": 54,
      "outputs": [
        {
          "output_type": "execute_result",
          "data": {
            "text/plain": [
              "Maxsus    241139\n",
              "Umumiy     94255\n",
              "Name: HOSP_TYPE, dtype: int64"
            ]
          },
          "metadata": {},
          "execution_count": 54
        }
      ]
    },
    {
      "cell_type": "code",
      "metadata": {
        "id": "j472LUxgU0P-"
      },
      "source": [
        "#@title **To'g'ri javob**\n",
        "df[\"HOSP_TYPE\"].value_counts()"
      ],
      "execution_count": null,
      "outputs": []
    },
    {
      "cell_type": "markdown",
      "metadata": {
        "id": "kEr2LYiJ_I-k"
      },
      "source": [
        "#### **8-mashq**. Datasetda qancha takrorlangan qatorlar borligini aniqlang  \n"
      ]
    },
    {
      "cell_type": "code",
      "metadata": {
        "id": "7EzWPhDZ_i5o",
        "outputId": "04d8f967-af56-430a-de81-fedb5f0bb128",
        "colab": {
          "base_uri": "https://localhost:8080/"
        }
      },
      "source": [
        "# Javobni shuyerga yozing\n",
        "\n",
        "sum(df.duplicated())"
      ],
      "execution_count": 55,
      "outputs": [
        {
          "output_type": "execute_result",
          "data": {
            "text/plain": [
              "32"
            ]
          },
          "metadata": {},
          "execution_count": 55
        }
      ]
    },
    {
      "cell_type": "code",
      "metadata": {
        "id": "J3yF9CKM5eTs"
      },
      "source": [
        "#@title **To'g'ri javob**\n",
        "sum(df.duplicated())"
      ],
      "execution_count": null,
      "outputs": []
    },
    {
      "cell_type": "markdown",
      "metadata": {
        "id": "6gphfgtd_nJK"
      },
      "source": [
        "#### **9-mashq**. Datasetda barcha takrorlangan qatorlarni o'chirib yuboring  \n"
      ]
    },
    {
      "cell_type": "code",
      "metadata": {
        "id": "DdsEuZXg_tEd"
      },
      "source": [
        "# Javobni shuyerga yozing\n",
        "\n",
        "df.drop_duplicates(inplace=True)"
      ],
      "execution_count": 56,
      "outputs": []
    },
    {
      "cell_type": "code",
      "metadata": {
        "id": "sy_c4uyI_t6f"
      },
      "source": [
        "#@title **To'g'ri javob**\n",
        "df.drop_duplicates(inplace=True)"
      ],
      "execution_count": null,
      "outputs": []
    },
    {
      "cell_type": "markdown",
      "metadata": {
        "id": "bN26F9LP_2RE"
      },
      "source": [
        "#### **10-mashq**. Datasetdan shifoxona turiga ko'ra (umumiy va maxsus), ClAIM_AMOUNTning o'rtacha qiymatlarini toping.\n"
      ]
    },
    {
      "cell_type": "code",
      "metadata": {
        "id": "t2NcocXLFI78",
        "outputId": "d982434f-615b-4b76-8522-fed9d74a2aed",
        "colab": {
          "base_uri": "https://localhost:8080/"
        }
      },
      "source": [
        "# Javobni shuyerga yozing\n",
        "\n",
        "df.groupby('HOSP_TYPE').CLAIM_AMOUNT.mean()"
      ],
      "execution_count": 57,
      "outputs": [
        {
          "output_type": "execute_result",
          "data": {
            "text/plain": [
              "HOSP_TYPE\n",
              "Maxsus    30275.151848\n",
              "Umumiy    22683.614852\n",
              "Name: CLAIM_AMOUNT, dtype: float64"
            ]
          },
          "metadata": {},
          "execution_count": 57
        }
      ]
    },
    {
      "cell_type": "code",
      "metadata": {
        "id": "vpa7vDJWAc6u"
      },
      "source": [
        "#@title **To'g'ri javob**\n",
        "df.groupby('HOSP_TYPE').CLAIM_AMOUNT.mean()\n"
      ],
      "execution_count": null,
      "outputs": []
    },
    {
      "cell_type": "markdown",
      "metadata": {
        "id": "7QnvZvW6F3Su"
      },
      "source": [
        "#### **11-mashq**. Datasetdan shifoxona turiga ko'ra (umumiy va maxsus), ClAIM_AMOUNTning minimum qiymatlarini toping.\n"
      ]
    },
    {
      "cell_type": "code",
      "metadata": {
        "id": "5K42PI7tF0On",
        "outputId": "2cf9805c-01c0-4ac9-a43b-24eb2cb8deb6",
        "colab": {
          "base_uri": "https://localhost:8080/"
        }
      },
      "source": [
        "# Javobni shuyerga yozing\n",
        "df.groupby('HOSP_TYPE').CLAIM_AMOUNT.min()"
      ],
      "execution_count": 58,
      "outputs": [
        {
          "output_type": "execute_result",
          "data": {
            "text/plain": [
              "HOSP_TYPE\n",
              "Maxsus    2\n",
              "Umumiy    2\n",
              "Name: CLAIM_AMOUNT, dtype: int64"
            ]
          },
          "metadata": {},
          "execution_count": 58
        }
      ]
    },
    {
      "cell_type": "code",
      "metadata": {
        "id": "znwYPfq5F0Sy"
      },
      "source": [
        "#@title **To'g'ri javob**\n",
        "df.groupby('HOSP_TYPE').CLAIM_AMOUNT.min()"
      ],
      "execution_count": null,
      "outputs": []
    },
    {
      "cell_type": "markdown",
      "metadata": {
        "id": "KQKllXlaF5D7"
      },
      "source": [
        "#### **12-mashq**. Datasetdan shifoxona turiga ko'ra (umumiy va maxsus), CLAIM_AMOUNTning maksimum qiymatlarini toping.\n"
      ]
    },
    {
      "cell_type": "code",
      "metadata": {
        "id": "7RNQVzsCF8-m",
        "outputId": "15c54f51-89bd-4794-b744-8a3dec56f151",
        "colab": {
          "base_uri": "https://localhost:8080/"
        }
      },
      "source": [
        "# Javobni shuyerga yozing\n",
        "df.groupby('HOSP_TYPE').CLAIM_AMOUNT.max()\n"
      ],
      "execution_count": 59,
      "outputs": [
        {
          "output_type": "execute_result",
          "data": {
            "text/plain": [
              "HOSP_TYPE\n",
              "Maxsus    520000\n",
              "Umumiy    520000\n",
              "Name: CLAIM_AMOUNT, dtype: int64"
            ]
          },
          "metadata": {},
          "execution_count": 59
        }
      ]
    },
    {
      "cell_type": "code",
      "metadata": {
        "id": "PM-8O6dZF-c_"
      },
      "source": [
        "#@title **To'g'ri javob**\n",
        "df.groupby('HOSP_TYPE').CLAIM_AMOUNT.max()"
      ],
      "execution_count": null,
      "outputs": []
    },
    {
      "cell_type": "markdown",
      "metadata": {
        "id": "JhL3fPU4HJkK"
      },
      "source": [
        ".agg() yordamida istalgan funksiyalarni chaqirishimiz mumkin, misol uchun numpy dagi mean (o'rta qiymat) funiksiyasini ham qo'shamiz. Natijalarni faqat price ustuni uchun chiqaramiz:"
      ]
    },
    {
      "cell_type": "markdown",
      "metadata": {
        "id": "ZaAwTY8RHLBB"
      },
      "source": [
        "#### **13-mashq**. Datasetdan jinsiga ko'ra CLAIM_AMOUNTning min, max va o'rta qiymatlarni agg() usuli yordamida toping.\n",
        "\n"
      ]
    },
    {
      "cell_type": "code",
      "metadata": {
        "id": "-X_HduSGH00I",
        "outputId": "dcbb9812-51db-47f1-844b-34ac3b693f1d",
        "colab": {
          "base_uri": "https://localhost:8080/",
          "height": 144
        }
      },
      "source": [
        "# Javobni shuyerga yozing\n",
        "\n",
        "df.groupby('SEX').CLAIM_AMOUNT.agg([min, max, np.mean])"
      ],
      "execution_count": 60,
      "outputs": [
        {
          "output_type": "execute_result",
          "data": {
            "text/html": [
              "<div>\n",
              "<style scoped>\n",
              "    .dataframe tbody tr th:only-of-type {\n",
              "        vertical-align: middle;\n",
              "    }\n",
              "\n",
              "    .dataframe tbody tr th {\n",
              "        vertical-align: top;\n",
              "    }\n",
              "\n",
              "    .dataframe thead th {\n",
              "        text-align: right;\n",
              "    }\n",
              "</style>\n",
              "<table border=\"1\" class=\"dataframe\">\n",
              "  <thead>\n",
              "    <tr style=\"text-align: right;\">\n",
              "      <th></th>\n",
              "      <th>min</th>\n",
              "      <th>max</th>\n",
              "      <th>mean</th>\n",
              "    </tr>\n",
              "    <tr>\n",
              "      <th>SEX</th>\n",
              "      <th></th>\n",
              "      <th></th>\n",
              "      <th></th>\n",
              "    </tr>\n",
              "  </thead>\n",
              "  <tbody>\n",
              "    <tr>\n",
              "      <th>0.0</th>\n",
              "      <td>2</td>\n",
              "      <td>210000</td>\n",
              "      <td>25554.716182</td>\n",
              "    </tr>\n",
              "    <tr>\n",
              "      <th>1.0</th>\n",
              "      <td>2</td>\n",
              "      <td>205000</td>\n",
              "      <td>29636.456810</td>\n",
              "    </tr>\n",
              "  </tbody>\n",
              "</table>\n",
              "</div>"
            ],
            "text/plain": [
              "     min     max          mean\n",
              "SEX                           \n",
              "0.0    2  210000  25554.716182\n",
              "1.0    2  205000  29636.456810"
            ]
          },
          "metadata": {},
          "execution_count": 60
        }
      ]
    },
    {
      "cell_type": "code",
      "metadata": {
        "id": "3372GXlAHsvB"
      },
      "source": [
        "#@title **To'g'ri javob**\n",
        "df.groupby('SEX').CLAIM_AMOUNT.agg([min, max, np.mean])\n"
      ],
      "execution_count": null,
      "outputs": []
    }
  ]
}